{
 "cells": [
  {
   "cell_type": "code",
   "execution_count": 1,
   "id": "e0cd1a64-2145-4899-b1b5-7f4dbe0d2fd4",
   "metadata": {},
   "outputs": [],
   "source": [
    "import pandas as pd"
   ]
  },
  {
   "cell_type": "code",
   "execution_count": 2,
   "id": "972e3f4e-0508-4c44-b03c-dbc31eeea58d",
   "metadata": {},
   "outputs": [],
   "source": [
    "df = pd.read_csv('datafiles/cinema.csv')"
   ]
  },
  {
   "cell_type": "code",
   "execution_count": 3,
   "id": "48e5b8a9-d0da-48e7-a58d-1424927f1c51",
   "metadata": {},
   "outputs": [
    {
     "data": {
      "text/html": [
       "<div>\n",
       "<style scoped>\n",
       "    .dataframe tbody tr th:only-of-type {\n",
       "        vertical-align: middle;\n",
       "    }\n",
       "\n",
       "    .dataframe tbody tr th {\n",
       "        vertical-align: top;\n",
       "    }\n",
       "\n",
       "    .dataframe thead th {\n",
       "        text-align: right;\n",
       "    }\n",
       "</style>\n",
       "<table border=\"1\" class=\"dataframe\">\n",
       "  <thead>\n",
       "    <tr style=\"text-align: right;\">\n",
       "      <th></th>\n",
       "      <th>cinema_id</th>\n",
       "      <th>SNS1</th>\n",
       "      <th>SNS2</th>\n",
       "      <th>actor</th>\n",
       "      <th>original</th>\n",
       "      <th>sales</th>\n",
       "    </tr>\n",
       "  </thead>\n",
       "  <tbody>\n",
       "    <tr>\n",
       "      <th>0</th>\n",
       "      <td>1375</td>\n",
       "      <td>291.0</td>\n",
       "      <td>1044</td>\n",
       "      <td>8808.994029</td>\n",
       "      <td>0</td>\n",
       "      <td>9731</td>\n",
       "    </tr>\n",
       "    <tr>\n",
       "      <th>1</th>\n",
       "      <td>1000</td>\n",
       "      <td>363.0</td>\n",
       "      <td>568</td>\n",
       "      <td>10290.709370</td>\n",
       "      <td>1</td>\n",
       "      <td>10210</td>\n",
       "    </tr>\n",
       "    <tr>\n",
       "      <th>2</th>\n",
       "      <td>1390</td>\n",
       "      <td>158.0</td>\n",
       "      <td>431</td>\n",
       "      <td>6340.388534</td>\n",
       "      <td>1</td>\n",
       "      <td>8227</td>\n",
       "    </tr>\n",
       "    <tr>\n",
       "      <th>3</th>\n",
       "      <td>1499</td>\n",
       "      <td>261.0</td>\n",
       "      <td>578</td>\n",
       "      <td>8250.485081</td>\n",
       "      <td>0</td>\n",
       "      <td>9658</td>\n",
       "    </tr>\n",
       "    <tr>\n",
       "      <th>4</th>\n",
       "      <td>1164</td>\n",
       "      <td>209.0</td>\n",
       "      <td>683</td>\n",
       "      <td>10908.539550</td>\n",
       "      <td>0</td>\n",
       "      <td>9286</td>\n",
       "    </tr>\n",
       "  </tbody>\n",
       "</table>\n",
       "</div>"
      ],
      "text/plain": [
       "   cinema_id   SNS1  SNS2         actor  original  sales\n",
       "0       1375  291.0  1044   8808.994029         0   9731\n",
       "1       1000  363.0   568  10290.709370         1  10210\n",
       "2       1390  158.0   431   6340.388534         1   8227\n",
       "3       1499  261.0   578   8250.485081         0   9658\n",
       "4       1164  209.0   683  10908.539550         0   9286"
      ]
     },
     "execution_count": 3,
     "metadata": {},
     "output_type": "execute_result"
    }
   ],
   "source": [
    "df.head()"
   ]
  },
  {
   "cell_type": "code",
   "execution_count": 4,
   "id": "99a34a08-0108-4d06-ba45-8f9dd7d0c247",
   "metadata": {},
   "outputs": [
    {
     "data": {
      "text/plain": [
       "cinema_id    False\n",
       "SNS1          True\n",
       "SNS2         False\n",
       "actor         True\n",
       "original     False\n",
       "sales        False\n",
       "dtype: bool"
      ]
     },
     "execution_count": 4,
     "metadata": {},
     "output_type": "execute_result"
    }
   ],
   "source": [
    "df.isnull().any(axis=0)"
   ]
  },
  {
   "cell_type": "code",
   "execution_count": 5,
   "id": "4d6e0e3b-ef88-49c6-964b-ed8a942a57c7",
   "metadata": {},
   "outputs": [],
   "source": [
    "df2 = df.fillna(df.mean())"
   ]
  },
  {
   "cell_type": "code",
   "execution_count": 6,
   "id": "2a375f29-f089-4ce4-a68e-2bc8e0476060",
   "metadata": {},
   "outputs": [
    {
     "data": {
      "text/plain": [
       "cinema_id    False\n",
       "SNS1         False\n",
       "SNS2         False\n",
       "actor        False\n",
       "original     False\n",
       "sales        False\n",
       "dtype: bool"
      ]
     },
     "execution_count": 6,
     "metadata": {},
     "output_type": "execute_result"
    }
   ],
   "source": [
    "df2.isnull().any(axis=0)"
   ]
  },
  {
   "cell_type": "code",
   "execution_count": 7,
   "id": "be4841bd-f5cc-4079-bdd6-cdbe70131e43",
   "metadata": {},
   "outputs": [],
   "source": [
    "%matplotlib inline"
   ]
  },
  {
   "cell_type": "code",
   "execution_count": 9,
   "id": "d7b3d3db-ee52-4879-9030-eafeaac870fc",
   "metadata": {},
   "outputs": [
    {
     "data": {
      "text/plain": [
       "<AxesSubplot:xlabel='SNS2', ylabel='sales'>"
      ]
     },
     "execution_count": 9,
     "metadata": {},
     "output_type": "execute_result"
    },
    {
     "data": {
      "image/png": "[encoded data removed]",
      "text/plain": [
       "<Figure size 432x288 with 1 Axes>"
      ]
     },
     "metadata": {
      "needs_background": "light"
     },
     "output_type": "display_data"
    }
   ],
   "source": [
    "df2.plot(kind = 'scatter', x = 'SNS2',y='sales')"
   ]
  },
  {
   "cell_type": "code",
   "execution_count": 11,
   "id": "49876ff9-36df-4ef9-a090-5dc6635de613",
   "metadata": {},
   "outputs": [
    {
     "data": {
      "image/png": "[encoded data removed]",
      "text/plain": [
       "<Figure size 432x288 with 1 Axes>"
      ]
     },
     "metadata": {
      "needs_background": "light"
     },
     "output_type": "display_data"
    },
    {
     "data": {
      "image/png": "[encoded data removed]",
      "text/plain": [
       "<Figure size 432x288 with 1 Axes>"
      ]
     },
     "metadata": {
      "needs_background": "light"
     },
     "output_type": "display_data"
    },
    {
     "data": {
      "image/png": "[encoded data removed]",
      "text/plain": [
       "<Figure size 432x288 with 1 Axes>"
      ]
     },
     "metadata": {
      "needs_background": "light"
     },
     "output_type": "display_data"
    },
    {
     "data": {
      "image/png": "[encoded data removed]",
      "text/plain": [
       "<Figure size 432x288 with 1 Axes>"
      ]
     },
     "metadata": {
      "needs_background": "light"
     },
     "output_type": "display_data"
    }
   ],
   "source": [
    "for name in df.columns:\n",
    "    if name == 'cinema_id' or name == 'sales':\n",
    "        continue\n",
    "    df2.plot(kind= 'scatter', x = name, y = 'sales')"
   ]
  },
  {
   "cell_type": "code",
   "execution_count": 12,
   "id": "ce867ad1-2304-4369-9a1f-643c94a0206a",
   "metadata": {},
   "outputs": [
    {
     "data": {
      "text/html": [
       "<div>\n",
       "<style scoped>\n",
       "    .dataframe tbody tr th:only-of-type {\n",
       "        vertical-align: middle;\n",
       "    }\n",
       "\n",
       "    .dataframe tbody tr th {\n",
       "        vertical-align: top;\n",
       "    }\n",
       "\n",
       "    .dataframe thead th {\n",
       "        text-align: right;\n",
       "    }\n",
       "</style>\n",
       "<table border=\"1\" class=\"dataframe\">\n",
       "  <thead>\n",
       "    <tr style=\"text-align: right;\">\n",
       "      <th></th>\n",
       "      <th>cinema_id</th>\n",
       "      <th>SNS1</th>\n",
       "      <th>SNS2</th>\n",
       "      <th>actor</th>\n",
       "      <th>original</th>\n",
       "      <th>sales</th>\n",
       "    </tr>\n",
       "  </thead>\n",
       "  <tbody>\n",
       "    <tr>\n",
       "      <th>30</th>\n",
       "      <td>1855</td>\n",
       "      <td>149.0</td>\n",
       "      <td>1200</td>\n",
       "      <td>8173.096892</td>\n",
       "      <td>0</td>\n",
       "      <td>8000</td>\n",
       "    </tr>\n",
       "  </tbody>\n",
       "</table>\n",
       "</div>"
      ],
      "text/plain": [
       "    cinema_id   SNS1  SNS2        actor  original  sales\n",
       "30       1855  149.0  1200  8173.096892         0   8000"
      ]
     },
     "execution_count": 12,
     "metadata": {},
     "output_type": "execute_result"
    }
   ],
   "source": [
    "df[(df['SNS2'] > 1000 ) & (df['sales'] < 8500)]"
   ]
  },
  {
   "cell_type": "code",
   "execution_count": 15,
   "id": "36405742-0459-48a7-ae16-f3b884ab4d7f",
   "metadata": {},
   "outputs": [],
   "source": [
    "no = df2[(df2['SNS2'] > 1000) & (df2['sales'] < 8500)].index"
   ]
  },
  {
   "cell_type": "code",
   "execution_count": 14,
   "id": "7f599a51-877c-4277-ab4f-7865c57cbe1d",
   "metadata": {},
   "outputs": [
    {
     "data": {
      "text/html": [
       "<div>\n",
       "<style scoped>\n",
       "    .dataframe tbody tr th:only-of-type {\n",
       "        vertical-align: middle;\n",
       "    }\n",
       "\n",
       "    .dataframe tbody tr th {\n",
       "        vertical-align: top;\n",
       "    }\n",
       "\n",
       "    .dataframe thead th {\n",
       "        text-align: right;\n",
       "    }\n",
       "</style>\n",
       "<table border=\"1\" class=\"dataframe\">\n",
       "  <thead>\n",
       "    <tr style=\"text-align: right;\">\n",
       "      <th></th>\n",
       "      <th>cinema_id</th>\n",
       "      <th>SNS1</th>\n",
       "      <th>SNS2</th>\n",
       "      <th>actor</th>\n",
       "      <th>original</th>\n",
       "      <th>sales</th>\n",
       "    </tr>\n",
       "  </thead>\n",
       "  <tbody>\n",
       "    <tr>\n",
       "      <th>30</th>\n",
       "      <td>1855</td>\n",
       "      <td>149.0</td>\n",
       "      <td>1200</td>\n",
       "      <td>8173.096892</td>\n",
       "      <td>0</td>\n",
       "      <td>8000</td>\n",
       "    </tr>\n",
       "  </tbody>\n",
       "</table>\n",
       "</div>"
      ],
      "text/plain": [
       "    cinema_id   SNS1  SNS2        actor  original  sales\n",
       "30       1855  149.0  1200  8173.096892         0   8000"
      ]
     },
     "execution_count": 14,
     "metadata": {},
     "output_type": "execute_result"
    }
   ],
   "source": [
    "no "
   ]
  },
  {
   "cell_type": "code",
   "execution_count": 16,
   "id": "2c328684-1eaa-4a02-a03f-1deb899544b0",
   "metadata": {},
   "outputs": [
    {
     "data": {
      "text/plain": [
       "Int64Index([30], dtype='int64')"
      ]
     },
     "execution_count": 16,
     "metadata": {},
     "output_type": "execute_result"
    }
   ],
   "source": [
    "no"
   ]
  },
  {
   "cell_type": "code",
   "execution_count": 17,
   "id": "0b595814-563f-42ee-aa4e-528eb29c173e",
   "metadata": {},
   "outputs": [],
   "source": [
    "df3 = df2.drop(0)"
   ]
  },
  {
   "cell_type": "code",
   "execution_count": 18,
   "id": "8be64841-a941-42a8-876c-c96f7880e0ac",
   "metadata": {},
   "outputs": [
    {
     "data": {
      "text/html": [
       "<div>\n",
       "<style scoped>\n",
       "    .dataframe tbody tr th:only-of-type {\n",
       "        vertical-align: middle;\n",
       "    }\n",
       "\n",
       "    .dataframe tbody tr th {\n",
       "        vertical-align: top;\n",
       "    }\n",
       "\n",
       "    .dataframe thead th {\n",
       "        text-align: right;\n",
       "    }\n",
       "</style>\n",
       "<table border=\"1\" class=\"dataframe\">\n",
       "  <thead>\n",
       "    <tr style=\"text-align: right;\">\n",
       "      <th></th>\n",
       "      <th>cinema_id</th>\n",
       "      <th>SNS1</th>\n",
       "      <th>SNS2</th>\n",
       "      <th>actor</th>\n",
       "      <th>original</th>\n",
       "      <th>sales</th>\n",
       "    </tr>\n",
       "  </thead>\n",
       "  <tbody>\n",
       "    <tr>\n",
       "      <th>1</th>\n",
       "      <td>1000</td>\n",
       "      <td>363.000000</td>\n",
       "      <td>568</td>\n",
       "      <td>10290.709370</td>\n",
       "      <td>1</td>\n",
       "      <td>10210</td>\n",
       "    </tr>\n",
       "    <tr>\n",
       "      <th>2</th>\n",
       "      <td>1390</td>\n",
       "      <td>158.000000</td>\n",
       "      <td>431</td>\n",
       "      <td>6340.388534</td>\n",
       "      <td>1</td>\n",
       "      <td>8227</td>\n",
       "    </tr>\n",
       "    <tr>\n",
       "      <th>3</th>\n",
       "      <td>1499</td>\n",
       "      <td>261.000000</td>\n",
       "      <td>578</td>\n",
       "      <td>8250.485081</td>\n",
       "      <td>0</td>\n",
       "      <td>9658</td>\n",
       "    </tr>\n",
       "    <tr>\n",
       "      <th>4</th>\n",
       "      <td>1164</td>\n",
       "      <td>209.000000</td>\n",
       "      <td>683</td>\n",
       "      <td>10908.539550</td>\n",
       "      <td>0</td>\n",
       "      <td>9286</td>\n",
       "    </tr>\n",
       "    <tr>\n",
       "      <th>5</th>\n",
       "      <td>1009</td>\n",
       "      <td>370.737374</td>\n",
       "      <td>866</td>\n",
       "      <td>9427.214520</td>\n",
       "      <td>0</td>\n",
       "      <td>9574</td>\n",
       "    </tr>\n",
       "    <tr>\n",
       "      <th>...</th>\n",
       "      <td>...</td>\n",
       "      <td>...</td>\n",
       "      <td>...</td>\n",
       "      <td>...</td>\n",
       "      <td>...</td>\n",
       "      <td>...</td>\n",
       "    </tr>\n",
       "    <tr>\n",
       "      <th>95</th>\n",
       "      <td>1260</td>\n",
       "      <td>494.000000</td>\n",
       "      <td>1050</td>\n",
       "      <td>11137.482810</td>\n",
       "      <td>1</td>\n",
       "      <td>10537</td>\n",
       "    </tr>\n",
       "    <tr>\n",
       "      <th>96</th>\n",
       "      <td>1283</td>\n",
       "      <td>505.000000</td>\n",
       "      <td>928</td>\n",
       "      <td>11376.038540</td>\n",
       "      <td>1</td>\n",
       "      <td>10084</td>\n",
       "    </tr>\n",
       "    <tr>\n",
       "      <th>97</th>\n",
       "      <td>1861</td>\n",
       "      <td>368.000000</td>\n",
       "      <td>966</td>\n",
       "      <td>10393.252480</td>\n",
       "      <td>0</td>\n",
       "      <td>10069</td>\n",
       "    </tr>\n",
       "    <tr>\n",
       "      <th>98</th>\n",
       "      <td>1006</td>\n",
       "      <td>326.000000</td>\n",
       "      <td>1068</td>\n",
       "      <td>9454.019853</td>\n",
       "      <td>1</td>\n",
       "      <td>10218</td>\n",
       "    </tr>\n",
       "    <tr>\n",
       "      <th>99</th>\n",
       "      <td>1764</td>\n",
       "      <td>402.000000</td>\n",
       "      <td>153</td>\n",
       "      <td>11144.482970</td>\n",
       "      <td>1</td>\n",
       "      <td>10435</td>\n",
       "    </tr>\n",
       "  </tbody>\n",
       "</table>\n",
       "<p>99 rows × 6 columns</p>\n",
       "</div>"
      ],
      "text/plain": [
       "    cinema_id        SNS1  SNS2         actor  original  sales\n",
       "1        1000  363.000000   568  10290.709370         1  10210\n",
       "2        1390  158.000000   431   6340.388534         1   8227\n",
       "3        1499  261.000000   578   8250.485081         0   9658\n",
       "4        1164  209.000000   683  10908.539550         0   9286\n",
       "5        1009  370.737374   866   9427.214520         0   9574\n",
       "..        ...         ...   ...           ...       ...    ...\n",
       "95       1260  494.000000  1050  11137.482810         1  10537\n",
       "96       1283  505.000000   928  11376.038540         1  10084\n",
       "97       1861  368.000000   966  10393.252480         0  10069\n",
       "98       1006  326.000000  1068   9454.019853         1  10218\n",
       "99       1764  402.000000   153  11144.482970         1  10435\n",
       "\n",
       "[99 rows x 6 columns]"
      ]
     },
     "execution_count": 18,
     "metadata": {},
     "output_type": "execute_result"
    }
   ],
   "source": [
    "df3"
   ]
  },
  {
   "cell_type": "code",
   "execution_count": 19,
   "id": "837cc862-0a14-42da-ac46-8a6a9e778956",
   "metadata": {},
   "outputs": [
    {
     "data": {
      "text/plain": [
       "(99, 6)"
      ]
     },
     "execution_count": 19,
     "metadata": {},
     "output_type": "execute_result"
    }
   ],
   "source": [
    "df3.shape"
   ]
  },
  {
   "cell_type": "code",
   "execution_count": 20,
   "id": "868017a1-346a-45f9-aec1-2623070ef289",
   "metadata": {},
   "outputs": [],
   "source": [
    "x = df3.loc[:,'SNS1':'original']"
   ]
  },
  {
   "cell_type": "code",
   "execution_count": 21,
   "id": "b8d701d3-14ec-42a9-aca2-c5141508da9f",
   "metadata": {},
   "outputs": [],
   "source": [
    "t = df3['sales']"
   ]
  },
  {
   "cell_type": "code",
   "execution_count": 22,
   "id": "785743bb-ced2-4f56-81b4-7646eafd5649",
   "metadata": {},
   "outputs": [],
   "source": [
    "from sklearn.model_selection import train_test_split"
   ]
  },
  {
   "cell_type": "code",
   "execution_count": 23,
   "id": "c8e95105-2341-4bee-9ccc-c40082a5b182",
   "metadata": {},
   "outputs": [],
   "source": [
    "x_train,x_test,y_train,y_test = train_test_split(x,t,test_size=0.2,random_state=0)"
   ]
  },
  {
   "cell_type": "code",
   "execution_count": 24,
   "id": "9063a352-0f96-4966-81e4-84d8c04b8419",
   "metadata": {},
   "outputs": [],
   "source": [
    "from sklearn.linear_model import LinearRegression"
   ]
  },
  {
   "cell_type": "code",
   "execution_count": 25,
   "id": "fad283ad-cd5d-44f6-8645-36c7491bb7c4",
   "metadata": {},
   "outputs": [],
   "source": [
    "model = LinearRegression()"
   ]
  },
  {
   "cell_type": "code",
   "execution_count": 26,
   "id": "9897dc8c-8638-4590-889b-e3b73927f9cf",
   "metadata": {},
   "outputs": [
    {
     "data": {
      "text/plain": [
       "LinearRegression()"
      ]
     },
     "execution_count": 26,
     "metadata": {},
     "output_type": "execute_result"
    }
   ],
   "source": [
    "model.fit(x_train,y_train)"
   ]
  },
  {
   "cell_type": "code",
   "execution_count": 27,
   "id": "d5219f9d-a607-4be1-9d94-24d104fbb2ea",
   "metadata": {},
   "outputs": [],
   "source": [
    "new = [[150,70,300,0]]"
   ]
  },
  {
   "cell_type": "code",
   "execution_count": 28,
   "id": "8f6b7d46-a8e1-449f-a698-1e15ae4a5382",
   "metadata": {},
   "outputs": [
    {
     "name": "stderr",
     "output_type": "stream",
     "text": [
      "C:\\JupyterLab\\resources\\jlab_server\\lib\\site-packages\\sklearn\\base.py:445: UserWarning: X does not have valid feature names, but LinearRegression was fitted with feature names\n",
      "  warnings.warn(\n"
     ]
    },
    {
     "data": {
      "text/plain": [
       "array([6387.4011634])"
      ]
     },
     "execution_count": 28,
     "metadata": {},
     "output_type": "execute_result"
    }
   ],
   "source": [
    "model.predict(new)"
   ]
  },
  {
   "cell_type": "code",
   "execution_count": 29,
   "id": "c1410fa2-4f1b-4da2-88d3-516321cae82c",
   "metadata": {},
   "outputs": [
    {
     "data": {
      "text/plain": [
       "0.832392641230078"
      ]
     },
     "execution_count": 29,
     "metadata": {},
     "output_type": "execute_result"
    }
   ],
   "source": [
    "model.score(x_test,y_test)"
   ]
  },
  {
   "cell_type": "code",
   "execution_count": 30,
   "id": "8fc9c737-27d2-4e96-bc3e-09ed7c6bc3db",
   "metadata": {},
   "outputs": [],
   "source": [
    "from sklearn.metrics import mean_absolute_error"
   ]
  },
  {
   "cell_type": "code",
   "execution_count": 32,
   "id": "cc6ef05e-1a0d-4b9b-9890-d58779067434",
   "metadata": {},
   "outputs": [],
   "source": [
    "pred = model.predict(x_test)"
   ]
  },
  {
   "cell_type": "code",
   "execution_count": 34,
   "id": "d8c48da3-47ae-40d4-b1c0-02d2e76715d1",
   "metadata": {},
   "outputs": [
    {
     "data": {
      "text/plain": [
       "249.64028886627256"
      ]
     },
     "execution_count": 34,
     "metadata": {},
     "output_type": "execute_result"
    }
   ],
   "source": [
    "mean_absolute_error(y_pred = pred, y_true=y_test)"
   ]
  },
  {
   "cell_type": "code",
   "execution_count": 35,
   "id": "1d06f836-c988-41b1-b500-88e805f58d7e",
   "metadata": {},
   "outputs": [],
   "source": [
    "import pickle"
   ]
  },
  {
   "cell_type": "code",
   "execution_count": 36,
   "id": "9e1f7139-1f07-4840-a2f1-07a1bec34c6d",
   "metadata": {},
   "outputs": [],
   "source": [
    "with open('cinema.pkl', 'wb') as f:\n",
    "    pickle.dump(model,f)\n",
    "    "
   ]
  },
  {
   "cell_type": "code",
   "execution_count": 37,
   "id": "72d0eb0b-6bb0-4c14-b694-c611d5e26cce",
   "metadata": {},
   "outputs": [],
   "source": [
    "tmp = pd.DataFrame(model.coef_)"
   ]
  },
  {
   "cell_type": "code",
   "execution_count": 38,
   "id": "01ab1e48-2277-41e0-9d19-4d20ba0f601d",
   "metadata": {},
   "outputs": [],
   "source": [
    "tmp.index = x_train.columns"
   ]
  },
  {
   "cell_type": "code",
   "execution_count": 39,
   "id": "4491dd84-a4ea-4d55-80ec-7d2ac07dbabe",
   "metadata": {},
   "outputs": [
    {
     "data": {
      "text/html": [
       "<div>\n",
       "<style scoped>\n",
       "    .dataframe tbody tr th:only-of-type {\n",
       "        vertical-align: middle;\n",
       "    }\n",
       "\n",
       "    .dataframe tbody tr th {\n",
       "        vertical-align: top;\n",
       "    }\n",
       "\n",
       "    .dataframe thead th {\n",
       "        text-align: right;\n",
       "    }\n",
       "</style>\n",
       "<table border=\"1\" class=\"dataframe\">\n",
       "  <thead>\n",
       "    <tr style=\"text-align: right;\">\n",
       "      <th></th>\n",
       "      <th>0</th>\n",
       "    </tr>\n",
       "  </thead>\n",
       "  <tbody>\n",
       "    <tr>\n",
       "      <th>SNS1</th>\n",
       "      <td>1.193077</td>\n",
       "    </tr>\n",
       "    <tr>\n",
       "      <th>SNS2</th>\n",
       "      <td>0.397778</td>\n",
       "    </tr>\n",
       "    <tr>\n",
       "      <th>actor</th>\n",
       "      <td>0.300503</td>\n",
       "    </tr>\n",
       "    <tr>\n",
       "      <th>original</th>\n",
       "      <td>262.502125</td>\n",
       "    </tr>\n",
       "  </tbody>\n",
       "</table>\n",
       "</div>"
      ],
      "text/plain": [
       "                   0\n",
       "SNS1        1.193077\n",
       "SNS2        0.397778\n",
       "actor       0.300503\n",
       "original  262.502125"
      ]
     },
     "execution_count": 39,
     "metadata": {},
     "output_type": "execute_result"
    }
   ],
   "source": [
    "tmp"
   ]
  },
  {
   "cell_type": "code",
   "execution_count": 40,
   "id": "338f4d0f-a46a-4456-ae40-40f932e3f939",
   "metadata": {},
   "outputs": [
    {
     "data": {
      "text/plain": [
       "6090.44426305681"
      ]
     },
     "execution_count": 40,
     "metadata": {},
     "output_type": "execute_result"
    }
   ],
   "source": [
    "model.intercept_"
   ]
  },
  {
   "cell_type": "code",
   "execution_count": 41,
   "id": "65c80dda-1ee7-4cc7-a804-e2b687d8778a",
   "metadata": {},
   "outputs": [],
   "source": [
    "df = pd.read_csv('datafiles/ex3.csv')"
   ]
  },
  {
   "cell_type": "code",
   "execution_count": 42,
   "id": "a80c295c-03f6-4d97-8985-15664fb4e047",
   "metadata": {},
   "outputs": [
    {
     "data": {
      "text/html": [
       "<div>\n",
       "<style scoped>\n",
       "    .dataframe tbody tr th:only-of-type {\n",
       "        vertical-align: middle;\n",
       "    }\n",
       "\n",
       "    .dataframe tbody tr th {\n",
       "        vertical-align: top;\n",
       "    }\n",
       "\n",
       "    .dataframe thead th {\n",
       "        text-align: right;\n",
       "    }\n",
       "</style>\n",
       "<table border=\"1\" class=\"dataframe\">\n",
       "  <thead>\n",
       "    <tr style=\"text-align: right;\">\n",
       "      <th></th>\n",
       "      <th>x0</th>\n",
       "      <th>x1</th>\n",
       "      <th>x2</th>\n",
       "      <th>x3</th>\n",
       "      <th>target</th>\n",
       "    </tr>\n",
       "  </thead>\n",
       "  <tbody>\n",
       "    <tr>\n",
       "      <th>0</th>\n",
       "      <td>1.000943</td>\n",
       "      <td>2.114344</td>\n",
       "      <td>-1.148213</td>\n",
       "      <td>-0.051415</td>\n",
       "      <td>77.147293</td>\n",
       "    </tr>\n",
       "    <tr>\n",
       "      <th>1</th>\n",
       "      <td>1.505901</td>\n",
       "      <td>-0.626081</td>\n",
       "      <td>3.041686</td>\n",
       "      <td>-0.587336</td>\n",
       "      <td>278.595852</td>\n",
       "    </tr>\n",
       "    <tr>\n",
       "      <th>2</th>\n",
       "      <td>-0.390320</td>\n",
       "      <td>0.283607</td>\n",
       "      <td>-0.940359</td>\n",
       "      <td>-2.154124</td>\n",
       "      <td>-71.039904</td>\n",
       "    </tr>\n",
       "    <tr>\n",
       "      <th>3</th>\n",
       "      <td>-0.167273</td>\n",
       "      <td>1.413624</td>\n",
       "      <td>-0.632571</td>\n",
       "      <td>-1.016131</td>\n",
       "      <td>42.193870</td>\n",
       "    </tr>\n",
       "    <tr>\n",
       "      <th>4</th>\n",
       "      <td>-0.728801</td>\n",
       "      <td>1.370530</td>\n",
       "      <td>0.168298</td>\n",
       "      <td>-1.203904</td>\n",
       "      <td>89.167955</td>\n",
       "    </tr>\n",
       "  </tbody>\n",
       "</table>\n",
       "</div>"
      ],
      "text/plain": [
       "         x0        x1        x2        x3      target\n",
       "0  1.000943  2.114344 -1.148213 -0.051415   77.147293\n",
       "1  1.505901 -0.626081  3.041686 -0.587336  278.595852\n",
       "2 -0.390320  0.283607 -0.940359 -2.154124  -71.039904\n",
       "3 -0.167273  1.413624 -0.632571 -1.016131   42.193870\n",
       "4 -0.728801  1.370530  0.168298 -1.203904   89.167955"
      ]
     },
     "execution_count": 42,
     "metadata": {},
     "output_type": "execute_result"
    }
   ],
   "source": [
    "df.head()"
   ]
  },
  {
   "cell_type": "code",
   "execution_count": 43,
   "id": "6ba3d1f6-8693-4ea1-b90d-6338aa9b227b",
   "metadata": {},
   "outputs": [
    {
     "data": {
      "text/plain": [
       "x0         True\n",
       "x1        False\n",
       "x2         True\n",
       "x3        False\n",
       "target    False\n",
       "dtype: bool"
      ]
     },
     "execution_count": 43,
     "metadata": {},
     "output_type": "execute_result"
    }
   ],
   "source": [
    "df.isnull().any(axis=0)"
   ]
  },
  {
   "cell_type": "code",
   "execution_count": 45,
   "id": "f8a121bc-fa6d-43b5-9e71-5bdfd784b2c8",
   "metadata": {},
   "outputs": [],
   "source": [
    "df2 = df.fillna(df.median())"
   ]
  },
  {
   "cell_type": "code",
   "execution_count": 46,
   "id": "aa46e538-a49f-4718-889a-a35822d198f2",
   "metadata": {},
   "outputs": [
    {
     "data": {
      "text/plain": [
       "x0        False\n",
       "x1        False\n",
       "x2        False\n",
       "x3        False\n",
       "target    False\n",
       "dtype: bool"
      ]
     },
     "execution_count": 46,
     "metadata": {},
     "output_type": "execute_result"
    }
   ],
   "source": [
    "df2.isnull().any(axis=0)"
   ]
  },
  {
   "cell_type": "code",
   "execution_count": 47,
   "id": "5b86b63a-398c-4b60-9aab-0657d7444204",
   "metadata": {},
   "outputs": [
    {
     "data": {
      "text/plain": [
       "<AxesSubplot:xlabel='x0', ylabel='target'>"
      ]
     },
     "execution_count": 47,
     "metadata": {},
     "output_type": "execute_result"
    },
    {
     "data": {
      "image/png": "[encoded data removed]",
      "text/plain": [
       "<Figure size 432x288 with 1 Axes>"
      ]
     },
     "metadata": {
      "needs_background": "light"
     },
     "output_type": "display_data"
    }
   ],
   "source": [
    "df2.plot(kind='scatter', x = 'x0', y = 'target')"
   ]
  },
  {
   "cell_type": "code",
   "execution_count": 48,
   "id": "d4357111-015a-4598-9a2f-e1565d4dcd2e",
   "metadata": {},
   "outputs": [
    {
     "data": {
      "image/png": "[encoded data removed]",
      "text/plain": [
       "<Figure size 432x288 with 1 Axes>"
      ]
     },
     "metadata": {
      "needs_background": "light"
     },
     "output_type": "display_data"
    },
    {
     "data": {
      "image/png": "[encoded data removed]",
      "text/plain": [
       "<Figure size 432x288 with 1 Axes>"
      ]
     },
     "metadata": {
      "needs_background": "light"
     },
     "output_type": "display_data"
    },
    {
     "data": {
      "image/png": "[encoded data removed]",
      "text/plain": [
       "<Figure size 432x288 with 1 Axes>"
      ]
     },
     "metadata": {
      "needs_background": "light"
     },
     "output_type": "display_data"
    },
    {
     "data": {
      "image/png": "[encoded data removed]",
      "text/plain": [
       "<Figure size 432x288 with 1 Axes>"
      ]
     },
     "metadata": {
      "needs_background": "light"
     },
     "output_type": "display_data"
    }
   ],
   "source": [
    "for name in df2.columns:\n",
    "    if name == 'target':\n",
    "        continue\n",
    "    df2.plot(kind='scatter', x = name, y = 'target')"
   ]
  },
  {
   "cell_type": "code",
   "execution_count": 50,
   "id": "fe2530ec-3b81-4ade-889d-30feb193a64d",
   "metadata": {},
   "outputs": [
    {
     "data": {
      "text/html": [
       "<div>\n",
       "<style scoped>\n",
       "    .dataframe tbody tr th:only-of-type {\n",
       "        vertical-align: middle;\n",
       "    }\n",
       "\n",
       "    .dataframe tbody tr th {\n",
       "        vertical-align: top;\n",
       "    }\n",
       "\n",
       "    .dataframe thead th {\n",
       "        text-align: right;\n",
       "    }\n",
       "</style>\n",
       "<table border=\"1\" class=\"dataframe\">\n",
       "  <thead>\n",
       "    <tr style=\"text-align: right;\">\n",
       "      <th></th>\n",
       "      <th>x0</th>\n",
       "      <th>x1</th>\n",
       "      <th>x2</th>\n",
       "      <th>x3</th>\n",
       "      <th>target</th>\n",
       "    </tr>\n",
       "  </thead>\n",
       "  <tbody>\n",
       "    <tr>\n",
       "      <th>23</th>\n",
       "      <td>0.652769</td>\n",
       "      <td>1.057642</td>\n",
       "      <td>-3.0</td>\n",
       "      <td>-0.644467</td>\n",
       "      <td>200.0</td>\n",
       "    </tr>\n",
       "  </tbody>\n",
       "</table>\n",
       "</div>"
      ],
      "text/plain": [
       "          x0        x1   x2        x3  target\n",
       "23  0.652769  1.057642 -3.0 -0.644467   200.0"
      ]
     },
     "execution_count": 50,
     "metadata": {},
     "output_type": "execute_result"
    }
   ],
   "source": [
    "df2[(df2['x2'] < -2) & (df2['target'] > 100)]"
   ]
  },
  {
   "cell_type": "code",
   "execution_count": 51,
   "id": "2d6126be-981b-4124-b4b2-67bdb9fa29ec",
   "metadata": {},
   "outputs": [],
   "source": [
    "df3 = df2.drop(23)"
   ]
  },
  {
   "cell_type": "code",
   "execution_count": 52,
   "id": "34a05eca-9d79-415c-b8f6-fd2bbb19e09b",
   "metadata": {},
   "outputs": [],
   "source": [
    "x = df3.loc[:, 'x0':'x3']"
   ]
  },
  {
   "cell_type": "code",
   "execution_count": 53,
   "id": "1bb22220-7f94-4ac4-ac1d-cdc61b8f8264",
   "metadata": {},
   "outputs": [],
   "source": [
    "t = df3['target']"
   ]
  },
  {
   "cell_type": "code",
   "execution_count": 55,
   "id": "7637a9d0-750b-4f99-9761-009a5ee14f71",
   "metadata": {},
   "outputs": [],
   "source": [
    "x_train,x_test,y_train,y_test = train_test_split(x,t,test_size=0.2,random_state=0)"
   ]
  },
  {
   "cell_type": "code",
   "execution_count": 56,
   "id": "0df88fe6-33b9-4024-9398-2d858d6563de",
   "metadata": {},
   "outputs": [],
   "source": [
    "model = LinearRegression()"
   ]
  },
  {
   "cell_type": "code",
   "execution_count": 57,
   "id": "62a62ea8-ad8b-45bd-8ec8-bd7ecc39e015",
   "metadata": {},
   "outputs": [
    {
     "data": {
      "text/plain": [
       "LinearRegression()"
      ]
     },
     "execution_count": 57,
     "metadata": {},
     "output_type": "execute_result"
    }
   ],
   "source": [
    "model.fit(x_train,y_train)"
   ]
  },
  {
   "cell_type": "code",
   "execution_count": 58,
   "id": "b1324770-d4f5-4189-9be8-7aacea557383",
   "metadata": {},
   "outputs": [],
   "source": [
    "tmp = model.predict(x_test)"
   ]
  },
  {
   "cell_type": "code",
   "execution_count": 59,
   "id": "9e02adf8-8167-4d3c-bc00-af45359e4cfa",
   "metadata": {},
   "outputs": [
    {
     "data": {
      "text/plain": [
       "0.9978768275384675"
      ]
     },
     "execution_count": 59,
     "metadata": {},
     "output_type": "execute_result"
    }
   ],
   "source": [
    "model.score(x_test,y_test)"
   ]
  },
  {
   "cell_type": "code",
   "execution_count": 60,
   "id": "7ac9fe62-e748-4af3-a400-29bce6f2d73a",
   "metadata": {},
   "outputs": [
    {
     "data": {
      "text/plain": [
       "array([31.87246074, 62.6636386 , 87.74225813, -0.3618206 ])"
      ]
     },
     "execution_count": 60,
     "metadata": {},
     "output_type": "execute_result"
    }
   ],
   "source": [
    "model.coef_"
   ]
  },
  {
   "cell_type": "code",
   "execution_count": 61,
   "id": "c1451017-3302-4034-a6f3-c8c373e5c0aa",
   "metadata": {},
   "outputs": [
    {
     "data": {
      "text/plain": [
       "4.065920844848206"
      ]
     },
     "execution_count": 61,
     "metadata": {},
     "output_type": "execute_result"
    }
   ],
   "source": [
    "mean_absolute_error(y_pred = tmp, y_true = y_test)"
   ]
  },
  {
   "cell_type": "code",
   "execution_count": null,
   "id": "e26a58d8-96d6-4ff7-ae90-508cad2deb46",
   "metadata": {},
   "outputs": [],
   "source": []
  }
 ],
 "metadata": {
  "kernelspec": {
   "display_name": "Python 3 (ipykernel)",
   "language": "python",
   "name": "python3"
  },
  "language_info": {
   "codemirror_mode": {
    "name": "ipython",
    "version": 3
   },
   "file_extension": ".py",
   "mimetype": "text/x-python",
   "name": "python",
   "nbconvert_exporter": "python",
   "pygments_lexer": "ipython3",
   "version": "3.8.12"
  }
 },
 "nbformat": 4,
 "nbformat_minor": 5
}
