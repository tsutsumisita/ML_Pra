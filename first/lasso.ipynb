{
 "cells": [
  {
   "cell_type": "code",
   "execution_count": 2,
   "id": "9824284f-ff76-4665-9f7c-73f78c6b295e",
   "metadata": {},
   "outputs": [],
   "source": [
    "from sklearn.linear_model import Lasso\n",
    "import pandas as pd\n",
    "from sklearn.model_selection import train_test_split\n",
    "%matplotlib inline\n",
    "from sklearn.preprocessing import StandardScaler\n",
    "\n",
    "#Boston.csvを利用\n",
    "df = pd.read_csv('datafiles/Boston.csv')"
   ]
  },
  {
   "cell_type": "code",
   "execution_count": 5,
   "id": "4541a43e-be04-4a76-93b6-be17e181291d",
   "metadata": {},
   "outputs": [
    {
     "name": "stderr",
     "output_type": "stream",
     "text": [
      "C:\\Users\\tnakg\\AppData\\Local\\Temp/ipykernel_17500/2014096055.py:2: FutureWarning: Dropping of nuisance columns in DataFrame reductions (with 'numeric_only=None') is deprecated; in a future version this will raise TypeError.  Select only valid columns before calling the reduction.\n",
      "  df = df.fillna(df.mean())\n"
     ]
    }
   ],
   "source": [
    "#欠損値の穴埋め\n",
    "df = df.fillna(df.mean())"
   ]
  },
  {
   "cell_type": "code",
   "execution_count": 6,
   "id": "74bcf562-76b2-4fc2-9eb2-b7ad61ee947b",
   "metadata": {},
   "outputs": [],
   "source": [
    "#外れ値の削除\n",
    "df = df.drop([76],axis=0)"
   ]
  },
  {
   "cell_type": "code",
   "execution_count": 7,
   "id": "44a3b9a9-b686-4f31-afa2-0e4feb3d44fc",
   "metadata": {},
   "outputs": [],
   "source": [
    "t = df[['PRICE']]"
   ]
  },
  {
   "cell_type": "code",
   "execution_count": 9,
   "id": "1727c495-6f3b-406e-aeb7-a1fe65cb4241",
   "metadata": {},
   "outputs": [],
   "source": [
    "x = df.loc[:,['RM','PTRATIO','LSTAT']] #特徴量を抽出"
   ]
  },
  {
   "cell_type": "code",
   "execution_count": 20,
   "id": "e4eff39b-2a3c-4036-b44e-50d0cadcde14",
   "metadata": {},
   "outputs": [
    {
     "data": {
      "text/plain": [
       "(99, 3)"
      ]
     },
     "execution_count": 20,
     "metadata": {},
     "output_type": "execute_result"
    }
   ],
   "source": [
    "#標準化\n",
    "sc = StandardScaler()\n",
    "sc_x = sc.fit_transform(x)\n",
    "sc_x.shape"
   ]
  },
  {
   "cell_type": "code",
   "execution_count": 23,
   "id": "228ad656-77e4-4502-ac7d-a9aa41ae5f70",
   "metadata": {},
   "outputs": [],
   "source": [
    "sc_t = sc.fit_transform(t)"
   ]
  },
  {
   "cell_type": "code",
   "execution_count": 16,
   "id": "3b52c69d-74c9-495b-82b8-c74e0a6ad264",
   "metadata": {},
   "outputs": [],
   "source": [
    "#累乗列と交互作用特徴量を一括追加\n",
    "from sklearn.preprocessing import PolynomialFeatures"
   ]
  },
  {
   "cell_type": "code",
   "execution_count": 17,
   "id": "cba23f05-1552-4cb2-933a-61dcb202c71f",
   "metadata": {},
   "outputs": [],
   "source": [
    "pf = PolynomialFeatures(degree = 2,include_bias = False)"
   ]
  },
  {
   "cell_type": "code",
   "execution_count": 18,
   "id": "63c2c883-a720-49dd-b122-083c9546819a",
   "metadata": {},
   "outputs": [],
   "source": [
    "pf_x = pf.fit_transform(sc_x)"
   ]
  },
  {
   "cell_type": "code",
   "execution_count": 19,
   "id": "21533175-9f39-4ca5-808f-2a1572981822",
   "metadata": {},
   "outputs": [
    {
     "data": {
      "text/plain": [
       "(99, 9)"
      ]
     },
     "execution_count": 19,
     "metadata": {},
     "output_type": "execute_result"
    }
   ],
   "source": [
    "pf_x.shape #何もしない場合に比べて6列増加 2乗と3C2の積"
   ]
  },
  {
   "cell_type": "code",
   "execution_count": 25,
   "id": "5315dd20-fc1c-4a03-8ebf-9c0b68c95f4f",
   "metadata": {},
   "outputs": [
    {
     "data": {
      "text/plain": [
       "(99, 1)"
      ]
     },
     "execution_count": 25,
     "metadata": {},
     "output_type": "execute_result"
    }
   ],
   "source": [
    "sc_t.shape"
   ]
  },
  {
   "cell_type": "code",
   "execution_count": 26,
   "id": "a9b19185-a53e-47cd-ac4d-fca2ceb79746",
   "metadata": {},
   "outputs": [],
   "source": [
    "x_train,x_test,y_train,y_test = train_test_split(pf_x,sc_t,test_size=0.2,random_state=0)"
   ]
  },
  {
   "cell_type": "code",
   "execution_count": 27,
   "id": "04efe646-64de-47ba-8633-1a8581fc4115",
   "metadata": {},
   "outputs": [
    {
     "data": {
      "text/plain": [
       "Lasso(alpha=0.1)"
      ]
     },
     "execution_count": 27,
     "metadata": {},
     "output_type": "execute_result"
    }
   ],
   "source": [
    "model = Lasso(alpha = 0.1) # alphaは係数にかかる定数 値が大きいほど係数の小ささを重要視する\n",
    "model.fit(x_train,y_train)"
   ]
  },
  {
   "cell_type": "code",
   "execution_count": 28,
   "id": "67ebab6b-f70d-40e9-89dc-64797adc052d",
   "metadata": {},
   "outputs": [
    {
     "name": "stdout",
     "output_type": "stream",
     "text": [
      "0.8191646311109806\n"
     ]
    }
   ],
   "source": [
    "print(model.score(x_train,y_train))"
   ]
  },
  {
   "cell_type": "code",
   "execution_count": 30,
   "id": "8c85d696-ae4a-45d8-8f5e-a51471978dea",
   "metadata": {},
   "outputs": [
    {
     "name": "stdout",
     "output_type": "stream",
     "text": [
      "0.8831387110172352\n"
     ]
    }
   ],
   "source": [
    "print(model.score(x_test,y_test))"
   ]
  },
  {
   "cell_type": "code",
   "execution_count": 31,
   "id": "5d16e196-5f60-458d-ab42-929af4ec22e6",
   "metadata": {},
   "outputs": [],
   "source": [
    "#係数の抜き出し\n",
    "weight = model.coef_"
   ]
  },
  {
   "cell_type": "code",
   "execution_count": 33,
   "id": "f61b7dbf-c832-4552-b234-e816739b89ae",
   "metadata": {},
   "outputs": [
    {
     "name": "stderr",
     "output_type": "stream",
     "text": [
      "C:\\JupyterLab\\resources\\jlab_server\\lib\\site-packages\\sklearn\\utils\\deprecation.py:87: FutureWarning: Function get_feature_names is deprecated; get_feature_names is deprecated in 1.0 and will be removed in 1.2. Please use get_feature_names_out instead.\n",
      "  warnings.warn(msg, category=FutureWarning)\n"
     ]
    },
    {
     "data": {
      "text/plain": [
       "x0       0.432859\n",
       "x1      -0.096016\n",
       "x2      -0.260298\n",
       "x0^2     0.159775\n",
       "x0 x1   -0.000000\n",
       "x0 x2   -0.008084\n",
       "x1^2    -0.000000\n",
       "x1 x2    0.000000\n",
       "x2^2     0.000000\n",
       "dtype: float64"
      ]
     },
     "execution_count": 33,
     "metadata": {},
     "output_type": "execute_result"
    }
   ],
   "source": [
    "pd.Series(weight,index = pf.get_feature_names())"
   ]
  },
  {
   "cell_type": "code",
   "execution_count": null,
   "id": "0b08784f-2172-42fa-aedc-a819b2921067",
   "metadata": {},
   "outputs": [],
   "source": []
  }
 ],
 "metadata": {
  "kernelspec": {
   "display_name": "Python 3 (ipykernel)",
   "language": "python",
   "name": "python3"
  },
  "language_info": {
   "codemirror_mode": {
    "name": "ipython",
    "version": 3
   },
   "file_extension": ".py",
   "mimetype": "text/x-python",
   "name": "python",
   "nbconvert_exporter": "python",
   "pygments_lexer": "ipython3",
   "version": "3.8.12"
  }
 },
 "nbformat": 4,
 "nbformat_minor": 5
}
