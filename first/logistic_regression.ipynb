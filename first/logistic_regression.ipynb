{
 "cells": [
  {
   "cell_type": "code",
   "execution_count": 1,
   "id": "6b0c33e2-6c81-4abf-963a-83da7c8012bd",
   "metadata": {},
   "outputs": [],
   "source": [
    "import pandas as pd\n",
    "from sklearn.model_selection import train_test_split\n",
    "\n",
    "df = pd.read_csv('datafiles/iris.csv')"
   ]
  },
  {
   "cell_type": "code",
   "execution_count": 2,
   "id": "63d979ec-5c5a-484d-84cc-6cbc617174d5",
   "metadata": {},
   "outputs": [
    {
     "data": {
      "text/plain": [
       "pandas.core.frame.DataFrame"
      ]
     },
     "execution_count": 2,
     "metadata": {},
     "output_type": "execute_result"
    }
   ],
   "source": [
    "type(df)"
   ]
  },
  {
   "cell_type": "code",
   "execution_count": 3,
   "id": "79686bad-392f-4fa1-a8cc-e13482e636d6",
   "metadata": {},
   "outputs": [
    {
     "data": {
      "text/html": [
       "<div>\n",
       "<style scoped>\n",
       "    .dataframe tbody tr th:only-of-type {\n",
       "        vertical-align: middle;\n",
       "    }\n",
       "\n",
       "    .dataframe tbody tr th {\n",
       "        vertical-align: top;\n",
       "    }\n",
       "\n",
       "    .dataframe thead th {\n",
       "        text-align: right;\n",
       "    }\n",
       "</style>\n",
       "<table border=\"1\" class=\"dataframe\">\n",
       "  <thead>\n",
       "    <tr style=\"text-align: right;\">\n",
       "      <th></th>\n",
       "      <th>がく片長さ</th>\n",
       "      <th>がく片幅</th>\n",
       "      <th>花弁長さ</th>\n",
       "      <th>花弁幅</th>\n",
       "      <th>種類</th>\n",
       "    </tr>\n",
       "  </thead>\n",
       "  <tbody>\n",
       "    <tr>\n",
       "      <th>0</th>\n",
       "      <td>0.22</td>\n",
       "      <td>0.63</td>\n",
       "      <td>0.08</td>\n",
       "      <td>0.04</td>\n",
       "      <td>Iris-setosa</td>\n",
       "    </tr>\n",
       "    <tr>\n",
       "      <th>1</th>\n",
       "      <td>0.17</td>\n",
       "      <td>0.42</td>\n",
       "      <td>0.35</td>\n",
       "      <td>0.04</td>\n",
       "      <td>Iris-setosa</td>\n",
       "    </tr>\n",
       "    <tr>\n",
       "      <th>2</th>\n",
       "      <td>0.11</td>\n",
       "      <td>0.50</td>\n",
       "      <td>0.13</td>\n",
       "      <td>0.04</td>\n",
       "      <td>Iris-setosa</td>\n",
       "    </tr>\n",
       "    <tr>\n",
       "      <th>3</th>\n",
       "      <td>0.08</td>\n",
       "      <td>0.46</td>\n",
       "      <td>0.26</td>\n",
       "      <td>0.04</td>\n",
       "      <td>Iris-setosa</td>\n",
       "    </tr>\n",
       "    <tr>\n",
       "      <th>4</th>\n",
       "      <td>0.19</td>\n",
       "      <td>0.67</td>\n",
       "      <td>0.44</td>\n",
       "      <td>0.04</td>\n",
       "      <td>Iris-setosa</td>\n",
       "    </tr>\n",
       "  </tbody>\n",
       "</table>\n",
       "</div>"
      ],
      "text/plain": [
       "   がく片長さ  がく片幅  花弁長さ   花弁幅           種類\n",
       "0   0.22  0.63  0.08  0.04  Iris-setosa\n",
       "1   0.17  0.42  0.35  0.04  Iris-setosa\n",
       "2   0.11  0.50  0.13  0.04  Iris-setosa\n",
       "3   0.08  0.46  0.26  0.04  Iris-setosa\n",
       "4   0.19  0.67  0.44  0.04  Iris-setosa"
      ]
     },
     "execution_count": 3,
     "metadata": {},
     "output_type": "execute_result"
    }
   ],
   "source": [
    "df.head()"
   ]
  },
  {
   "cell_type": "code",
   "execution_count": 4,
   "id": "8db7f3fa-add8-4131-8928-1d7f49f06664",
   "metadata": {},
   "outputs": [
    {
     "data": {
      "text/plain": [
       "がく片長さ    2\n",
       "がく片幅     1\n",
       "花弁長さ     2\n",
       "花弁幅      2\n",
       "種類       0\n",
       "dtype: int64"
      ]
     },
     "execution_count": 4,
     "metadata": {},
     "output_type": "execute_result"
    }
   ],
   "source": [
    "#欠損値を埋める\n",
    "df.isnull().sum()"
   ]
  },
  {
   "cell_type": "code",
   "execution_count": 5,
   "id": "5fe07de1-fa0a-418e-9c10-eee4a6aabb6f",
   "metadata": {},
   "outputs": [
    {
     "name": "stderr",
     "output_type": "stream",
     "text": [
      "C:\\Users\\tnakg\\AppData\\Local\\Temp/ipykernel_2900/3060813118.py:1: FutureWarning: Dropping of nuisance columns in DataFrame reductions (with 'numeric_only=None') is deprecated; in a future version this will raise TypeError.  Select only valid columns before calling the reduction.\n",
      "  train = df.fillna(df.mean())\n"
     ]
    }
   ],
   "source": [
    "train = df.fillna(df.mean())"
   ]
  },
  {
   "cell_type": "code",
   "execution_count": 7,
   "id": "f5f03b2d-5d02-4ec2-b086-407343063c08",
   "metadata": {},
   "outputs": [
    {
     "data": {
      "text/plain": [
       "がく片長さ    0\n",
       "がく片幅     0\n",
       "花弁長さ     0\n",
       "花弁幅      0\n",
       "種類       0\n",
       "dtype: int64"
      ]
     },
     "execution_count": 7,
     "metadata": {},
     "output_type": "execute_result"
    }
   ],
   "source": [
    "train.isnull().sum()"
   ]
  },
  {
   "cell_type": "code",
   "execution_count": 9,
   "id": "2c199011-db33-4b05-94ce-f587bb46dac1",
   "metadata": {},
   "outputs": [],
   "source": [
    "#特徴量と正解に分ける\n",
    "x = train.loc[:,:'花弁幅']"
   ]
  },
  {
   "cell_type": "code",
   "execution_count": 10,
   "id": "3a1d0754-3efd-4973-8882-cd0481b8e700",
   "metadata": {},
   "outputs": [],
   "source": [
    "t = train['種類']"
   ]
  },
  {
   "cell_type": "code",
   "execution_count": 11,
   "id": "59730618-88fb-49c4-93b0-30a7dbecfbce",
   "metadata": {},
   "outputs": [],
   "source": [
    "#特徴量の標準化\n",
    "from sklearn.preprocessing import StandardScaler\n",
    "sc = StandardScaler()"
   ]
  },
  {
   "cell_type": "code",
   "execution_count": 12,
   "id": "a0ffb720-5254-4dd7-8804-bd3f2ce653ec",
   "metadata": {},
   "outputs": [],
   "source": [
    "sc_x = sc.fit_transform(x)"
   ]
  },
  {
   "cell_type": "code",
   "execution_count": 15,
   "id": "fb5b10a5-17da-4942-b21c-ade6dcb5819b",
   "metadata": {},
   "outputs": [],
   "source": [
    "#学習と検証に分割\n",
    "x_train,x_test,y_train,y_test = train_test_split(sc_x,t,test_size=0.2,random_state = 0)"
   ]
  },
  {
   "cell_type": "code",
   "execution_count": 16,
   "id": "4d95e383-689c-49e2-8eb8-fbdd6b3ede99",
   "metadata": {},
   "outputs": [],
   "source": [
    "#モデルの作成\n",
    "from sklearn.linear_model import LogisticRegression"
   ]
  },
  {
   "cell_type": "code",
   "execution_count": 17,
   "id": "4ff87405-bbbb-42c9-b6bc-8b90720235a1",
   "metadata": {},
   "outputs": [],
   "source": [
    "model = LogisticRegression(random_state = 0,C=0.1,multi_class = 'auto',solver='lbfgs')"
   ]
  },
  {
   "cell_type": "code",
   "execution_count": 18,
   "id": "18d5f746-2f31-447c-9b4d-a14b318a441b",
   "metadata": {},
   "outputs": [
    {
     "data": {
      "text/plain": [
       "LogisticRegression(C=0.1, random_state=0)"
      ]
     },
     "execution_count": 18,
     "metadata": {},
     "output_type": "execute_result"
    }
   ],
   "source": [
    "model.fit(x_train,y_train)"
   ]
  },
  {
   "cell_type": "code",
   "execution_count": 19,
   "id": "923c55f9-f0d6-49b3-bbc3-d282eea75fc7",
   "metadata": {},
   "outputs": [
    {
     "data": {
      "text/plain": [
       "0.8333333333333334"
      ]
     },
     "execution_count": 19,
     "metadata": {},
     "output_type": "execute_result"
    }
   ],
   "source": [
    "model.score(x_test,y_test)"
   ]
  },
  {
   "cell_type": "code",
   "execution_count": 20,
   "id": "28e43cd6-b58f-42d8-9551-f989a534ef8d",
   "metadata": {},
   "outputs": [
    {
     "data": {
      "text/plain": [
       "0.8666666666666667"
      ]
     },
     "execution_count": 20,
     "metadata": {},
     "output_type": "execute_result"
    }
   ],
   "source": [
    "model.score(x_train,y_train)"
   ]
  },
  {
   "cell_type": "code",
   "execution_count": 21,
   "id": "e0a27a65-4f10-4966-936f-eb8fdc9aa55e",
   "metadata": {},
   "outputs": [
    {
     "data": {
      "text/plain": [
       "array([[-0.53209541,  0.48584036, -0.52629135, -0.83192326],\n",
       "       [ 0.09494378, -0.44720771, -0.00110969, -0.04413366],\n",
       "       [ 0.43715163, -0.03863265,  0.52740105,  0.87605692]])"
      ]
     },
     "execution_count": 21,
     "metadata": {},
     "output_type": "execute_result"
    }
   ],
   "source": [
    "model.coef_"
   ]
  },
  {
   "cell_type": "code",
   "execution_count": 22,
   "id": "60326766-9a47-48ab-b90e-26d54c161ba4",
   "metadata": {},
   "outputs": [
    {
     "data": {
      "text/plain": [
       "array(['Iris-virginica'], dtype=object)"
      ]
     },
     "execution_count": 22,
     "metadata": {},
     "output_type": "execute_result"
    }
   ],
   "source": [
    "model.predict([[1,2,3,4]])"
   ]
  },
  {
   "cell_type": "code",
   "execution_count": 23,
   "id": "3a1db90f-70a5-4360-a446-a19ef489aa4b",
   "metadata": {},
   "outputs": [
    {
     "data": {
      "text/plain": [
       "array([[4.03394997e-05, 3.02965489e-03, 9.96930006e-01]])"
      ]
     },
     "execution_count": 23,
     "metadata": {},
     "output_type": "execute_result"
    }
   ],
   "source": [
    "model.predict_proba([[1,2,3,4]])"
   ]
  },
  {
   "cell_type": "code",
   "execution_count": null,
   "id": "ca3ea904-deb4-48a2-bba6-322b803eb7d7",
   "metadata": {},
   "outputs": [],
   "source": []
  }
 ],
 "metadata": {
  "kernelspec": {
   "display_name": "Python 3 (ipykernel)",
   "language": "python",
   "name": "python3"
  },
  "language_info": {
   "codemirror_mode": {
    "name": "ipython",
    "version": 3
   },
   "file_extension": ".py",
   "mimetype": "text/x-python",
   "name": "python",
   "nbconvert_exporter": "python",
   "pygments_lexer": "ipython3",
   "version": "3.8.12"
  }
 },
 "nbformat": 4,
 "nbformat_minor": 5
}
