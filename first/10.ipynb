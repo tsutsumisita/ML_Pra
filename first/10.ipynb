{
 "cells": [
  {
   "cell_type": "code",
   "execution_count": 4,
   "id": "cfc601df-a8a0-4561-9e8e-efe2d2a04e33",
   "metadata": {},
   "outputs": [],
   "source": [
    "#様々なデータの読み込み方法について(csv以外のtsvとかjsonとか)\n",
    "#tsvはread_csvの引数にsep = '/t'を追加\n",
    "import pandas as pd\n",
    "df = pd.read_csv('datafiles/bike.tsv',sep='\\t')"
   ]
  },
  {
   "cell_type": "code",
   "execution_count": 5,
   "id": "a5a80f74-f969-4b7d-a94a-40b9f6049819",
   "metadata": {},
   "outputs": [
    {
     "data": {
      "text/html": [
       "<div>\n",
       "<style scoped>\n",
       "    .dataframe tbody tr th:only-of-type {\n",
       "        vertical-align: middle;\n",
       "    }\n",
       "\n",
       "    .dataframe tbody tr th {\n",
       "        vertical-align: top;\n",
       "    }\n",
       "\n",
       "    .dataframe thead th {\n",
       "        text-align: right;\n",
       "    }\n",
       "</style>\n",
       "<table border=\"1\" class=\"dataframe\">\n",
       "  <thead>\n",
       "    <tr style=\"text-align: right;\">\n",
       "      <th></th>\n",
       "      <th>dteday</th>\n",
       "      <th>holiday</th>\n",
       "      <th>weekday</th>\n",
       "      <th>workingday</th>\n",
       "      <th>weather_id</th>\n",
       "      <th>cnt</th>\n",
       "    </tr>\n",
       "  </thead>\n",
       "  <tbody>\n",
       "    <tr>\n",
       "      <th>0</th>\n",
       "      <td>2011-01-01</td>\n",
       "      <td>0</td>\n",
       "      <td>6</td>\n",
       "      <td>0</td>\n",
       "      <td>2</td>\n",
       "      <td>985</td>\n",
       "    </tr>\n",
       "    <tr>\n",
       "      <th>1</th>\n",
       "      <td>2011-01-02</td>\n",
       "      <td>0</td>\n",
       "      <td>0</td>\n",
       "      <td>0</td>\n",
       "      <td>2</td>\n",
       "      <td>801</td>\n",
       "    </tr>\n",
       "    <tr>\n",
       "      <th>2</th>\n",
       "      <td>2011-01-03</td>\n",
       "      <td>0</td>\n",
       "      <td>1</td>\n",
       "      <td>1</td>\n",
       "      <td>1</td>\n",
       "      <td>1349</td>\n",
       "    </tr>\n",
       "    <tr>\n",
       "      <th>3</th>\n",
       "      <td>2011-01-04</td>\n",
       "      <td>0</td>\n",
       "      <td>2</td>\n",
       "      <td>1</td>\n",
       "      <td>1</td>\n",
       "      <td>1562</td>\n",
       "    </tr>\n",
       "    <tr>\n",
       "      <th>4</th>\n",
       "      <td>2011-01-05</td>\n",
       "      <td>0</td>\n",
       "      <td>3</td>\n",
       "      <td>1</td>\n",
       "      <td>1</td>\n",
       "      <td>1600</td>\n",
       "    </tr>\n",
       "  </tbody>\n",
       "</table>\n",
       "</div>"
      ],
      "text/plain": [
       "       dteday  holiday  weekday  workingday  weather_id   cnt\n",
       "0  2011-01-01        0        6           0           2   985\n",
       "1  2011-01-02        0        0           0           2   801\n",
       "2  2011-01-03        0        1           1           1  1349\n",
       "3  2011-01-04        0        2           1           1  1562\n",
       "4  2011-01-05        0        3           1           1  1600"
      ]
     },
     "execution_count": 5,
     "metadata": {},
     "output_type": "execute_result"
    }
   ],
   "source": [
    "df.head()"
   ]
  },
  {
   "cell_type": "code",
   "execution_count": 17,
   "id": "7c9fde19-3620-46b3-8764-e9c09723c090",
   "metadata": {},
   "outputs": [],
   "source": [
    "#文字コードの指定\n",
    "#読み込み元のデータの文字コードがUTF-8以外の場合はそれを明示して読み込む必要がある\n",
    "#df2 = pd.read_csv('datafiles/weather.csv') はエラー\n",
    "weather = pd.read_csv('datafiles/weather.csv',encoding = 'shift-jis')"
   ]
  },
  {
   "cell_type": "code",
   "execution_count": 18,
   "id": "15240606-b587-456d-af1c-f2dcb7295cd2",
   "metadata": {},
   "outputs": [
    {
     "data": {
      "text/html": [
       "<div>\n",
       "<style scoped>\n",
       "    .dataframe tbody tr th:only-of-type {\n",
       "        vertical-align: middle;\n",
       "    }\n",
       "\n",
       "    .dataframe tbody tr th {\n",
       "        vertical-align: top;\n",
       "    }\n",
       "\n",
       "    .dataframe thead th {\n",
       "        text-align: right;\n",
       "    }\n",
       "</style>\n",
       "<table border=\"1\" class=\"dataframe\">\n",
       "  <thead>\n",
       "    <tr style=\"text-align: right;\">\n",
       "      <th></th>\n",
       "      <th>weather_id</th>\n",
       "      <th>weather</th>\n",
       "    </tr>\n",
       "  </thead>\n",
       "  <tbody>\n",
       "    <tr>\n",
       "      <th>0</th>\n",
       "      <td>1</td>\n",
       "      <td>晴れ</td>\n",
       "    </tr>\n",
       "    <tr>\n",
       "      <th>1</th>\n",
       "      <td>2</td>\n",
       "      <td>曇り</td>\n",
       "    </tr>\n",
       "    <tr>\n",
       "      <th>2</th>\n",
       "      <td>3</td>\n",
       "      <td>雨</td>\n",
       "    </tr>\n",
       "  </tbody>\n",
       "</table>\n",
       "</div>"
      ],
      "text/plain": [
       "   weather_id weather\n",
       "0           1      晴れ\n",
       "1           2      曇り\n",
       "2           3       雨"
      ]
     },
     "execution_count": 18,
     "metadata": {},
     "output_type": "execute_result"
    }
   ],
   "source": [
    "weather.head()"
   ]
  },
  {
   "cell_type": "code",
   "execution_count": 12,
   "id": "66f18dd4-9437-43bd-a2b0-c859008c2b60",
   "metadata": {},
   "outputs": [],
   "source": [
    "#jsonの読み込み\n",
    "tmp = pd.read_json('datafiles/temp.json')"
   ]
  },
  {
   "cell_type": "code",
   "execution_count": 14,
   "id": "e28a70e1-b428-45ce-aa64-1a582fac9c58",
   "metadata": {},
   "outputs": [
    {
     "data": {
      "text/html": [
       "<div>\n",
       "<style scoped>\n",
       "    .dataframe tbody tr th:only-of-type {\n",
       "        vertical-align: middle;\n",
       "    }\n",
       "\n",
       "    .dataframe tbody tr th {\n",
       "        vertical-align: top;\n",
       "    }\n",
       "\n",
       "    .dataframe thead th {\n",
       "        text-align: right;\n",
       "    }\n",
       "</style>\n",
       "<table border=\"1\" class=\"dataframe\">\n",
       "  <thead>\n",
       "    <tr style=\"text-align: right;\">\n",
       "      <th></th>\n",
       "      <th>0</th>\n",
       "      <th>1</th>\n",
       "      <th>2</th>\n",
       "      <th>3</th>\n",
       "      <th>4</th>\n",
       "      <th>5</th>\n",
       "      <th>6</th>\n",
       "      <th>7</th>\n",
       "      <th>8</th>\n",
       "      <th>9</th>\n",
       "      <th>...</th>\n",
       "      <th>720</th>\n",
       "      <th>721</th>\n",
       "      <th>722</th>\n",
       "      <th>723</th>\n",
       "      <th>724</th>\n",
       "      <th>725</th>\n",
       "      <th>726</th>\n",
       "      <th>727</th>\n",
       "      <th>728</th>\n",
       "      <th>729</th>\n",
       "    </tr>\n",
       "  </thead>\n",
       "  <tbody>\n",
       "    <tr>\n",
       "      <th>atemp</th>\n",
       "      <td>0.363625</td>\n",
       "      <td>0.353739</td>\n",
       "      <td>0.189405</td>\n",
       "      <td>0.212122</td>\n",
       "      <td>0.22927</td>\n",
       "      <td>0.233209</td>\n",
       "      <td>0.208839</td>\n",
       "      <td>0.162254</td>\n",
       "      <td>0.116175</td>\n",
       "      <td>0.150888</td>\n",
       "      <td>...</td>\n",
       "      <td>0.236113</td>\n",
       "      <td>0.259471</td>\n",
       "      <td>0.2589</td>\n",
       "      <td>0.294465</td>\n",
       "      <td>0.220333</td>\n",
       "      <td>0.226642</td>\n",
       "      <td>0.255046</td>\n",
       "      <td>0.2424</td>\n",
       "      <td>0.2317</td>\n",
       "      <td>0.223487</td>\n",
       "    </tr>\n",
       "    <tr>\n",
       "      <th>dteday</th>\n",
       "      <td>2011-01-01</td>\n",
       "      <td>2011-01-02</td>\n",
       "      <td>2011-01-03</td>\n",
       "      <td>2011-01-04</td>\n",
       "      <td>2011-01-05</td>\n",
       "      <td>2011-01-06</td>\n",
       "      <td>2011-01-07</td>\n",
       "      <td>2011-01-08</td>\n",
       "      <td>2011-01-09</td>\n",
       "      <td>2011-01-10</td>\n",
       "      <td>...</td>\n",
       "      <td>2012-12-22</td>\n",
       "      <td>2012-12-23</td>\n",
       "      <td>2012-12-24</td>\n",
       "      <td>2012-12-25</td>\n",
       "      <td>2012-12-26</td>\n",
       "      <td>2012-12-27</td>\n",
       "      <td>2012-12-28</td>\n",
       "      <td>2012-12-29</td>\n",
       "      <td>2012-12-30</td>\n",
       "      <td>2012-12-31</td>\n",
       "    </tr>\n",
       "    <tr>\n",
       "      <th>hum</th>\n",
       "      <td>0.805833</td>\n",
       "      <td>0.696087</td>\n",
       "      <td>0.437273</td>\n",
       "      <td>0.590435</td>\n",
       "      <td>0.436957</td>\n",
       "      <td>0.518261</td>\n",
       "      <td>0.498696</td>\n",
       "      <td>0.535833</td>\n",
       "      <td>0.434167</td>\n",
       "      <td>0.482917</td>\n",
       "      <td>...</td>\n",
       "      <td>0.44125</td>\n",
       "      <td>0.515417</td>\n",
       "      <td>0.791304</td>\n",
       "      <td>0.734783</td>\n",
       "      <td>0.823333</td>\n",
       "      <td>0.652917</td>\n",
       "      <td>0.59</td>\n",
       "      <td>0.752917</td>\n",
       "      <td>0.483333</td>\n",
       "      <td>0.5775</td>\n",
       "    </tr>\n",
       "    <tr>\n",
       "      <th>temp</th>\n",
       "      <td>0.344167</td>\n",
       "      <td>0.363478</td>\n",
       "      <td>0.196364</td>\n",
       "      <td>0.2</td>\n",
       "      <td>0.226957</td>\n",
       "      <td>0.204348</td>\n",
       "      <td>0.196522</td>\n",
       "      <td>0.165</td>\n",
       "      <td>0.138333</td>\n",
       "      <td>0.150833</td>\n",
       "      <td>...</td>\n",
       "      <td>0.265833</td>\n",
       "      <td>0.245833</td>\n",
       "      <td>0.231304</td>\n",
       "      <td>0.291304</td>\n",
       "      <td>0.243333</td>\n",
       "      <td>0.254167</td>\n",
       "      <td>0.253333</td>\n",
       "      <td>0.253333</td>\n",
       "      <td>0.255833</td>\n",
       "      <td>0.215833</td>\n",
       "    </tr>\n",
       "    <tr>\n",
       "      <th>windspeed</th>\n",
       "      <td>0.160446</td>\n",
       "      <td>0.248539</td>\n",
       "      <td>0.248309</td>\n",
       "      <td>0.160296</td>\n",
       "      <td>0.1869</td>\n",
       "      <td>0.089565</td>\n",
       "      <td>0.168726</td>\n",
       "      <td>0.266804</td>\n",
       "      <td>0.36195</td>\n",
       "      <td>0.223267</td>\n",
       "      <td>...</td>\n",
       "      <td>0.407346</td>\n",
       "      <td>0.133083</td>\n",
       "      <td>0.07723</td>\n",
       "      <td>0.168726</td>\n",
       "      <td>0.316546</td>\n",
       "      <td>0.350133</td>\n",
       "      <td>0.155471</td>\n",
       "      <td>0.124383</td>\n",
       "      <td>0.350754</td>\n",
       "      <td>0.154846</td>\n",
       "    </tr>\n",
       "  </tbody>\n",
       "</table>\n",
       "<p>5 rows × 730 columns</p>\n",
       "</div>"
      ],
      "text/plain": [
       "                  0           1           2           3           4    \\\n",
       "atemp        0.363625    0.353739    0.189405    0.212122     0.22927   \n",
       "dteday     2011-01-01  2011-01-02  2011-01-03  2011-01-04  2011-01-05   \n",
       "hum          0.805833    0.696087    0.437273    0.590435    0.436957   \n",
       "temp         0.344167    0.363478    0.196364         0.2    0.226957   \n",
       "windspeed    0.160446    0.248539    0.248309    0.160296      0.1869   \n",
       "\n",
       "                  5           6           7           8           9    ...  \\\n",
       "atemp        0.233209    0.208839    0.162254    0.116175    0.150888  ...   \n",
       "dteday     2011-01-06  2011-01-07  2011-01-08  2011-01-09  2011-01-10  ...   \n",
       "hum          0.518261    0.498696    0.535833    0.434167    0.482917  ...   \n",
       "temp         0.204348    0.196522       0.165    0.138333    0.150833  ...   \n",
       "windspeed    0.089565    0.168726    0.266804     0.36195    0.223267  ...   \n",
       "\n",
       "                  720         721         722         723         724  \\\n",
       "atemp        0.236113    0.259471      0.2589    0.294465    0.220333   \n",
       "dteday     2012-12-22  2012-12-23  2012-12-24  2012-12-25  2012-12-26   \n",
       "hum           0.44125    0.515417    0.791304    0.734783    0.823333   \n",
       "temp         0.265833    0.245833    0.231304    0.291304    0.243333   \n",
       "windspeed    0.407346    0.133083     0.07723    0.168726    0.316546   \n",
       "\n",
       "                  725         726         727         728         729  \n",
       "atemp        0.226642    0.255046      0.2424      0.2317    0.223487  \n",
       "dteday     2012-12-27  2012-12-28  2012-12-29  2012-12-30  2012-12-31  \n",
       "hum          0.652917        0.59    0.752917    0.483333      0.5775  \n",
       "temp         0.254167    0.253333    0.253333    0.255833    0.215833  \n",
       "windspeed    0.350133    0.155471    0.124383    0.350754    0.154846  \n",
       "\n",
       "[5 rows x 730 columns]"
      ]
     },
     "execution_count": 14,
     "metadata": {},
     "output_type": "execute_result"
    }
   ],
   "source": [
    "tmp.head() #列と行が逆転している"
   ]
  },
  {
   "cell_type": "code",
   "execution_count": 15,
   "id": "c38ea8be-0aee-4e87-b213-eb950518e1a2",
   "metadata": {},
   "outputs": [
    {
     "data": {
      "text/html": [
       "<div>\n",
       "<style scoped>\n",
       "    .dataframe tbody tr th:only-of-type {\n",
       "        vertical-align: middle;\n",
       "    }\n",
       "\n",
       "    .dataframe tbody tr th {\n",
       "        vertical-align: top;\n",
       "    }\n",
       "\n",
       "    .dataframe thead th {\n",
       "        text-align: right;\n",
       "    }\n",
       "</style>\n",
       "<table border=\"1\" class=\"dataframe\">\n",
       "  <thead>\n",
       "    <tr style=\"text-align: right;\">\n",
       "      <th></th>\n",
       "      <th>atemp</th>\n",
       "      <th>dteday</th>\n",
       "      <th>hum</th>\n",
       "      <th>temp</th>\n",
       "      <th>windspeed</th>\n",
       "    </tr>\n",
       "  </thead>\n",
       "  <tbody>\n",
       "    <tr>\n",
       "      <th>0</th>\n",
       "      <td>0.363625</td>\n",
       "      <td>2011-01-01</td>\n",
       "      <td>0.805833</td>\n",
       "      <td>0.344167</td>\n",
       "      <td>0.160446</td>\n",
       "    </tr>\n",
       "    <tr>\n",
       "      <th>1</th>\n",
       "      <td>0.353739</td>\n",
       "      <td>2011-01-02</td>\n",
       "      <td>0.696087</td>\n",
       "      <td>0.363478</td>\n",
       "      <td>0.248539</td>\n",
       "    </tr>\n",
       "    <tr>\n",
       "      <th>2</th>\n",
       "      <td>0.189405</td>\n",
       "      <td>2011-01-03</td>\n",
       "      <td>0.437273</td>\n",
       "      <td>0.196364</td>\n",
       "      <td>0.248309</td>\n",
       "    </tr>\n",
       "    <tr>\n",
       "      <th>3</th>\n",
       "      <td>0.212122</td>\n",
       "      <td>2011-01-04</td>\n",
       "      <td>0.590435</td>\n",
       "      <td>0.2</td>\n",
       "      <td>0.160296</td>\n",
       "    </tr>\n",
       "    <tr>\n",
       "      <th>4</th>\n",
       "      <td>0.22927</td>\n",
       "      <td>2011-01-05</td>\n",
       "      <td>0.436957</td>\n",
       "      <td>0.226957</td>\n",
       "      <td>0.1869</td>\n",
       "    </tr>\n",
       "    <tr>\n",
       "      <th>...</th>\n",
       "      <td>...</td>\n",
       "      <td>...</td>\n",
       "      <td>...</td>\n",
       "      <td>...</td>\n",
       "      <td>...</td>\n",
       "    </tr>\n",
       "    <tr>\n",
       "      <th>725</th>\n",
       "      <td>0.226642</td>\n",
       "      <td>2012-12-27</td>\n",
       "      <td>0.652917</td>\n",
       "      <td>0.254167</td>\n",
       "      <td>0.350133</td>\n",
       "    </tr>\n",
       "    <tr>\n",
       "      <th>726</th>\n",
       "      <td>0.255046</td>\n",
       "      <td>2012-12-28</td>\n",
       "      <td>0.59</td>\n",
       "      <td>0.253333</td>\n",
       "      <td>0.155471</td>\n",
       "    </tr>\n",
       "    <tr>\n",
       "      <th>727</th>\n",
       "      <td>0.2424</td>\n",
       "      <td>2012-12-29</td>\n",
       "      <td>0.752917</td>\n",
       "      <td>0.253333</td>\n",
       "      <td>0.124383</td>\n",
       "    </tr>\n",
       "    <tr>\n",
       "      <th>728</th>\n",
       "      <td>0.2317</td>\n",
       "      <td>2012-12-30</td>\n",
       "      <td>0.483333</td>\n",
       "      <td>0.255833</td>\n",
       "      <td>0.350754</td>\n",
       "    </tr>\n",
       "    <tr>\n",
       "      <th>729</th>\n",
       "      <td>0.223487</td>\n",
       "      <td>2012-12-31</td>\n",
       "      <td>0.5775</td>\n",
       "      <td>0.215833</td>\n",
       "      <td>0.154846</td>\n",
       "    </tr>\n",
       "  </tbody>\n",
       "</table>\n",
       "<p>730 rows × 5 columns</p>\n",
       "</div>"
      ],
      "text/plain": [
       "        atemp      dteday       hum      temp windspeed\n",
       "0    0.363625  2011-01-01  0.805833  0.344167  0.160446\n",
       "1    0.353739  2011-01-02  0.696087  0.363478  0.248539\n",
       "2    0.189405  2011-01-03  0.437273  0.196364  0.248309\n",
       "3    0.212122  2011-01-04  0.590435       0.2  0.160296\n",
       "4     0.22927  2011-01-05  0.436957  0.226957    0.1869\n",
       "..        ...         ...       ...       ...       ...\n",
       "725  0.226642  2012-12-27  0.652917  0.254167  0.350133\n",
       "726  0.255046  2012-12-28      0.59  0.253333  0.155471\n",
       "727    0.2424  2012-12-29  0.752917  0.253333  0.124383\n",
       "728    0.2317  2012-12-30  0.483333  0.255833  0.350754\n",
       "729  0.223487  2012-12-31    0.5775  0.215833  0.154846\n",
       "\n",
       "[730 rows x 5 columns]"
      ]
     },
     "execution_count": 15,
     "metadata": {},
     "output_type": "execute_result"
    }
   ],
   "source": [
    "#dfを転地する\n",
    "tmp.T"
   ]
  },
  {
   "cell_type": "code",
   "execution_count": 21,
   "id": "a065ecd5-5cd2-4120-9e59-cd0690fc745f",
   "metadata": {},
   "outputs": [
    {
     "data": {
      "text/html": [
       "<div>\n",
       "<style scoped>\n",
       "    .dataframe tbody tr th:only-of-type {\n",
       "        vertical-align: middle;\n",
       "    }\n",
       "\n",
       "    .dataframe tbody tr th {\n",
       "        vertical-align: top;\n",
       "    }\n",
       "\n",
       "    .dataframe thead th {\n",
       "        text-align: right;\n",
       "    }\n",
       "</style>\n",
       "<table border=\"1\" class=\"dataframe\">\n",
       "  <thead>\n",
       "    <tr style=\"text-align: right;\">\n",
       "      <th></th>\n",
       "      <th>dteday</th>\n",
       "      <th>holiday</th>\n",
       "      <th>weekday</th>\n",
       "      <th>workingday</th>\n",
       "      <th>weather_id</th>\n",
       "      <th>cnt</th>\n",
       "      <th>weather</th>\n",
       "    </tr>\n",
       "  </thead>\n",
       "  <tbody>\n",
       "    <tr>\n",
       "      <th>0</th>\n",
       "      <td>2011-01-01</td>\n",
       "      <td>0</td>\n",
       "      <td>6</td>\n",
       "      <td>0</td>\n",
       "      <td>2</td>\n",
       "      <td>985</td>\n",
       "      <td>曇り</td>\n",
       "    </tr>\n",
       "    <tr>\n",
       "      <th>1</th>\n",
       "      <td>2011-01-02</td>\n",
       "      <td>0</td>\n",
       "      <td>0</td>\n",
       "      <td>0</td>\n",
       "      <td>2</td>\n",
       "      <td>801</td>\n",
       "      <td>曇り</td>\n",
       "    </tr>\n",
       "    <tr>\n",
       "      <th>2</th>\n",
       "      <td>2011-01-07</td>\n",
       "      <td>0</td>\n",
       "      <td>5</td>\n",
       "      <td>1</td>\n",
       "      <td>2</td>\n",
       "      <td>1510</td>\n",
       "      <td>曇り</td>\n",
       "    </tr>\n",
       "    <tr>\n",
       "      <th>3</th>\n",
       "      <td>2011-01-08</td>\n",
       "      <td>0</td>\n",
       "      <td>6</td>\n",
       "      <td>0</td>\n",
       "      <td>2</td>\n",
       "      <td>959</td>\n",
       "      <td>曇り</td>\n",
       "    </tr>\n",
       "    <tr>\n",
       "      <th>4</th>\n",
       "      <td>2011-01-11</td>\n",
       "      <td>0</td>\n",
       "      <td>2</td>\n",
       "      <td>1</td>\n",
       "      <td>2</td>\n",
       "      <td>1263</td>\n",
       "      <td>曇り</td>\n",
       "    </tr>\n",
       "  </tbody>\n",
       "</table>\n",
       "</div>"
      ],
      "text/plain": [
       "       dteday  holiday  weekday  workingday  weather_id   cnt weather\n",
       "0  2011-01-01        0        6           0           2   985      曇り\n",
       "1  2011-01-02        0        0           0           2   801      曇り\n",
       "2  2011-01-07        0        5           1           2  1510      曇り\n",
       "3  2011-01-08        0        6           0           2   959      曇り\n",
       "4  2011-01-11        0        2           1           2  1263      曇り"
      ]
     },
     "execution_count": 21,
     "metadata": {},
     "output_type": "execute_result"
    }
   ],
   "source": [
    "#内部結合\n",
    "#データフレームの共通の列に対して同じ値の行どうしを結合する\n",
    "\n",
    "df2 = df.merge(weather,how='inner', on = 'weather_id')\n",
    "df2.head()#weather_idに対応するwweather列が結合された"
   ]
  },
  {
   "cell_type": "code",
   "execution_count": 22,
   "id": "21446903-9cf0-4de0-a28d-2a9c4ab8ec97",
   "metadata": {},
   "outputs": [
    {
     "data": {
      "text/plain": [
       "weather\n",
       "晴れ    4876.786177\n",
       "曇り    4052.672065\n",
       "雨     1803.285714\n",
       "Name: cnt, dtype: float64"
      ]
     },
     "execution_count": 22,
     "metadata": {},
     "output_type": "execute_result"
    }
   ],
   "source": [
    "#weatherごとのcntの平均\n",
    "df2.groupby(['weather']).mean()['cnt']"
   ]
  },
  {
   "cell_type": "code",
   "execution_count": 29,
   "id": "93316878-38aa-457e-a6b6-3eca05048380",
   "metadata": {},
   "outputs": [
    {
     "data": {
      "text/html": [
       "<div>\n",
       "<style scoped>\n",
       "    .dataframe tbody tr th:only-of-type {\n",
       "        vertical-align: middle;\n",
       "    }\n",
       "\n",
       "    .dataframe tbody tr th {\n",
       "        vertical-align: top;\n",
       "    }\n",
       "\n",
       "    .dataframe thead th {\n",
       "        text-align: right;\n",
       "    }\n",
       "</style>\n",
       "<table border=\"1\" class=\"dataframe\">\n",
       "  <thead>\n",
       "    <tr style=\"text-align: right;\">\n",
       "      <th></th>\n",
       "      <th>atemp</th>\n",
       "      <th>dteday</th>\n",
       "      <th>hum</th>\n",
       "      <th>temp</th>\n",
       "      <th>windspeed</th>\n",
       "    </tr>\n",
       "  </thead>\n",
       "  <tbody>\n",
       "    <tr>\n",
       "      <th>199</th>\n",
       "      <td>0.747479</td>\n",
       "      <td>2011-07-19</td>\n",
       "      <td>0.650417</td>\n",
       "      <td>0.776667</td>\n",
       "      <td>0.1306</td>\n",
       "    </tr>\n",
       "    <tr>\n",
       "      <th>200</th>\n",
       "      <td>0.826371</td>\n",
       "      <td>2011-07-21</td>\n",
       "      <td>0.69125</td>\n",
       "      <td>0.815</td>\n",
       "      <td>0.222021</td>\n",
       "    </tr>\n",
       "    <tr>\n",
       "      <th>201</th>\n",
       "      <td>None</td>\n",
       "      <td>2011-07-22</td>\n",
       "      <td>0.580417</td>\n",
       "      <td>0.848333</td>\n",
       "      <td>0.1331</td>\n",
       "    </tr>\n",
       "  </tbody>\n",
       "</table>\n",
       "</div>"
      ],
      "text/plain": [
       "        atemp      dteday       hum      temp windspeed\n",
       "199  0.747479  2011-07-19  0.650417  0.776667    0.1306\n",
       "200  0.826371  2011-07-21   0.69125     0.815  0.222021\n",
       "201      None  2011-07-22  0.580417  0.848333    0.1331"
      ]
     },
     "execution_count": 29,
     "metadata": {},
     "output_type": "execute_result"
    }
   ],
   "source": [
    "#外部結合\n",
    " #内部結合では結合できなかった行は削除される\n",
    " #結合できないときは欠損値として扱う結合が外部結合\n",
    "tmp = tmp.T\n",
    "tmp.loc[199:201,] #7-20のデータが欠損"
   ]
  },
  {
   "cell_type": "code",
   "execution_count": 30,
   "id": "58013574-284c-4a87-9426-f64d15992f3f",
   "metadata": {},
   "outputs": [],
   "source": [
    "#外部結合を行う\n",
    "df3 = df2.merge(tmp,how = 'left', on = 'dteday')"
   ]
  },
  {
   "cell_type": "code",
   "execution_count": 32,
   "id": "aba1a933-7771-4182-8253-fe190ade9aa4",
   "metadata": {},
   "outputs": [
    {
     "data": {
      "text/html": [
       "<div>\n",
       "<style scoped>\n",
       "    .dataframe tbody tr th:only-of-type {\n",
       "        vertical-align: middle;\n",
       "    }\n",
       "\n",
       "    .dataframe tbody tr th {\n",
       "        vertical-align: top;\n",
       "    }\n",
       "\n",
       "    .dataframe thead th {\n",
       "        text-align: right;\n",
       "    }\n",
       "</style>\n",
       "<table border=\"1\" class=\"dataframe\">\n",
       "  <thead>\n",
       "    <tr style=\"text-align: right;\">\n",
       "      <th></th>\n",
       "      <th>dteday</th>\n",
       "      <th>holiday</th>\n",
       "      <th>weekday</th>\n",
       "      <th>workingday</th>\n",
       "      <th>weather_id</th>\n",
       "      <th>cnt</th>\n",
       "      <th>weather</th>\n",
       "      <th>atemp</th>\n",
       "      <th>hum</th>\n",
       "      <th>temp</th>\n",
       "      <th>windspeed</th>\n",
       "    </tr>\n",
       "  </thead>\n",
       "  <tbody>\n",
       "    <tr>\n",
       "      <th>370</th>\n",
       "      <td>2011-07-20</td>\n",
       "      <td>0</td>\n",
       "      <td>3</td>\n",
       "      <td>1</td>\n",
       "      <td>1</td>\n",
       "      <td>4332</td>\n",
       "      <td>晴れ</td>\n",
       "      <td>NaN</td>\n",
       "      <td>NaN</td>\n",
       "      <td>NaN</td>\n",
       "      <td>NaN</td>\n",
       "    </tr>\n",
       "  </tbody>\n",
       "</table>\n",
       "</div>"
      ],
      "text/plain": [
       "         dteday  holiday  weekday  workingday  weather_id   cnt weather atemp  \\\n",
       "370  2011-07-20        0        3           1           1  4332      晴れ   NaN   \n",
       "\n",
       "     hum temp windspeed  \n",
       "370  NaN  NaN       NaN  "
      ]
     },
     "execution_count": 32,
     "metadata": {},
     "output_type": "execute_result"
    }
   ],
   "source": [
    "df3[df3['dteday'] == '2011-07-20'] #tmpのデータがNaNとして追加されている"
   ]
  },
  {
   "cell_type": "code",
   "execution_count": 33,
   "id": "8f035cd3-6775-49c6-af4e-13907b5a591e",
   "metadata": {},
   "outputs": [
    {
     "data": {
      "text/plain": [
       "<AxesSubplot:>"
      ]
     },
     "execution_count": 33,
     "metadata": {},
     "output_type": "execute_result"
    },
    {
     "data": {
      "image/png": "[encoded data removed]",
      "text/plain": [
       "<Figure size 432x288 with 1 Axes>"
      ]
     },
     "metadata": {
      "needs_background": "light"
     },
     "output_type": "display_data"
    }
   ],
   "source": [
    "#線形補完\n",
    " #時系列データに対する補間方法\n",
    "\n",
    "#時系列データの折れ線グラフ表示\n",
    "%matplotlib inline\n",
    "df3['temp'].plot(kind='line')"
   ]
  },
  {
   "cell_type": "code",
   "execution_count": 35,
   "id": "89c733ca-5e33-46fc-9cc8-b1ada5dd41f2",
   "metadata": {},
   "outputs": [
    {
     "data": {
      "text/plain": [
       "<AxesSubplot:>"
      ]
     },
     "execution_count": 35,
     "metadata": {},
     "output_type": "execute_result"
    },
    {
     "data": {
      "image/png": "[encoded data removed]",
      "text/plain": [
       "<Figure size 432x288 with 1 Axes>"
      ]
     },
     "metadata": {
      "needs_background": "light"
     },
     "output_type": "display_data"
    }
   ],
   "source": [
    "df3[['temp','hum']].plot(kind='line') #複数データの表示 複数の列をしていする場合は2重リストを使う"
   ]
  },
  {
   "cell_type": "code",
   "execution_count": 36,
   "id": "9363e393-3019-4ca5-95a5-413f36144217",
   "metadata": {},
   "outputs": [
    {
     "data": {
      "text/plain": [
       "<AxesSubplot:ylabel='Frequency'>"
      ]
     },
     "execution_count": 36,
     "metadata": {},
     "output_type": "execute_result"
    },
    {
     "data": {
      "image/png": "[encoded data removed]",
      "text/plain": [
       "<Figure size 432x288 with 1 Axes>"
      ]
     },
     "metadata": {
      "needs_background": "light"
     },
     "output_type": "display_data"
    }
   ],
   "source": [
    "#ヒストグラムの描画\n",
    "df3['temp'].plot(kind='hist')"
   ]
  },
  {
   "cell_type": "code",
   "execution_count": 38,
   "id": "37283d9e-eefc-4138-a920-78330bf45247",
   "metadata": {},
   "outputs": [
    {
     "data": {
      "text/plain": [
       "<AxesSubplot:>"
      ]
     },
     "execution_count": 38,
     "metadata": {},
     "output_type": "execute_result"
    },
    {
     "data": {
      "image/png": "[encoded data removed]",
      "text/plain": [
       "<Figure size 432x288 with 1 Axes>"
      ]
     },
     "metadata": {
      "needs_background": "light"
     },
     "output_type": "display_data"
    }
   ],
   "source": [
    "#欠損値\n",
    "df3['atemp'].loc[220:240,].plot(kind='line')"
   ]
  },
  {
   "cell_type": "code",
   "execution_count": 42,
   "id": "db522b8d-b66b-4df9-8b66-7b853e0c55d2",
   "metadata": {},
   "outputs": [
    {
     "data": {
      "text/plain": [
       "<AxesSubplot:>"
      ]
     },
     "execution_count": 42,
     "metadata": {},
     "output_type": "execute_result"
    },
    {
     "data": {
      "image/png": "[encoded data removed]",
      "text/plain": [
       "<Figure size 432x288 with 1 Axes>"
      ]
     },
     "metadata": {
      "needs_background": "light"
     },
     "output_type": "display_data"
    }
   ],
   "source": [
    "#欠損値の前後の値を考慮して欠損を埋める\n",
    "df3['atemp'] = df3['atemp'].astype(float) #データの方をfloatに変更\n",
    "df3['atemp'] = df3['atemp'].interpolate() #欠損値を線形補間\n",
    "df3.loc[220:240,'atemp'].plot(kind='line')"
   ]
  },
  {
   "cell_type": "code",
   "execution_count": null,
   "id": "0bb710ca-4aae-45b4-bf55-1f10242e85ef",
   "metadata": {},
   "outputs": [],
   "source": [
    "#欠損値を回帰で求める方法もある→前処理段階でMLを使う"
   ]
  },
  {
   "cell_type": "code",
   "execution_count": null,
   "id": "9f22bd30-8558-4f7b-ab7e-bc0628970a71",
   "metadata": {},
   "outputs": [],
   "source": []
  },
  {
   "cell_type": "code",
   "execution_count": null,
   "id": "814f825f-fd07-462f-9b06-2da4558a2477",
   "metadata": {},
   "outputs": [],
   "source": []
  }
 ],
 "metadata": {
  "kernelspec": {
   "display_name": "Python 3 (ipykernel)",
   "language": "python",
   "name": "python3"
  },
  "language_info": {
   "codemirror_mode": {
    "name": "ipython",
    "version": 3
   },
   "file_extension": ".py",
   "mimetype": "text/x-python",
   "name": "python",
   "nbconvert_exporter": "python",
   "pygments_lexer": "ipython3",
   "version": "3.8.12"
  }
 },
 "nbformat": 4,
 "nbformat_minor": 5
}
