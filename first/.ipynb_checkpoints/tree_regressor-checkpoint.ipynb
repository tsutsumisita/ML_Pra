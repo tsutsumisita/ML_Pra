{
 "cells": [
  {
   "cell_type": "code",
   "execution_count": 1,
   "id": "8304e2ce-d87d-4ca2-880e-c29f30922a4c",
   "metadata": {},
   "outputs": [],
   "source": [
    "#回帰木\n",
    "#分類したデータの平均を正解データとする\n",
    "import pandas as pd\n",
    "from sklearn.model_selection import train_test_split"
   ]
  },
  {
   "cell_type": "code",
   "execution_count": 2,
   "id": "7ba6c260-e2c4-4954-b6de-ed3cd66a905a",
   "metadata": {},
   "outputs": [],
   "source": [
    "#データの前処理\n",
    "df = pd.read_csv('datafiles/Boston.csv')"
   ]
  },
  {
   "cell_type": "code",
   "execution_count": 3,
   "id": "f807796c-2b87-4edd-bdad-45367e1b8f33",
   "metadata": {},
   "outputs": [
    {
     "name": "stderr",
     "output_type": "stream",
     "text": [
      "C:\\Users\\tnakg\\AppData\\Local\\Temp/ipykernel_4312/114435927.py:1: FutureWarning: Dropping of nuisance columns in DataFrame reductions (with 'numeric_only=None') is deprecated; in a future version this will raise TypeError.  Select only valid columns before calling the reduction.\n",
      "  df = df.fillna(df.mean())\n"
     ]
    }
   ],
   "source": [
    "df = df.fillna(df.mean())"
   ]
  },
  {
   "cell_type": "code",
   "execution_count": 14,
   "id": "a53ffa70-17aa-4b26-b17b-292a08308c9a",
   "metadata": {},
   "outputs": [],
   "source": [
    "x = df.loc[:,'ZN':'LSTAT']"
   ]
  },
  {
   "cell_type": "code",
   "execution_count": 6,
   "id": "74002fec-c372-41a8-92d5-b2a37ee9b20b",
   "metadata": {},
   "outputs": [],
   "source": [
    "t = df['PRICE']"
   ]
  },
  {
   "cell_type": "code",
   "execution_count": 15,
   "id": "7ffbbc1e-0527-4d1b-9ccc-e46adb6fbdc4",
   "metadata": {},
   "outputs": [],
   "source": [
    "x_train,x_test,y_train,y_test = train_test_split(x,t,test_size=0.2,random_state = 0)"
   ]
  },
  {
   "cell_type": "code",
   "execution_count": 16,
   "id": "e1437619-b16d-4aa5-835f-d78bcee6bc03",
   "metadata": {},
   "outputs": [
    {
     "data": {
      "text/plain": [
       "DecisionTreeRegressor(max_depth=10, random_state=0)"
      ]
     },
     "execution_count": 16,
     "metadata": {},
     "output_type": "execute_result"
    }
   ],
   "source": [
    "from sklearn.tree import DecisionTreeRegressor\n",
    "\n",
    "model = DecisionTreeRegressor(max_depth = 10,random_state = 0) #木の深さを10に制限\n",
    "model.fit(x_train,y_train)"
   ]
  },
  {
   "cell_type": "code",
   "execution_count": 17,
   "id": "d504cbbf-583e-447c-a6f7-e1c511012417",
   "metadata": {},
   "outputs": [
    {
     "data": {
      "text/plain": [
       "0.45061881518374647"
      ]
     },
     "execution_count": 17,
     "metadata": {},
     "output_type": "execute_result"
    }
   ],
   "source": [
    "model.score(x_test,y_test)"
   ]
  },
  {
   "cell_type": "code",
   "execution_count": 18,
   "id": "c2d11915-f400-4552-be1e-5d197a801bd2",
   "metadata": {},
   "outputs": [
    {
     "data": {
      "text/plain": [
       "ZN         0.001054\n",
       "INDUS      0.007846\n",
       "CHAS       0.000000\n",
       "NOX        0.008791\n",
       "RM         0.650557\n",
       "AGE        0.005694\n",
       "DIS        0.106225\n",
       "RAD        0.026264\n",
       "TAX        0.005464\n",
       "PTRATIO    0.018159\n",
       "B          0.003728\n",
       "LSTAT      0.166217\n",
       "dtype: float64"
      ]
     },
     "execution_count": 18,
     "metadata": {},
     "output_type": "execute_result"
    }
   ],
   "source": [
    "#特徴量の重要度を参照\n",
    "pd.Series(model.feature_importances_, index = x.columns)"
   ]
  },
  {
   "cell_type": "code",
   "execution_count": null,
   "id": "b9013afa-6875-4a73-86e9-7211a2f40cb6",
   "metadata": {},
   "outputs": [],
   "source": []
  }
 ],
 "metadata": {
  "kernelspec": {
   "display_name": "Python 3 (ipykernel)",
   "language": "python",
   "name": "python3"
  },
  "language_info": {
   "codemirror_mode": {
    "name": "ipython",
    "version": 3
   },
   "file_extension": ".py",
   "mimetype": "text/x-python",
   "name": "python",
   "nbconvert_exporter": "python",
   "pygments_lexer": "ipython3",
   "version": "3.8.12"
  }
 },
 "nbformat": 4,
 "nbformat_minor": 5
}
