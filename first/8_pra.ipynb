{
 "cells": [
  {
   "cell_type": "code",
   "execution_count": 146,
   "id": "3ed5fa4b-9fd9-40ea-bc2c-58282720b0bb",
   "metadata": {},
   "outputs": [],
   "source": [
    "#必要なモジュールをインポート\n",
    "import pandas as pd\n",
    "%matplotlib inline\n",
    "from sklearn.linear_model import LinearRegression\n",
    "from sklearn.model_selection import train_test_split"
   ]
  },
  {
   "cell_type": "code",
   "execution_count": 147,
   "id": "3c665771-98cb-489f-b373-813981034b2f",
   "metadata": {},
   "outputs": [],
   "source": [
    "#データの読み込み\n",
    "df = pd.read_csv('datafiles/Boston.csv')"
   ]
  },
  {
   "cell_type": "code",
   "execution_count": 148,
   "id": "e277b167-6f51-4b0a-addb-1a16079043c4",
   "metadata": {},
   "outputs": [
    {
     "data": {
      "text/html": [
       "<div>\n",
       "<style scoped>\n",
       "    .dataframe tbody tr th:only-of-type {\n",
       "        vertical-align: middle;\n",
       "    }\n",
       "\n",
       "    .dataframe tbody tr th {\n",
       "        vertical-align: top;\n",
       "    }\n",
       "\n",
       "    .dataframe thead th {\n",
       "        text-align: right;\n",
       "    }\n",
       "</style>\n",
       "<table border=\"1\" class=\"dataframe\">\n",
       "  <thead>\n",
       "    <tr style=\"text-align: right;\">\n",
       "      <th></th>\n",
       "      <th>CRIME</th>\n",
       "      <th>ZN</th>\n",
       "      <th>INDUS</th>\n",
       "      <th>CHAS</th>\n",
       "      <th>NOX</th>\n",
       "      <th>RM</th>\n",
       "      <th>AGE</th>\n",
       "      <th>DIS</th>\n",
       "      <th>RAD</th>\n",
       "      <th>TAX</th>\n",
       "      <th>PTRATIO</th>\n",
       "      <th>B</th>\n",
       "      <th>LSTAT</th>\n",
       "      <th>PRICE</th>\n",
       "    </tr>\n",
       "  </thead>\n",
       "  <tbody>\n",
       "    <tr>\n",
       "      <th>0</th>\n",
       "      <td>high</td>\n",
       "      <td>0.0</td>\n",
       "      <td>18.10</td>\n",
       "      <td>0</td>\n",
       "      <td>0.718</td>\n",
       "      <td>3.561</td>\n",
       "      <td>87.9</td>\n",
       "      <td>1.6132</td>\n",
       "      <td>24.0</td>\n",
       "      <td>666</td>\n",
       "      <td>20.2</td>\n",
       "      <td>354.70</td>\n",
       "      <td>7.12</td>\n",
       "      <td>27.5</td>\n",
       "    </tr>\n",
       "    <tr>\n",
       "      <th>1</th>\n",
       "      <td>low</td>\n",
       "      <td>0.0</td>\n",
       "      <td>8.14</td>\n",
       "      <td>0</td>\n",
       "      <td>0.538</td>\n",
       "      <td>5.950</td>\n",
       "      <td>82.0</td>\n",
       "      <td>3.9900</td>\n",
       "      <td>4.0</td>\n",
       "      <td>307</td>\n",
       "      <td>21.0</td>\n",
       "      <td>232.60</td>\n",
       "      <td>27.71</td>\n",
       "      <td>13.2</td>\n",
       "    </tr>\n",
       "    <tr>\n",
       "      <th>2</th>\n",
       "      <td>very_low</td>\n",
       "      <td>82.5</td>\n",
       "      <td>2.03</td>\n",
       "      <td>0</td>\n",
       "      <td>0.415</td>\n",
       "      <td>6.162</td>\n",
       "      <td>38.4</td>\n",
       "      <td>6.2700</td>\n",
       "      <td>2.0</td>\n",
       "      <td>348</td>\n",
       "      <td>14.7</td>\n",
       "      <td>393.77</td>\n",
       "      <td>7.43</td>\n",
       "      <td>24.1</td>\n",
       "    </tr>\n",
       "    <tr>\n",
       "      <th>3</th>\n",
       "      <td>low</td>\n",
       "      <td>0.0</td>\n",
       "      <td>21.89</td>\n",
       "      <td>0</td>\n",
       "      <td>0.624</td>\n",
       "      <td>6.151</td>\n",
       "      <td>97.9</td>\n",
       "      <td>1.6687</td>\n",
       "      <td>4.0</td>\n",
       "      <td>437</td>\n",
       "      <td>21.2</td>\n",
       "      <td>396.90</td>\n",
       "      <td>18.46</td>\n",
       "      <td>17.8</td>\n",
       "    </tr>\n",
       "    <tr>\n",
       "      <th>4</th>\n",
       "      <td>high</td>\n",
       "      <td>0.0</td>\n",
       "      <td>18.10</td>\n",
       "      <td>0</td>\n",
       "      <td>0.614</td>\n",
       "      <td>6.980</td>\n",
       "      <td>67.6</td>\n",
       "      <td>2.5329</td>\n",
       "      <td>24.0</td>\n",
       "      <td>666</td>\n",
       "      <td>20.2</td>\n",
       "      <td>374.68</td>\n",
       "      <td>11.66</td>\n",
       "      <td>29.8</td>\n",
       "    </tr>\n",
       "  </tbody>\n",
       "</table>\n",
       "</div>"
      ],
      "text/plain": [
       "      CRIME    ZN  INDUS  CHAS    NOX     RM   AGE     DIS   RAD  TAX  \\\n",
       "0      high   0.0  18.10     0  0.718  3.561  87.9  1.6132  24.0  666   \n",
       "1       low   0.0   8.14     0  0.538  5.950  82.0  3.9900   4.0  307   \n",
       "2  very_low  82.5   2.03     0  0.415  6.162  38.4  6.2700   2.0  348   \n",
       "3       low   0.0  21.89     0  0.624  6.151  97.9  1.6687   4.0  437   \n",
       "4      high   0.0  18.10     0  0.614  6.980  67.6  2.5329  24.0  666   \n",
       "\n",
       "   PTRATIO       B  LSTAT  PRICE  \n",
       "0     20.2  354.70   7.12   27.5  \n",
       "1     21.0  232.60  27.71   13.2  \n",
       "2     14.7  393.77   7.43   24.1  \n",
       "3     21.2  396.90  18.46   17.8  \n",
       "4     20.2  374.68  11.66   29.8  "
      ]
     },
     "execution_count": 148,
     "metadata": {},
     "output_type": "execute_result"
    }
   ],
   "source": [
    "df.head()\n"
   ]
  },
  {
   "cell_type": "code",
   "execution_count": 149,
   "id": "c84c7ce2-67e8-4196-876e-a32801e0c378",
   "metadata": {},
   "outputs": [
    {
     "data": {
      "text/html": [
       "<div>\n",
       "<style scoped>\n",
       "    .dataframe tbody tr th:only-of-type {\n",
       "        vertical-align: middle;\n",
       "    }\n",
       "\n",
       "    .dataframe tbody tr th {\n",
       "        vertical-align: top;\n",
       "    }\n",
       "\n",
       "    .dataframe thead th {\n",
       "        text-align: right;\n",
       "    }\n",
       "</style>\n",
       "<table border=\"1\" class=\"dataframe\">\n",
       "  <thead>\n",
       "    <tr style=\"text-align: right;\">\n",
       "      <th></th>\n",
       "      <th>CRIME</th>\n",
       "      <th>ZN</th>\n",
       "      <th>INDUS</th>\n",
       "      <th>CHAS</th>\n",
       "      <th>NOX</th>\n",
       "      <th>RM</th>\n",
       "      <th>AGE</th>\n",
       "      <th>DIS</th>\n",
       "      <th>RAD</th>\n",
       "      <th>TAX</th>\n",
       "      <th>PTRATIO</th>\n",
       "      <th>B</th>\n",
       "      <th>LSTAT</th>\n",
       "      <th>PRICE</th>\n",
       "    </tr>\n",
       "  </thead>\n",
       "  <tbody>\n",
       "    <tr>\n",
       "      <th>0</th>\n",
       "      <td>high</td>\n",
       "      <td>0.0</td>\n",
       "      <td>18.10</td>\n",
       "      <td>0</td>\n",
       "      <td>0.718</td>\n",
       "      <td>3.561</td>\n",
       "      <td>87.9</td>\n",
       "      <td>1.6132</td>\n",
       "      <td>24.0</td>\n",
       "      <td>666</td>\n",
       "      <td>20.2</td>\n",
       "      <td>354.70</td>\n",
       "      <td>7.12</td>\n",
       "      <td>27.5</td>\n",
       "    </tr>\n",
       "    <tr>\n",
       "      <th>1</th>\n",
       "      <td>low</td>\n",
       "      <td>0.0</td>\n",
       "      <td>8.14</td>\n",
       "      <td>0</td>\n",
       "      <td>0.538</td>\n",
       "      <td>5.950</td>\n",
       "      <td>82.0</td>\n",
       "      <td>3.9900</td>\n",
       "      <td>4.0</td>\n",
       "      <td>307</td>\n",
       "      <td>21.0</td>\n",
       "      <td>232.60</td>\n",
       "      <td>27.71</td>\n",
       "      <td>13.2</td>\n",
       "    </tr>\n",
       "    <tr>\n",
       "      <th>2</th>\n",
       "      <td>very_low</td>\n",
       "      <td>82.5</td>\n",
       "      <td>2.03</td>\n",
       "      <td>0</td>\n",
       "      <td>0.415</td>\n",
       "      <td>6.162</td>\n",
       "      <td>38.4</td>\n",
       "      <td>6.2700</td>\n",
       "      <td>2.0</td>\n",
       "      <td>348</td>\n",
       "      <td>14.7</td>\n",
       "      <td>393.77</td>\n",
       "      <td>7.43</td>\n",
       "      <td>24.1</td>\n",
       "    </tr>\n",
       "    <tr>\n",
       "      <th>3</th>\n",
       "      <td>low</td>\n",
       "      <td>0.0</td>\n",
       "      <td>21.89</td>\n",
       "      <td>0</td>\n",
       "      <td>0.624</td>\n",
       "      <td>6.151</td>\n",
       "      <td>97.9</td>\n",
       "      <td>1.6687</td>\n",
       "      <td>4.0</td>\n",
       "      <td>437</td>\n",
       "      <td>21.2</td>\n",
       "      <td>396.90</td>\n",
       "      <td>18.46</td>\n",
       "      <td>17.8</td>\n",
       "    </tr>\n",
       "    <tr>\n",
       "      <th>4</th>\n",
       "      <td>high</td>\n",
       "      <td>0.0</td>\n",
       "      <td>18.10</td>\n",
       "      <td>0</td>\n",
       "      <td>0.614</td>\n",
       "      <td>6.980</td>\n",
       "      <td>67.6</td>\n",
       "      <td>2.5329</td>\n",
       "      <td>24.0</td>\n",
       "      <td>666</td>\n",
       "      <td>20.2</td>\n",
       "      <td>374.68</td>\n",
       "      <td>11.66</td>\n",
       "      <td>29.8</td>\n",
       "    </tr>\n",
       "    <tr>\n",
       "      <th>...</th>\n",
       "      <td>...</td>\n",
       "      <td>...</td>\n",
       "      <td>...</td>\n",
       "      <td>...</td>\n",
       "      <td>...</td>\n",
       "      <td>...</td>\n",
       "      <td>...</td>\n",
       "      <td>...</td>\n",
       "      <td>...</td>\n",
       "      <td>...</td>\n",
       "      <td>...</td>\n",
       "      <td>...</td>\n",
       "      <td>...</td>\n",
       "      <td>...</td>\n",
       "    </tr>\n",
       "    <tr>\n",
       "      <th>95</th>\n",
       "      <td>high</td>\n",
       "      <td>0.0</td>\n",
       "      <td>18.10</td>\n",
       "      <td>0</td>\n",
       "      <td>0.740</td>\n",
       "      <td>6.219</td>\n",
       "      <td>100.0</td>\n",
       "      <td>2.0048</td>\n",
       "      <td>24.0</td>\n",
       "      <td>666</td>\n",
       "      <td>20.2</td>\n",
       "      <td>395.69</td>\n",
       "      <td>16.59</td>\n",
       "      <td>18.4</td>\n",
       "    </tr>\n",
       "    <tr>\n",
       "      <th>96</th>\n",
       "      <td>high</td>\n",
       "      <td>0.0</td>\n",
       "      <td>18.10</td>\n",
       "      <td>0</td>\n",
       "      <td>0.655</td>\n",
       "      <td>5.759</td>\n",
       "      <td>48.2</td>\n",
       "      <td>3.0665</td>\n",
       "      <td>24.0</td>\n",
       "      <td>666</td>\n",
       "      <td>20.2</td>\n",
       "      <td>334.40</td>\n",
       "      <td>14.13</td>\n",
       "      <td>19.9</td>\n",
       "    </tr>\n",
       "    <tr>\n",
       "      <th>97</th>\n",
       "      <td>high</td>\n",
       "      <td>0.0</td>\n",
       "      <td>18.10</td>\n",
       "      <td>0</td>\n",
       "      <td>0.671</td>\n",
       "      <td>6.380</td>\n",
       "      <td>96.2</td>\n",
       "      <td>1.3861</td>\n",
       "      <td>24.0</td>\n",
       "      <td>666</td>\n",
       "      <td>20.2</td>\n",
       "      <td>396.90</td>\n",
       "      <td>23.69</td>\n",
       "      <td>13.1</td>\n",
       "    </tr>\n",
       "    <tr>\n",
       "      <th>98</th>\n",
       "      <td>low</td>\n",
       "      <td>0.0</td>\n",
       "      <td>9.90</td>\n",
       "      <td>0</td>\n",
       "      <td>0.544</td>\n",
       "      <td>5.914</td>\n",
       "      <td>83.2</td>\n",
       "      <td>3.9986</td>\n",
       "      <td>4.0</td>\n",
       "      <td>304</td>\n",
       "      <td>18.4</td>\n",
       "      <td>390.70</td>\n",
       "      <td>18.33</td>\n",
       "      <td>17.8</td>\n",
       "    </tr>\n",
       "    <tr>\n",
       "      <th>99</th>\n",
       "      <td>high</td>\n",
       "      <td>0.0</td>\n",
       "      <td>18.10</td>\n",
       "      <td>0</td>\n",
       "      <td>0.693</td>\n",
       "      <td>5.453</td>\n",
       "      <td>100.0</td>\n",
       "      <td>1.4896</td>\n",
       "      <td>24.0</td>\n",
       "      <td>666</td>\n",
       "      <td>20.2</td>\n",
       "      <td>396.90</td>\n",
       "      <td>30.59</td>\n",
       "      <td>5.0</td>\n",
       "    </tr>\n",
       "  </tbody>\n",
       "</table>\n",
       "<p>100 rows × 14 columns</p>\n",
       "</div>"
      ],
      "text/plain": [
       "       CRIME    ZN  INDUS  CHAS    NOX     RM    AGE     DIS   RAD  TAX  \\\n",
       "0       high   0.0  18.10     0  0.718  3.561   87.9  1.6132  24.0  666   \n",
       "1        low   0.0   8.14     0  0.538  5.950   82.0  3.9900   4.0  307   \n",
       "2   very_low  82.5   2.03     0  0.415  6.162   38.4  6.2700   2.0  348   \n",
       "3        low   0.0  21.89     0  0.624  6.151   97.9  1.6687   4.0  437   \n",
       "4       high   0.0  18.10     0  0.614  6.980   67.6  2.5329  24.0  666   \n",
       "..       ...   ...    ...   ...    ...    ...    ...     ...   ...  ...   \n",
       "95      high   0.0  18.10     0  0.740  6.219  100.0  2.0048  24.0  666   \n",
       "96      high   0.0  18.10     0  0.655  5.759   48.2  3.0665  24.0  666   \n",
       "97      high   0.0  18.10     0  0.671  6.380   96.2  1.3861  24.0  666   \n",
       "98       low   0.0   9.90     0  0.544  5.914   83.2  3.9986   4.0  304   \n",
       "99      high   0.0  18.10     0  0.693  5.453  100.0  1.4896  24.0  666   \n",
       "\n",
       "    PTRATIO       B  LSTAT  PRICE  \n",
       "0      20.2  354.70   7.12   27.5  \n",
       "1      21.0  232.60  27.71   13.2  \n",
       "2      14.7  393.77   7.43   24.1  \n",
       "3      21.2  396.90  18.46   17.8  \n",
       "4      20.2  374.68  11.66   29.8  \n",
       "..      ...     ...    ...    ...  \n",
       "95     20.2  395.69  16.59   18.4  \n",
       "96     20.2  334.40  14.13   19.9  \n",
       "97     20.2  396.90  23.69   13.1  \n",
       "98     18.4  390.70  18.33   17.8  \n",
       "99     20.2  396.90  30.59    5.0  \n",
       "\n",
       "[100 rows x 14 columns]"
      ]
     },
     "execution_count": 149,
     "metadata": {},
     "output_type": "execute_result"
    }
   ],
   "source": [
    "df"
   ]
  },
  {
   "cell_type": "code",
   "execution_count": 150,
   "id": "4a97a804-2bf7-4cb3-a4c5-406ce92b6402",
   "metadata": {},
   "outputs": [],
   "source": [
    "#前処理"
   ]
  },
  {
   "cell_type": "code",
   "execution_count": 151,
   "id": "bce5bd41-506a-4613-ae58-47d640eddf52",
   "metadata": {},
   "outputs": [
    {
     "data": {
      "text/plain": [
       "very_low    50\n",
       "high        25\n",
       "low         25\n",
       "Name: CRIME, dtype: int64"
      ]
     },
     "execution_count": 151,
     "metadata": {},
     "output_type": "execute_result"
    }
   ],
   "source": [
    "#ダミー変数化→文字列を値に割り当てる\n",
    "#今回はCRIME列をダミー変数化\n",
    "df['CRIME'].value_counts()"
   ]
  },
  {
   "cell_type": "code",
   "execution_count": 152,
   "id": "166453ba-22e4-4805-aaf7-a38f08aca4f3",
   "metadata": {},
   "outputs": [
    {
     "data": {
      "text/html": [
       "<div>\n",
       "<style scoped>\n",
       "    .dataframe tbody tr th:only-of-type {\n",
       "        vertical-align: middle;\n",
       "    }\n",
       "\n",
       "    .dataframe tbody tr th {\n",
       "        vertical-align: top;\n",
       "    }\n",
       "\n",
       "    .dataframe thead th {\n",
       "        text-align: right;\n",
       "    }\n",
       "</style>\n",
       "<table border=\"1\" class=\"dataframe\">\n",
       "  <thead>\n",
       "    <tr style=\"text-align: right;\">\n",
       "      <th></th>\n",
       "      <th>high</th>\n",
       "      <th>low</th>\n",
       "      <th>very_low</th>\n",
       "    </tr>\n",
       "  </thead>\n",
       "  <tbody>\n",
       "    <tr>\n",
       "      <th>0</th>\n",
       "      <td>1</td>\n",
       "      <td>0</td>\n",
       "      <td>0</td>\n",
       "    </tr>\n",
       "    <tr>\n",
       "      <th>1</th>\n",
       "      <td>0</td>\n",
       "      <td>1</td>\n",
       "      <td>0</td>\n",
       "    </tr>\n",
       "    <tr>\n",
       "      <th>2</th>\n",
       "      <td>0</td>\n",
       "      <td>0</td>\n",
       "      <td>1</td>\n",
       "    </tr>\n",
       "    <tr>\n",
       "      <th>3</th>\n",
       "      <td>0</td>\n",
       "      <td>1</td>\n",
       "      <td>0</td>\n",
       "    </tr>\n",
       "    <tr>\n",
       "      <th>4</th>\n",
       "      <td>1</td>\n",
       "      <td>0</td>\n",
       "      <td>0</td>\n",
       "    </tr>\n",
       "    <tr>\n",
       "      <th>...</th>\n",
       "      <td>...</td>\n",
       "      <td>...</td>\n",
       "      <td>...</td>\n",
       "    </tr>\n",
       "    <tr>\n",
       "      <th>95</th>\n",
       "      <td>1</td>\n",
       "      <td>0</td>\n",
       "      <td>0</td>\n",
       "    </tr>\n",
       "    <tr>\n",
       "      <th>96</th>\n",
       "      <td>1</td>\n",
       "      <td>0</td>\n",
       "      <td>0</td>\n",
       "    </tr>\n",
       "    <tr>\n",
       "      <th>97</th>\n",
       "      <td>1</td>\n",
       "      <td>0</td>\n",
       "      <td>0</td>\n",
       "    </tr>\n",
       "    <tr>\n",
       "      <th>98</th>\n",
       "      <td>0</td>\n",
       "      <td>1</td>\n",
       "      <td>0</td>\n",
       "    </tr>\n",
       "    <tr>\n",
       "      <th>99</th>\n",
       "      <td>1</td>\n",
       "      <td>0</td>\n",
       "      <td>0</td>\n",
       "    </tr>\n",
       "  </tbody>\n",
       "</table>\n",
       "<p>100 rows × 3 columns</p>\n",
       "</div>"
      ],
      "text/plain": [
       "    high  low  very_low\n",
       "0      1    0         0\n",
       "1      0    1         0\n",
       "2      0    0         1\n",
       "3      0    1         0\n",
       "4      1    0         0\n",
       "..   ...  ...       ...\n",
       "95     1    0         0\n",
       "96     1    0         0\n",
       "97     1    0         0\n",
       "98     0    1         0\n",
       "99     1    0         0\n",
       "\n",
       "[100 rows x 3 columns]"
      ]
     },
     "execution_count": 152,
     "metadata": {},
     "output_type": "execute_result"
    }
   ],
   "source": [
    "crime = pd.get_dummies(df['CRIME'],drop_first=True)\n",
    "crime2 = pd.get_dummies(df['CRIME'])\n",
    "crime2"
   ]
  },
  {
   "cell_type": "code",
   "execution_count": 153,
   "id": "15bf6672-1141-4453-963b-d0ae8391a477",
   "metadata": {},
   "outputs": [],
   "source": [
    "df2 = pd.concat([df,crime],axis = 1)\n",
    "df3 = pd.concat([df,crime2],axis = 1)"
   ]
  },
  {
   "cell_type": "code",
   "execution_count": 154,
   "id": "992d5843-5834-4962-8787-66dee2b2ee6a",
   "metadata": {},
   "outputs": [
    {
     "data": {
      "text/html": [
       "<div>\n",
       "<style scoped>\n",
       "    .dataframe tbody tr th:only-of-type {\n",
       "        vertical-align: middle;\n",
       "    }\n",
       "\n",
       "    .dataframe tbody tr th {\n",
       "        vertical-align: top;\n",
       "    }\n",
       "\n",
       "    .dataframe thead th {\n",
       "        text-align: right;\n",
       "    }\n",
       "</style>\n",
       "<table border=\"1\" class=\"dataframe\">\n",
       "  <thead>\n",
       "    <tr style=\"text-align: right;\">\n",
       "      <th></th>\n",
       "      <th>CRIME</th>\n",
       "      <th>ZN</th>\n",
       "      <th>INDUS</th>\n",
       "      <th>CHAS</th>\n",
       "      <th>NOX</th>\n",
       "      <th>RM</th>\n",
       "      <th>AGE</th>\n",
       "      <th>DIS</th>\n",
       "      <th>RAD</th>\n",
       "      <th>TAX</th>\n",
       "      <th>PTRATIO</th>\n",
       "      <th>B</th>\n",
       "      <th>LSTAT</th>\n",
       "      <th>PRICE</th>\n",
       "      <th>high</th>\n",
       "      <th>low</th>\n",
       "      <th>very_low</th>\n",
       "    </tr>\n",
       "  </thead>\n",
       "  <tbody>\n",
       "    <tr>\n",
       "      <th>0</th>\n",
       "      <td>high</td>\n",
       "      <td>0.0</td>\n",
       "      <td>18.10</td>\n",
       "      <td>0</td>\n",
       "      <td>0.718</td>\n",
       "      <td>3.561</td>\n",
       "      <td>87.9</td>\n",
       "      <td>1.6132</td>\n",
       "      <td>24.0</td>\n",
       "      <td>666</td>\n",
       "      <td>20.2</td>\n",
       "      <td>354.70</td>\n",
       "      <td>7.12</td>\n",
       "      <td>27.5</td>\n",
       "      <td>1</td>\n",
       "      <td>0</td>\n",
       "      <td>0</td>\n",
       "    </tr>\n",
       "    <tr>\n",
       "      <th>1</th>\n",
       "      <td>low</td>\n",
       "      <td>0.0</td>\n",
       "      <td>8.14</td>\n",
       "      <td>0</td>\n",
       "      <td>0.538</td>\n",
       "      <td>5.950</td>\n",
       "      <td>82.0</td>\n",
       "      <td>3.9900</td>\n",
       "      <td>4.0</td>\n",
       "      <td>307</td>\n",
       "      <td>21.0</td>\n",
       "      <td>232.60</td>\n",
       "      <td>27.71</td>\n",
       "      <td>13.2</td>\n",
       "      <td>0</td>\n",
       "      <td>1</td>\n",
       "      <td>0</td>\n",
       "    </tr>\n",
       "    <tr>\n",
       "      <th>2</th>\n",
       "      <td>very_low</td>\n",
       "      <td>82.5</td>\n",
       "      <td>2.03</td>\n",
       "      <td>0</td>\n",
       "      <td>0.415</td>\n",
       "      <td>6.162</td>\n",
       "      <td>38.4</td>\n",
       "      <td>6.2700</td>\n",
       "      <td>2.0</td>\n",
       "      <td>348</td>\n",
       "      <td>14.7</td>\n",
       "      <td>393.77</td>\n",
       "      <td>7.43</td>\n",
       "      <td>24.1</td>\n",
       "      <td>0</td>\n",
       "      <td>0</td>\n",
       "      <td>1</td>\n",
       "    </tr>\n",
       "    <tr>\n",
       "      <th>3</th>\n",
       "      <td>low</td>\n",
       "      <td>0.0</td>\n",
       "      <td>21.89</td>\n",
       "      <td>0</td>\n",
       "      <td>0.624</td>\n",
       "      <td>6.151</td>\n",
       "      <td>97.9</td>\n",
       "      <td>1.6687</td>\n",
       "      <td>4.0</td>\n",
       "      <td>437</td>\n",
       "      <td>21.2</td>\n",
       "      <td>396.90</td>\n",
       "      <td>18.46</td>\n",
       "      <td>17.8</td>\n",
       "      <td>0</td>\n",
       "      <td>1</td>\n",
       "      <td>0</td>\n",
       "    </tr>\n",
       "    <tr>\n",
       "      <th>4</th>\n",
       "      <td>high</td>\n",
       "      <td>0.0</td>\n",
       "      <td>18.10</td>\n",
       "      <td>0</td>\n",
       "      <td>0.614</td>\n",
       "      <td>6.980</td>\n",
       "      <td>67.6</td>\n",
       "      <td>2.5329</td>\n",
       "      <td>24.0</td>\n",
       "      <td>666</td>\n",
       "      <td>20.2</td>\n",
       "      <td>374.68</td>\n",
       "      <td>11.66</td>\n",
       "      <td>29.8</td>\n",
       "      <td>1</td>\n",
       "      <td>0</td>\n",
       "      <td>0</td>\n",
       "    </tr>\n",
       "  </tbody>\n",
       "</table>\n",
       "</div>"
      ],
      "text/plain": [
       "      CRIME    ZN  INDUS  CHAS    NOX     RM   AGE     DIS   RAD  TAX  \\\n",
       "0      high   0.0  18.10     0  0.718  3.561  87.9  1.6132  24.0  666   \n",
       "1       low   0.0   8.14     0  0.538  5.950  82.0  3.9900   4.0  307   \n",
       "2  very_low  82.5   2.03     0  0.415  6.162  38.4  6.2700   2.0  348   \n",
       "3       low   0.0  21.89     0  0.624  6.151  97.9  1.6687   4.0  437   \n",
       "4      high   0.0  18.10     0  0.614  6.980  67.6  2.5329  24.0  666   \n",
       "\n",
       "   PTRATIO       B  LSTAT  PRICE  high  low  very_low  \n",
       "0     20.2  354.70   7.12   27.5     1    0         0  \n",
       "1     21.0  232.60  27.71   13.2     0    1         0  \n",
       "2     14.7  393.77   7.43   24.1     0    0         1  \n",
       "3     21.2  396.90  18.46   17.8     0    1         0  \n",
       "4     20.2  374.68  11.66   29.8     1    0         0  "
      ]
     },
     "execution_count": 154,
     "metadata": {},
     "output_type": "execute_result"
    }
   ],
   "source": [
    "df3.head()"
   ]
  },
  {
   "cell_type": "code",
   "execution_count": 155,
   "id": "ca4d1d47-4c99-4c37-ac01-96f1128ee7d6",
   "metadata": {},
   "outputs": [],
   "source": [
    "#データの分割\n",
    "#データを訓練用、チューニング用、テスト用に分ける\n",
    "#まずはデータをトレーニング用とテスト用に分割\n",
    "train_val,test = train_test_split(df3,test_size=0.2,random_state = 0)"
   ]
  },
  {
   "cell_type": "code",
   "execution_count": 156,
   "id": "c9d6e5d3-05ae-48f5-9405-71cb2c57b544",
   "metadata": {},
   "outputs": [
    {
     "data": {
      "text/plain": [
       "(20, 17)"
      ]
     },
     "execution_count": 156,
     "metadata": {},
     "output_type": "execute_result"
    }
   ],
   "source": [
    "test.shape"
   ]
  },
  {
   "cell_type": "code",
   "execution_count": 157,
   "id": "d90a7c25-8bc0-4e9d-9f32-6abbefcde678",
   "metadata": {},
   "outputs": [
    {
     "data": {
      "text/plain": [
       "CRIME       0\n",
       "ZN          0\n",
       "INDUS       0\n",
       "CHAS        0\n",
       "NOX         1\n",
       "RM          0\n",
       "AGE         0\n",
       "DIS         0\n",
       "RAD         1\n",
       "TAX         0\n",
       "PTRATIO     0\n",
       "B           0\n",
       "LSTAT       0\n",
       "PRICE       0\n",
       "high        0\n",
       "low         0\n",
       "very_low    0\n",
       "dtype: int64"
      ]
     },
     "execution_count": 157,
     "metadata": {},
     "output_type": "execute_result"
    }
   ],
   "source": [
    "#欠損値の処理\n",
    "#まずはどこが欠損しているかを調べる\n",
    "df3.isnull().sum()"
   ]
  },
  {
   "cell_type": "code",
   "execution_count": 158,
   "id": "5afc1d8f-57cc-4568-9a25-be751a5820ec",
   "metadata": {},
   "outputs": [
    {
     "name": "stderr",
     "output_type": "stream",
     "text": [
      "C:\\Users\\tnakg\\AppData\\Local\\Temp/ipykernel_2028/4200866346.py:3: FutureWarning: Dropping of nuisance columns in DataFrame reductions (with 'numeric_only=None') is deprecated; in a future version this will raise TypeError.  Select only valid columns before calling the reduction.\n",
      "  train_val_mean = train_val.mean()\n"
     ]
    }
   ],
   "source": [
    "#欠損値の穴埋め\n",
    "#今回は平均値で埋める\n",
    "train_val_mean = train_val.mean()"
   ]
  },
  {
   "cell_type": "code",
   "execution_count": 159,
   "id": "abcccaa6-66e4-401f-982e-bf0e8b0e6698",
   "metadata": {},
   "outputs": [
    {
     "data": {
      "text/plain": [
       "ZN            9.337500\n",
       "INDUS        10.477500\n",
       "CHAS          0.037500\n",
       "NOX           0.542658\n",
       "RM            6.171375\n",
       "AGE          66.245000\n",
       "DIS           3.944925\n",
       "RAD           8.737500\n",
       "TAX         378.500000\n",
       "PTRATIO      18.595000\n",
       "B           370.746750\n",
       "LSTAT        12.484250\n",
       "PRICE        22.922500\n",
       "high          0.250000\n",
       "low           0.250000\n",
       "very_low      0.500000\n",
       "dtype: float64"
      ]
     },
     "execution_count": 159,
     "metadata": {},
     "output_type": "execute_result"
    }
   ],
   "source": [
    "train_val_mean"
   ]
  },
  {
   "cell_type": "code",
   "execution_count": 160,
   "id": "7fd2f31a-6893-4386-8481-f48e25beb93b",
   "metadata": {},
   "outputs": [],
   "source": [
    "train_val2 = train_val.fillna(train_val_mean)"
   ]
  },
  {
   "cell_type": "code",
   "execution_count": 161,
   "id": "29e12047-6338-4141-9c9b-2f5d8e1500d9",
   "metadata": {},
   "outputs": [],
   "source": [
    "#外れ値の処理\n",
    "#散布図を描画して外れ値を探す\n",
    "colname = train_val2.columns #dfの列名をリストで取得"
   ]
  },
  {
   "cell_type": "code",
   "execution_count": 162,
   "id": "65014f46-954c-4d18-a8ed-f69c4d8b51e3",
   "metadata": {},
   "outputs": [
    {
     "data": {
      "text/plain": [
       "Index(['CRIME', 'ZN', 'INDUS', 'CHAS', 'NOX', 'RM', 'AGE', 'DIS', 'RAD', 'TAX',\n",
       "       'PTRATIO', 'B', 'LSTAT', 'PRICE', 'high', 'low', 'very_low'],\n",
       "      dtype='object')"
      ]
     },
     "execution_count": 162,
     "metadata": {},
     "output_type": "execute_result"
    }
   ],
   "source": [
    "colname"
   ]
  },
  {
   "cell_type": "code",
   "execution_count": 163,
   "id": "9421db8f-1e3c-44b1-9b7f-0d9b487586bc",
   "metadata": {},
   "outputs": [
    {
     "data": {
      "text/plain": [
       "pandas.core.indexes.base.Index"
      ]
     },
     "execution_count": 163,
     "metadata": {},
     "output_type": "execute_result"
    }
   ],
   "source": [
    "type(colname)"
   ]
  },
  {
   "cell_type": "code",
   "execution_count": 164,
   "id": "5196b71c-fe52-4772-890f-d05c4da4bed5",
   "metadata": {},
   "outputs": [
    {
     "data": {
      "image/png": "[encoded data removed]",
      "text/plain": [
       "<Figure size 432x288 with 1 Axes>"
      ]
     },
     "metadata": {
      "needs_background": "light"
     },
     "output_type": "display_data"
    },
    {
     "data": {
      "image/png": "[encoded data removed]",
      "text/plain": [
       "<Figure size 432x288 with 1 Axes>"
      ]
     },
     "metadata": {
      "needs_background": "light"
     },
     "output_type": "display_data"
    },
    {
     "data": {
      "image/png": "[encoded data removed]",
      "text/plain": [
       "<Figure size 432x288 with 1 Axes>"
      ]
     },
     "metadata": {
      "needs_background": "light"
     },
     "output_type": "display_data"
    },
    {
     "data": {
      "image/png": "[encoded data removed]",
      "text/plain": [
       "<Figure size 432x288 with 1 Axes>"
      ]
     },
     "metadata": {
      "needs_background": "light"
     },
     "output_type": "display_data"
    },
    {
     "data": {
      "image/png": "[encoded data removed]",
      "text/plain": [
       "<Figure size 432x288 with 1 Axes>"
      ]
     },
     "metadata": {
      "needs_background": "light"
     },
     "output_type": "display_data"
    },
    {
     "data": {
      "image/png": "[encoded data removed]",
      "text/plain": [
       "<Figure size 432x288 with 1 Axes>"
      ]
     },
     "metadata": {
      "needs_background": "light"
     },
     "output_type": "display_data"
    },
    {
     "data": {
      "image/png": "[encoded data removed]",
      "text/plain": [
       "<Figure size 432x288 with 1 Axes>"
      ]
     },
     "metadata": {
      "needs_background": "light"
     },
     "output_type": "display_data"
    },
    {
     "data": {
      "image/png": "[encoded data removed]",
      "text/plain": [
       "<Figure size 432x288 with 1 Axes>"
      ]
     },
     "metadata": {
      "needs_background": "light"
     },
     "output_type": "display_data"
    },
    {
     "data": {
      "image/png": "[encoded data removed]",
      "text/plain": [
       "<Figure size 432x288 with 1 Axes>"
      ]
     },
     "metadata": {
      "needs_background": "light"
     },
     "output_type": "display_data"
    },
    {
     "data": {
      "image/png": "[encoded data removed]",
      "text/plain": [
       "<Figure size 432x288 with 1 Axes>"
      ]
     },
     "metadata": {
      "needs_background": "light"
     },
     "output_type": "display_data"
    },
    {
     "data": {
      "image/png": "[encoded data removed]",
      "text/plain": [
       "<Figure size 432x288 with 1 Axes>"
      ]
     },
     "metadata": {
      "needs_background": "light"
     },
     "output_type": "display_data"
    },
    {
     "data": {
      "image/png": "[encoded data removed]",
      "text/plain": [
       "<Figure size 432x288 with 1 Axes>"
      ]
     },
     "metadata": {
      "needs_background": "light"
     },
     "output_type": "display_data"
    },
    {
     "data": {
      "image/png": "[encoded data removed]",
      "text/plain": [
       "<Figure size 432x288 with 1 Axes>"
      ]
     },
     "metadata": {
      "needs_background": "light"
     },
     "output_type": "display_data"
    },
    {
     "data": {
      "image/png": "[encoded data removed]",
      "text/plain": [
       "<Figure size 432x288 with 1 Axes>"
      ]
     },
     "metadata": {
      "needs_background": "light"
     },
     "output_type": "display_data"
    },
    {
     "data": {
      "image/png": "[encoded data removed]",
      "text/plain": [
       "<Figure size 432x288 with 1 Axes>"
      ]
     },
     "metadata": {
      "needs_background": "light"
     },
     "output_type": "display_data"
    },
    {
     "data": {
      "image/png": "[encoded data removed]",
      "text/plain": [
       "<Figure size 432x288 with 1 Axes>"
      ]
     },
     "metadata": {
      "needs_background": "light"
     },
     "output_type": "display_data"
    }
   ],
   "source": [
    "#for文で各列を横軸にした散布図を描画\n",
    "for name in colname:\n",
    "    if name != 'PRICE':\n",
    "        train_val2.plot(kind='scatter',x = name, y = 'PRICE')"
   ]
  },
  {
   "cell_type": "code",
   "execution_count": 165,
   "id": "aaa8381f-a8fc-48ca-a9a3-3aaa5d9680c5",
   "metadata": {},
   "outputs": [
    {
     "data": {
      "text/plain": [
       "<AxesSubplot:xlabel='RM', ylabel='PRICE'>"
      ]
     },
     "execution_count": 165,
     "metadata": {},
     "output_type": "execute_result"
    },
    {
     "data": {
      "image/png": "[encoded data removed]",
      "text/plain": [
       "<Figure size 432x288 with 1 Axes>"
      ]
     },
     "metadata": {
      "needs_background": "light"
     },
     "output_type": "display_data"
    }
   ],
   "source": [
    "#散布図の相関から特徴量を決める\n",
    "#とりあえず外れ値の処理\n",
    "train_val2.plot(kind='scatter',x = 'RM', y = 'PRICE')\n"
   ]
  },
  {
   "cell_type": "code",
   "execution_count": 166,
   "id": "1b256ec4-1e28-428d-b8d2-e33d34f6c25e",
   "metadata": {},
   "outputs": [],
   "source": [
    "#RMの外れ値を削除する\n",
    "#外れ値のインデックスを取得\n",
    "out_rm = train_val2[(train_val2['RM'] < 6) & (train_val2['PRICE'] > 40)]"
   ]
  },
  {
   "cell_type": "code",
   "execution_count": 167,
   "id": "ebe7f9fd-a827-4f43-941a-c2e72b4bedec",
   "metadata": {},
   "outputs": [
    {
     "data": {
      "text/html": [
       "<div>\n",
       "<style scoped>\n",
       "    .dataframe tbody tr th:only-of-type {\n",
       "        vertical-align: middle;\n",
       "    }\n",
       "\n",
       "    .dataframe tbody tr th {\n",
       "        vertical-align: top;\n",
       "    }\n",
       "\n",
       "    .dataframe thead th {\n",
       "        text-align: right;\n",
       "    }\n",
       "</style>\n",
       "<table border=\"1\" class=\"dataframe\">\n",
       "  <thead>\n",
       "    <tr style=\"text-align: right;\">\n",
       "      <th></th>\n",
       "      <th>CRIME</th>\n",
       "      <th>ZN</th>\n",
       "      <th>INDUS</th>\n",
       "      <th>CHAS</th>\n",
       "      <th>NOX</th>\n",
       "      <th>RM</th>\n",
       "      <th>AGE</th>\n",
       "      <th>DIS</th>\n",
       "      <th>RAD</th>\n",
       "      <th>TAX</th>\n",
       "      <th>PTRATIO</th>\n",
       "      <th>B</th>\n",
       "      <th>LSTAT</th>\n",
       "      <th>PRICE</th>\n",
       "      <th>high</th>\n",
       "      <th>low</th>\n",
       "      <th>very_low</th>\n",
       "    </tr>\n",
       "  </thead>\n",
       "  <tbody>\n",
       "    <tr>\n",
       "      <th>76</th>\n",
       "      <td>high</td>\n",
       "      <td>0.0</td>\n",
       "      <td>18.1</td>\n",
       "      <td>0</td>\n",
       "      <td>0.631</td>\n",
       "      <td>4.97</td>\n",
       "      <td>100.0</td>\n",
       "      <td>1.3325</td>\n",
       "      <td>24.0</td>\n",
       "      <td>666</td>\n",
       "      <td>20.2</td>\n",
       "      <td>375.52</td>\n",
       "      <td>3.26</td>\n",
       "      <td>50.0</td>\n",
       "      <td>1</td>\n",
       "      <td>0</td>\n",
       "      <td>0</td>\n",
       "    </tr>\n",
       "  </tbody>\n",
       "</table>\n",
       "</div>"
      ],
      "text/plain": [
       "   CRIME   ZN  INDUS  CHAS    NOX    RM    AGE     DIS   RAD  TAX  PTRATIO  \\\n",
       "76  high  0.0   18.1     0  0.631  4.97  100.0  1.3325  24.0  666     20.2   \n",
       "\n",
       "         B  LSTAT  PRICE  high  low  very_low  \n",
       "76  375.52   3.26   50.0     1    0         0  "
      ]
     },
     "execution_count": 167,
     "metadata": {},
     "output_type": "execute_result"
    }
   ],
   "source": [
    "out_rm"
   ]
  },
  {
   "cell_type": "code",
   "execution_count": 168,
   "id": "0ab01e4d-bfa8-4247-b33a-013e5eb059e6",
   "metadata": {},
   "outputs": [],
   "source": [
    "train_val3 = train_val2.drop([76],axis = 0) #index 76の行を削除"
   ]
  },
  {
   "cell_type": "code",
   "execution_count": 169,
   "id": "2517f766-e564-4d60-9bd0-f5067d0fc227",
   "metadata": {},
   "outputs": [
    {
     "data": {
      "text/plain": [
       "<AxesSubplot:xlabel='RM', ylabel='PRICE'>"
      ]
     },
     "execution_count": 169,
     "metadata": {},
     "output_type": "execute_result"
    },
    {
     "data": {
      "image/png": "[encoded data removed]",
      "text/plain": [
       "<Figure size 432x288 with 1 Axes>"
      ]
     },
     "metadata": {
      "needs_background": "light"
     },
     "output_type": "display_data"
    }
   ],
   "source": [
    "train_val3.plot(kind='scatter',x = 'RM', y = 'PRICE')"
   ]
  },
  {
   "cell_type": "code",
   "execution_count": 170,
   "id": "d91b05bf-059e-4427-a1a4-d570bf8cac06",
   "metadata": {},
   "outputs": [],
   "source": [
    "out_rm2 = train_val3[(train_val3['RM'] < 4) & (train_val3['PRICE'] > 20)]"
   ]
  },
  {
   "cell_type": "code",
   "execution_count": 171,
   "id": "52d12fbb-1353-4795-8766-f7bfc188f411",
   "metadata": {},
   "outputs": [
    {
     "data": {
      "text/html": [
       "<div>\n",
       "<style scoped>\n",
       "    .dataframe tbody tr th:only-of-type {\n",
       "        vertical-align: middle;\n",
       "    }\n",
       "\n",
       "    .dataframe tbody tr th {\n",
       "        vertical-align: top;\n",
       "    }\n",
       "\n",
       "    .dataframe thead th {\n",
       "        text-align: right;\n",
       "    }\n",
       "</style>\n",
       "<table border=\"1\" class=\"dataframe\">\n",
       "  <thead>\n",
       "    <tr style=\"text-align: right;\">\n",
       "      <th></th>\n",
       "      <th>CRIME</th>\n",
       "      <th>ZN</th>\n",
       "      <th>INDUS</th>\n",
       "      <th>CHAS</th>\n",
       "      <th>NOX</th>\n",
       "      <th>RM</th>\n",
       "      <th>AGE</th>\n",
       "      <th>DIS</th>\n",
       "      <th>RAD</th>\n",
       "      <th>TAX</th>\n",
       "      <th>PTRATIO</th>\n",
       "      <th>B</th>\n",
       "      <th>LSTAT</th>\n",
       "      <th>PRICE</th>\n",
       "      <th>high</th>\n",
       "      <th>low</th>\n",
       "      <th>very_low</th>\n",
       "    </tr>\n",
       "  </thead>\n",
       "  <tbody>\n",
       "    <tr>\n",
       "      <th>0</th>\n",
       "      <td>high</td>\n",
       "      <td>0.0</td>\n",
       "      <td>18.1</td>\n",
       "      <td>0</td>\n",
       "      <td>0.718</td>\n",
       "      <td>3.561</td>\n",
       "      <td>87.9</td>\n",
       "      <td>1.6132</td>\n",
       "      <td>24.0</td>\n",
       "      <td>666</td>\n",
       "      <td>20.2</td>\n",
       "      <td>354.7</td>\n",
       "      <td>7.12</td>\n",
       "      <td>27.5</td>\n",
       "      <td>1</td>\n",
       "      <td>0</td>\n",
       "      <td>0</td>\n",
       "    </tr>\n",
       "  </tbody>\n",
       "</table>\n",
       "</div>"
      ],
      "text/plain": [
       "  CRIME   ZN  INDUS  CHAS    NOX     RM   AGE     DIS   RAD  TAX  PTRATIO  \\\n",
       "0  high  0.0   18.1     0  0.718  3.561  87.9  1.6132  24.0  666     20.2   \n",
       "\n",
       "       B  LSTAT  PRICE  high  low  very_low  \n",
       "0  354.7   7.12   27.5     1    0         0  "
      ]
     },
     "execution_count": 171,
     "metadata": {},
     "output_type": "execute_result"
    }
   ],
   "source": [
    "out_rm2"
   ]
  },
  {
   "cell_type": "code",
   "execution_count": 172,
   "id": "62a57561-2445-4da3-a321-4b79cb243bc2",
   "metadata": {},
   "outputs": [],
   "source": [
    "train_val4 = train_val3.drop([0],axis=0)"
   ]
  },
  {
   "cell_type": "code",
   "execution_count": 173,
   "id": "991898eb-de20-4e04-bcb7-b23303d6a215",
   "metadata": {},
   "outputs": [
    {
     "data": {
      "text/plain": [
       "<AxesSubplot:xlabel='RM', ylabel='PRICE'>"
      ]
     },
     "execution_count": 173,
     "metadata": {},
     "output_type": "execute_result"
    },
    {
     "data": {
      "image/png": "[encoded data removed]",
      "text/plain": [
       "<Figure size 432x288 with 1 Axes>"
      ]
     },
     "metadata": {
      "needs_background": "light"
     },
     "output_type": "display_data"
    }
   ],
   "source": [
    "train_val4.plot(kind='scatter',x = 'RM', y = 'PRICE')"
   ]
  },
  {
   "cell_type": "code",
   "execution_count": 174,
   "id": "8deb7d5c-6e74-4a5f-88fc-d9f1e627adad",
   "metadata": {},
   "outputs": [
    {
     "data": {
      "text/html": [
       "<div>\n",
       "<style scoped>\n",
       "    .dataframe tbody tr th:only-of-type {\n",
       "        vertical-align: middle;\n",
       "    }\n",
       "\n",
       "    .dataframe tbody tr th {\n",
       "        vertical-align: top;\n",
       "    }\n",
       "\n",
       "    .dataframe thead th {\n",
       "        text-align: right;\n",
       "    }\n",
       "</style>\n",
       "<table border=\"1\" class=\"dataframe\">\n",
       "  <thead>\n",
       "    <tr style=\"text-align: right;\">\n",
       "      <th></th>\n",
       "      <th>ZN</th>\n",
       "      <th>INDUS</th>\n",
       "      <th>CHAS</th>\n",
       "      <th>NOX</th>\n",
       "      <th>RM</th>\n",
       "      <th>AGE</th>\n",
       "      <th>DIS</th>\n",
       "      <th>RAD</th>\n",
       "      <th>TAX</th>\n",
       "      <th>PTRATIO</th>\n",
       "      <th>B</th>\n",
       "      <th>LSTAT</th>\n",
       "      <th>PRICE</th>\n",
       "      <th>high</th>\n",
       "      <th>low</th>\n",
       "      <th>very_low</th>\n",
       "    </tr>\n",
       "  </thead>\n",
       "  <tbody>\n",
       "    <tr>\n",
       "      <th>ZN</th>\n",
       "      <td>1.000000</td>\n",
       "      <td>-0.393267</td>\n",
       "      <td>-0.092105</td>\n",
       "      <td>-0.467354</td>\n",
       "      <td>0.184590</td>\n",
       "      <td>-0.485913</td>\n",
       "      <td>0.611670</td>\n",
       "      <td>-0.227151</td>\n",
       "      <td>-0.247730</td>\n",
       "      <td>-0.211499</td>\n",
       "      <td>0.135642</td>\n",
       "      <td>-0.354809</td>\n",
       "      <td>0.225807</td>\n",
       "      <td>-0.252239</td>\n",
       "      <td>-0.182892</td>\n",
       "      <td>0.372392</td>\n",
       "    </tr>\n",
       "    <tr>\n",
       "      <th>INDUS</th>\n",
       "      <td>-0.393267</td>\n",
       "      <td>1.000000</td>\n",
       "      <td>0.183496</td>\n",
       "      <td>0.781053</td>\n",
       "      <td>-0.383278</td>\n",
       "      <td>0.613977</td>\n",
       "      <td>-0.645376</td>\n",
       "      <td>0.609775</td>\n",
       "      <td>0.732993</td>\n",
       "      <td>0.240133</td>\n",
       "      <td>-0.313237</td>\n",
       "      <td>0.599057</td>\n",
       "      <td>-0.484618</td>\n",
       "      <td>0.690664</td>\n",
       "      <td>0.120355</td>\n",
       "      <td>-0.687320</td>\n",
       "    </tr>\n",
       "    <tr>\n",
       "      <th>CHAS</th>\n",
       "      <td>-0.092105</td>\n",
       "      <td>0.183496</td>\n",
       "      <td>1.000000</td>\n",
       "      <td>0.154195</td>\n",
       "      <td>0.033338</td>\n",
       "      <td>0.190219</td>\n",
       "      <td>-0.139677</td>\n",
       "      <td>0.065514</td>\n",
       "      <td>0.097398</td>\n",
       "      <td>-0.071463</td>\n",
       "      <td>0.025510</td>\n",
       "      <td>0.024589</td>\n",
       "      <td>0.132514</td>\n",
       "      <td>0.048686</td>\n",
       "      <td>0.187910</td>\n",
       "      <td>-0.205196</td>\n",
       "    </tr>\n",
       "    <tr>\n",
       "      <th>NOX</th>\n",
       "      <td>-0.467354</td>\n",
       "      <td>0.781053</td>\n",
       "      <td>0.154195</td>\n",
       "      <td>1.000000</td>\n",
       "      <td>-0.221214</td>\n",
       "      <td>0.663164</td>\n",
       "      <td>-0.751117</td>\n",
       "      <td>0.594061</td>\n",
       "      <td>0.682204</td>\n",
       "      <td>0.061884</td>\n",
       "      <td>-0.377899</td>\n",
       "      <td>0.512135</td>\n",
       "      <td>-0.342991</td>\n",
       "      <td>0.687029</td>\n",
       "      <td>0.126747</td>\n",
       "      <td>-0.689841</td>\n",
       "    </tr>\n",
       "    <tr>\n",
       "      <th>RM</th>\n",
       "      <td>0.184590</td>\n",
       "      <td>-0.383278</td>\n",
       "      <td>0.033338</td>\n",
       "      <td>-0.221214</td>\n",
       "      <td>1.000000</td>\n",
       "      <td>-0.184787</td>\n",
       "      <td>0.028441</td>\n",
       "      <td>-0.232088</td>\n",
       "      <td>-0.306646</td>\n",
       "      <td>-0.402717</td>\n",
       "      <td>0.078885</td>\n",
       "      <td>-0.651690</td>\n",
       "      <td>0.847673</td>\n",
       "      <td>-0.271742</td>\n",
       "      <td>0.027957</td>\n",
       "      <td>0.204636</td>\n",
       "    </tr>\n",
       "    <tr>\n",
       "      <th>AGE</th>\n",
       "      <td>-0.485913</td>\n",
       "      <td>0.613977</td>\n",
       "      <td>0.190219</td>\n",
       "      <td>0.663164</td>\n",
       "      <td>-0.184787</td>\n",
       "      <td>1.000000</td>\n",
       "      <td>-0.694083</td>\n",
       "      <td>0.326112</td>\n",
       "      <td>0.419078</td>\n",
       "      <td>0.087529</td>\n",
       "      <td>-0.220197</td>\n",
       "      <td>0.514685</td>\n",
       "      <td>-0.353184</td>\n",
       "      <td>0.395739</td>\n",
       "      <td>0.259069</td>\n",
       "      <td>-0.559899</td>\n",
       "    </tr>\n",
       "    <tr>\n",
       "      <th>DIS</th>\n",
       "      <td>0.611670</td>\n",
       "      <td>-0.645376</td>\n",
       "      <td>-0.139677</td>\n",
       "      <td>-0.751117</td>\n",
       "      <td>0.028441</td>\n",
       "      <td>-0.694083</td>\n",
       "      <td>1.000000</td>\n",
       "      <td>-0.413483</td>\n",
       "      <td>-0.468189</td>\n",
       "      <td>-0.036666</td>\n",
       "      <td>0.224586</td>\n",
       "      <td>-0.425471</td>\n",
       "      <td>0.097350</td>\n",
       "      <td>-0.487864</td>\n",
       "      <td>-0.183028</td>\n",
       "      <td>0.571125</td>\n",
       "    </tr>\n",
       "    <tr>\n",
       "      <th>RAD</th>\n",
       "      <td>-0.227151</td>\n",
       "      <td>0.609775</td>\n",
       "      <td>0.065514</td>\n",
       "      <td>0.594061</td>\n",
       "      <td>-0.232088</td>\n",
       "      <td>0.326112</td>\n",
       "      <td>-0.413483</td>\n",
       "      <td>1.000000</td>\n",
       "      <td>0.947886</td>\n",
       "      <td>0.384262</td>\n",
       "      <td>-0.383991</td>\n",
       "      <td>0.410845</td>\n",
       "      <td>-0.375583</td>\n",
       "      <td>0.915575</td>\n",
       "      <td>-0.246159</td>\n",
       "      <td>-0.556722</td>\n",
       "    </tr>\n",
       "    <tr>\n",
       "      <th>TAX</th>\n",
       "      <td>-0.247730</td>\n",
       "      <td>0.732993</td>\n",
       "      <td>0.097398</td>\n",
       "      <td>0.682204</td>\n",
       "      <td>-0.306646</td>\n",
       "      <td>0.419078</td>\n",
       "      <td>-0.468189</td>\n",
       "      <td>0.947886</td>\n",
       "      <td>1.000000</td>\n",
       "      <td>0.381015</td>\n",
       "      <td>-0.387064</td>\n",
       "      <td>0.457091</td>\n",
       "      <td>-0.455967</td>\n",
       "      <td>0.913849</td>\n",
       "      <td>-0.184326</td>\n",
       "      <td>-0.609283</td>\n",
       "    </tr>\n",
       "    <tr>\n",
       "      <th>PTRATIO</th>\n",
       "      <td>-0.211499</td>\n",
       "      <td>0.240133</td>\n",
       "      <td>-0.071463</td>\n",
       "      <td>0.061884</td>\n",
       "      <td>-0.402717</td>\n",
       "      <td>0.087529</td>\n",
       "      <td>-0.036666</td>\n",
       "      <td>0.384262</td>\n",
       "      <td>0.381015</td>\n",
       "      <td>1.000000</td>\n",
       "      <td>-0.146546</td>\n",
       "      <td>0.337674</td>\n",
       "      <td>-0.551232</td>\n",
       "      <td>0.281146</td>\n",
       "      <td>-0.130711</td>\n",
       "      <td>-0.122798</td>\n",
       "    </tr>\n",
       "    <tr>\n",
       "      <th>B</th>\n",
       "      <td>0.135642</td>\n",
       "      <td>-0.313237</td>\n",
       "      <td>0.025510</td>\n",
       "      <td>-0.377899</td>\n",
       "      <td>0.078885</td>\n",
       "      <td>-0.220197</td>\n",
       "      <td>0.224586</td>\n",
       "      <td>-0.383991</td>\n",
       "      <td>-0.387064</td>\n",
       "      <td>-0.146546</td>\n",
       "      <td>1.000000</td>\n",
       "      <td>-0.315864</td>\n",
       "      <td>0.279478</td>\n",
       "      <td>-0.366901</td>\n",
       "      <td>-0.015632</td>\n",
       "      <td>0.322927</td>\n",
       "    </tr>\n",
       "    <tr>\n",
       "      <th>LSTAT</th>\n",
       "      <td>-0.354809</td>\n",
       "      <td>0.599057</td>\n",
       "      <td>0.024589</td>\n",
       "      <td>0.512135</td>\n",
       "      <td>-0.651690</td>\n",
       "      <td>0.514685</td>\n",
       "      <td>-0.425471</td>\n",
       "      <td>0.410845</td>\n",
       "      <td>0.457091</td>\n",
       "      <td>0.337674</td>\n",
       "      <td>-0.315864</td>\n",
       "      <td>1.000000</td>\n",
       "      <td>-0.692145</td>\n",
       "      <td>0.470962</td>\n",
       "      <td>0.145642</td>\n",
       "      <td>-0.524218</td>\n",
       "    </tr>\n",
       "    <tr>\n",
       "      <th>PRICE</th>\n",
       "      <td>0.225807</td>\n",
       "      <td>-0.484618</td>\n",
       "      <td>0.132514</td>\n",
       "      <td>-0.342991</td>\n",
       "      <td>0.847673</td>\n",
       "      <td>-0.353184</td>\n",
       "      <td>0.097350</td>\n",
       "      <td>-0.375583</td>\n",
       "      <td>-0.455967</td>\n",
       "      <td>-0.551232</td>\n",
       "      <td>0.279478</td>\n",
       "      <td>-0.692145</td>\n",
       "      <td>1.000000</td>\n",
       "      <td>-0.404640</td>\n",
       "      <td>0.087673</td>\n",
       "      <td>0.264492</td>\n",
       "    </tr>\n",
       "    <tr>\n",
       "      <th>high</th>\n",
       "      <td>-0.252239</td>\n",
       "      <td>0.690664</td>\n",
       "      <td>0.048686</td>\n",
       "      <td>0.687029</td>\n",
       "      <td>-0.271742</td>\n",
       "      <td>0.395739</td>\n",
       "      <td>-0.487864</td>\n",
       "      <td>0.915575</td>\n",
       "      <td>0.913849</td>\n",
       "      <td>0.281146</td>\n",
       "      <td>-0.366901</td>\n",
       "      <td>0.470962</td>\n",
       "      <td>-0.404640</td>\n",
       "      <td>1.000000</td>\n",
       "      <td>-0.321634</td>\n",
       "      <td>-0.561951</td>\n",
       "    </tr>\n",
       "    <tr>\n",
       "      <th>low</th>\n",
       "      <td>-0.182892</td>\n",
       "      <td>0.120355</td>\n",
       "      <td>0.187910</td>\n",
       "      <td>0.126747</td>\n",
       "      <td>0.027957</td>\n",
       "      <td>0.259069</td>\n",
       "      <td>-0.183028</td>\n",
       "      <td>-0.246159</td>\n",
       "      <td>-0.184326</td>\n",
       "      <td>-0.130711</td>\n",
       "      <td>-0.015632</td>\n",
       "      <td>0.145642</td>\n",
       "      <td>0.087673</td>\n",
       "      <td>-0.321634</td>\n",
       "      <td>1.000000</td>\n",
       "      <td>-0.602475</td>\n",
       "    </tr>\n",
       "    <tr>\n",
       "      <th>very_low</th>\n",
       "      <td>0.372392</td>\n",
       "      <td>-0.687320</td>\n",
       "      <td>-0.205196</td>\n",
       "      <td>-0.689841</td>\n",
       "      <td>0.204636</td>\n",
       "      <td>-0.559899</td>\n",
       "      <td>0.571125</td>\n",
       "      <td>-0.556722</td>\n",
       "      <td>-0.609283</td>\n",
       "      <td>-0.122798</td>\n",
       "      <td>0.322927</td>\n",
       "      <td>-0.524218</td>\n",
       "      <td>0.264492</td>\n",
       "      <td>-0.561951</td>\n",
       "      <td>-0.602475</td>\n",
       "      <td>1.000000</td>\n",
       "    </tr>\n",
       "  </tbody>\n",
       "</table>\n",
       "</div>"
      ],
      "text/plain": [
       "                ZN     INDUS      CHAS       NOX        RM       AGE  \\\n",
       "ZN        1.000000 -0.393267 -0.092105 -0.467354  0.184590 -0.485913   \n",
       "INDUS    -0.393267  1.000000  0.183496  0.781053 -0.383278  0.613977   \n",
       "CHAS     -0.092105  0.183496  1.000000  0.154195  0.033338  0.190219   \n",
       "NOX      -0.467354  0.781053  0.154195  1.000000 -0.221214  0.663164   \n",
       "RM        0.184590 -0.383278  0.033338 -0.221214  1.000000 -0.184787   \n",
       "AGE      -0.485913  0.613977  0.190219  0.663164 -0.184787  1.000000   \n",
       "DIS       0.611670 -0.645376 -0.139677 -0.751117  0.028441 -0.694083   \n",
       "RAD      -0.227151  0.609775  0.065514  0.594061 -0.232088  0.326112   \n",
       "TAX      -0.247730  0.732993  0.097398  0.682204 -0.306646  0.419078   \n",
       "PTRATIO  -0.211499  0.240133 -0.071463  0.061884 -0.402717  0.087529   \n",
       "B         0.135642 -0.313237  0.025510 -0.377899  0.078885 -0.220197   \n",
       "LSTAT    -0.354809  0.599057  0.024589  0.512135 -0.651690  0.514685   \n",
       "PRICE     0.225807 -0.484618  0.132514 -0.342991  0.847673 -0.353184   \n",
       "high     -0.252239  0.690664  0.048686  0.687029 -0.271742  0.395739   \n",
       "low      -0.182892  0.120355  0.187910  0.126747  0.027957  0.259069   \n",
       "very_low  0.372392 -0.687320 -0.205196 -0.689841  0.204636 -0.559899   \n",
       "\n",
       "               DIS       RAD       TAX   PTRATIO         B     LSTAT  \\\n",
       "ZN        0.611670 -0.227151 -0.247730 -0.211499  0.135642 -0.354809   \n",
       "INDUS    -0.645376  0.609775  0.732993  0.240133 -0.313237  0.599057   \n",
       "CHAS     -0.139677  0.065514  0.097398 -0.071463  0.025510  0.024589   \n",
       "NOX      -0.751117  0.594061  0.682204  0.061884 -0.377899  0.512135   \n",
       "RM        0.028441 -0.232088 -0.306646 -0.402717  0.078885 -0.651690   \n",
       "AGE      -0.694083  0.326112  0.419078  0.087529 -0.220197  0.514685   \n",
       "DIS       1.000000 -0.413483 -0.468189 -0.036666  0.224586 -0.425471   \n",
       "RAD      -0.413483  1.000000  0.947886  0.384262 -0.383991  0.410845   \n",
       "TAX      -0.468189  0.947886  1.000000  0.381015 -0.387064  0.457091   \n",
       "PTRATIO  -0.036666  0.384262  0.381015  1.000000 -0.146546  0.337674   \n",
       "B         0.224586 -0.383991 -0.387064 -0.146546  1.000000 -0.315864   \n",
       "LSTAT    -0.425471  0.410845  0.457091  0.337674 -0.315864  1.000000   \n",
       "PRICE     0.097350 -0.375583 -0.455967 -0.551232  0.279478 -0.692145   \n",
       "high     -0.487864  0.915575  0.913849  0.281146 -0.366901  0.470962   \n",
       "low      -0.183028 -0.246159 -0.184326 -0.130711 -0.015632  0.145642   \n",
       "very_low  0.571125 -0.556722 -0.609283 -0.122798  0.322927 -0.524218   \n",
       "\n",
       "             PRICE      high       low  very_low  \n",
       "ZN        0.225807 -0.252239 -0.182892  0.372392  \n",
       "INDUS    -0.484618  0.690664  0.120355 -0.687320  \n",
       "CHAS      0.132514  0.048686  0.187910 -0.205196  \n",
       "NOX      -0.342991  0.687029  0.126747 -0.689841  \n",
       "RM        0.847673 -0.271742  0.027957  0.204636  \n",
       "AGE      -0.353184  0.395739  0.259069 -0.559899  \n",
       "DIS       0.097350 -0.487864 -0.183028  0.571125  \n",
       "RAD      -0.375583  0.915575 -0.246159 -0.556722  \n",
       "TAX      -0.455967  0.913849 -0.184326 -0.609283  \n",
       "PTRATIO  -0.551232  0.281146 -0.130711 -0.122798  \n",
       "B         0.279478 -0.366901 -0.015632  0.322927  \n",
       "LSTAT    -0.692145  0.470962  0.145642 -0.524218  \n",
       "PRICE     1.000000 -0.404640  0.087673  0.264492  \n",
       "high     -0.404640  1.000000 -0.321634 -0.561951  \n",
       "low       0.087673 -0.321634  1.000000 -0.602475  \n",
       "very_low  0.264492 -0.561951 -0.602475  1.000000  "
      ]
     },
     "execution_count": 174,
     "metadata": {},
     "output_type": "execute_result"
    }
   ],
   "source": [
    "#列同士の相関係数の取得\n",
    "train_val4.corr()"
   ]
  },
  {
   "cell_type": "code",
   "execution_count": 175,
   "id": "18bae080-5d44-4852-ae5e-9fff8d941d24",
   "metadata": {},
   "outputs": [],
   "source": [
    "#特定の列に対する相関係数を取得\n",
    "train_cor = train_val4.corr()['PRICE'] #corrの戻り値はデータフレーム"
   ]
  },
  {
   "cell_type": "code",
   "execution_count": 176,
   "id": "6d5cd97e-e744-4de0-ac46-024eecaa6c5d",
   "metadata": {},
   "outputs": [
    {
     "data": {
      "text/plain": [
       "pandas.core.series.Series"
      ]
     },
     "execution_count": 176,
     "metadata": {},
     "output_type": "execute_result"
    }
   ],
   "source": [
    "train_cor\n",
    "type(train_cor)"
   ]
  },
  {
   "cell_type": "code",
   "execution_count": 177,
   "id": "291d5040-77c3-4a7a-98c2-f4ec6940d962",
   "metadata": {},
   "outputs": [],
   "source": [
    "#上のデータを絶対値をとって降順で並び替える\n",
    "#絶対値への変換はmap関数を使う\n",
    "#mapを使うためにはSeries型のデータを取得する\n",
    "#今回はtrain_corがSeries型なのでこのまま使える\n",
    "se = train_cor.map(abs) #Seriesのメソッドとしてmapを使う 適用する関数を引数にとる"
   ]
  },
  {
   "cell_type": "code",
   "execution_count": 178,
   "id": "dcbaadc6-ef20-4d0b-9b41-43ecdebee123",
   "metadata": {
    "tags": []
   },
   "outputs": [
    {
     "data": {
      "text/plain": [
       "ZN          0.225807\n",
       "INDUS       0.484618\n",
       "CHAS        0.132514\n",
       "NOX         0.342991\n",
       "RM          0.847673\n",
       "AGE         0.353184\n",
       "DIS         0.097350\n",
       "RAD         0.375583\n",
       "TAX         0.455967\n",
       "PTRATIO     0.551232\n",
       "B           0.279478\n",
       "LSTAT       0.692145\n",
       "PRICE       1.000000\n",
       "high        0.404640\n",
       "low         0.087673\n",
       "very_low    0.264492\n",
       "Name: PRICE, dtype: float64"
      ]
     },
     "execution_count": 178,
     "metadata": {},
     "output_type": "execute_result"
    }
   ],
   "source": [
    "se"
   ]
  },
  {
   "cell_type": "code",
   "execution_count": 179,
   "id": "66bb7886-713c-44e2-886e-2d6428b3df29",
   "metadata": {},
   "outputs": [
    {
     "data": {
      "text/plain": [
       "pandas.core.series.Series"
      ]
     },
     "execution_count": 179,
     "metadata": {},
     "output_type": "execute_result"
    }
   ],
   "source": [
    "type(se)"
   ]
  },
  {
   "cell_type": "code",
   "execution_count": 180,
   "id": "ed00fb8e-34f7-4d19-b99c-0e34909c5bb5",
   "metadata": {},
   "outputs": [
    {
     "data": {
      "text/plain": [
       "PRICE       1.000000\n",
       "RM          0.847673\n",
       "LSTAT       0.692145\n",
       "PTRATIO     0.551232\n",
       "INDUS       0.484618\n",
       "TAX         0.455967\n",
       "high        0.404640\n",
       "RAD         0.375583\n",
       "AGE         0.353184\n",
       "NOX         0.342991\n",
       "B           0.279478\n",
       "very_low    0.264492\n",
       "ZN          0.225807\n",
       "CHAS        0.132514\n",
       "DIS         0.097350\n",
       "low         0.087673\n",
       "Name: PRICE, dtype: float64"
      ]
     },
     "execution_count": 180,
     "metadata": {},
     "output_type": "execute_result"
    }
   ],
   "source": [
    "se.sort_values(ascending = False)"
   ]
  },
  {
   "cell_type": "code",
   "execution_count": 181,
   "id": "beb94cc3-8e62-4fc5-aa21-8321ff076a1e",
   "metadata": {},
   "outputs": [
    {
     "data": {
      "text/plain": [
       "<AxesSubplot:xlabel='LSTAT', ylabel='PRICE'>"
      ]
     },
     "execution_count": 181,
     "metadata": {},
     "output_type": "execute_result"
    },
    {
     "data": {
      "image/png": "[encoded data removed]",
      "text/plain": [
       "<Figure size 432x288 with 1 Axes>"
      ]
     },
     "metadata": {
      "needs_background": "light"
     },
     "output_type": "display_data"
    }
   ],
   "source": [
    "#特徴量は相関係数の上位3つにする\n",
    "#LSTATの外れ値処理\n",
    "train_val4.plot(kind='scatter', x = 'LSTAT',y = 'PRICE')"
   ]
  },
  {
   "cell_type": "code",
   "execution_count": 182,
   "id": "8b6fffb2-9444-4413-ad95-d7833248579b",
   "metadata": {},
   "outputs": [],
   "source": [
    "#LSTATは外れ値がなさそうなので何もしない"
   ]
  },
  {
   "cell_type": "code",
   "execution_count": 183,
   "id": "28b0dd43-fda3-477d-9a14-acf4decfd20a",
   "metadata": {},
   "outputs": [
    {
     "data": {
      "text/plain": [
       "<AxesSubplot:xlabel='PTRATIO', ylabel='PRICE'>"
      ]
     },
     "execution_count": 183,
     "metadata": {},
     "output_type": "execute_result"
    },
    {
     "data": {
      "image/png": "[encoded data removed]",
      "text/plain": [
       "<Figure size 432x288 with 1 Axes>"
      ]
     },
     "metadata": {
      "needs_background": "light"
     },
     "output_type": "display_data"
    }
   ],
   "source": [
    "#PTRATIOの外れ値処理\n",
    "train_val4.plot(kind='scatter', x = 'PTRATIO',y = 'PRICE')"
   ]
  },
  {
   "cell_type": "code",
   "execution_count": 184,
   "id": "846ccaf3-abaf-43e3-bdc9-2db308b2f34f",
   "metadata": {},
   "outputs": [],
   "source": [
    "#PTRATIOもなさそうなので何もしない\n"
   ]
  },
  {
   "cell_type": "code",
   "execution_count": 185,
   "id": "e6a9cf25-fc00-4127-9ade-927b01414c23",
   "metadata": {},
   "outputs": [],
   "source": [
    "#特徴量とする列を抽出\n",
    "col = ['RM','LSTAT','PTRATIO']\n",
    "x = train_val4[col]\n"
   ]
  },
  {
   "cell_type": "code",
   "execution_count": 186,
   "id": "0b980896-7dcb-4b31-991d-a4f17b1d7e96",
   "metadata": {},
   "outputs": [
    {
     "data": {
      "text/html": [
       "<div>\n",
       "<style scoped>\n",
       "    .dataframe tbody tr th:only-of-type {\n",
       "        vertical-align: middle;\n",
       "    }\n",
       "\n",
       "    .dataframe tbody tr th {\n",
       "        vertical-align: top;\n",
       "    }\n",
       "\n",
       "    .dataframe thead th {\n",
       "        text-align: right;\n",
       "    }\n",
       "</style>\n",
       "<table border=\"1\" class=\"dataframe\">\n",
       "  <thead>\n",
       "    <tr style=\"text-align: right;\">\n",
       "      <th></th>\n",
       "      <th>RM</th>\n",
       "      <th>LSTAT</th>\n",
       "      <th>PTRATIO</th>\n",
       "    </tr>\n",
       "  </thead>\n",
       "  <tbody>\n",
       "    <tr>\n",
       "      <th>43</th>\n",
       "      <td>6.108</td>\n",
       "      <td>9.16</td>\n",
       "      <td>19.1</td>\n",
       "    </tr>\n",
       "    <tr>\n",
       "      <th>62</th>\n",
       "      <td>6.957</td>\n",
       "      <td>3.53</td>\n",
       "      <td>19.1</td>\n",
       "    </tr>\n",
       "    <tr>\n",
       "      <th>3</th>\n",
       "      <td>6.151</td>\n",
       "      <td>18.46</td>\n",
       "      <td>21.2</td>\n",
       "    </tr>\n",
       "    <tr>\n",
       "      <th>71</th>\n",
       "      <td>6.108</td>\n",
       "      <td>6.57</td>\n",
       "      <td>16.4</td>\n",
       "    </tr>\n",
       "    <tr>\n",
       "      <th>45</th>\n",
       "      <td>5.963</td>\n",
       "      <td>13.45</td>\n",
       "      <td>16.8</td>\n",
       "    </tr>\n",
       "    <tr>\n",
       "      <th>...</th>\n",
       "      <td>...</td>\n",
       "      <td>...</td>\n",
       "      <td>...</td>\n",
       "    </tr>\n",
       "    <tr>\n",
       "      <th>96</th>\n",
       "      <td>5.759</td>\n",
       "      <td>14.13</td>\n",
       "      <td>20.2</td>\n",
       "    </tr>\n",
       "    <tr>\n",
       "      <th>67</th>\n",
       "      <td>6.310</td>\n",
       "      <td>6.75</td>\n",
       "      <td>20.2</td>\n",
       "    </tr>\n",
       "    <tr>\n",
       "      <th>64</th>\n",
       "      <td>6.249</td>\n",
       "      <td>10.59</td>\n",
       "      <td>18.2</td>\n",
       "    </tr>\n",
       "    <tr>\n",
       "      <th>47</th>\n",
       "      <td>6.625</td>\n",
       "      <td>6.65</td>\n",
       "      <td>18.0</td>\n",
       "    </tr>\n",
       "    <tr>\n",
       "      <th>44</th>\n",
       "      <td>5.850</td>\n",
       "      <td>8.77</td>\n",
       "      <td>19.2</td>\n",
       "    </tr>\n",
       "  </tbody>\n",
       "</table>\n",
       "<p>78 rows × 3 columns</p>\n",
       "</div>"
      ],
      "text/plain": [
       "       RM  LSTAT  PTRATIO\n",
       "43  6.108   9.16     19.1\n",
       "62  6.957   3.53     19.1\n",
       "3   6.151  18.46     21.2\n",
       "71  6.108   6.57     16.4\n",
       "45  5.963  13.45     16.8\n",
       "..    ...    ...      ...\n",
       "96  5.759  14.13     20.2\n",
       "67  6.310   6.75     20.2\n",
       "64  6.249  10.59     18.2\n",
       "47  6.625   6.65     18.0\n",
       "44  5.850   8.77     19.2\n",
       "\n",
       "[78 rows x 3 columns]"
      ]
     },
     "execution_count": 186,
     "metadata": {},
     "output_type": "execute_result"
    }
   ],
   "source": [
    "x"
   ]
  },
  {
   "cell_type": "code",
   "execution_count": 187,
   "id": "85da2990-8a4c-447e-b5c4-108536d34296",
   "metadata": {},
   "outputs": [],
   "source": [
    "#正解用データ\n",
    "t = train_val4['PRICE']"
   ]
  },
  {
   "cell_type": "code",
   "execution_count": 188,
   "id": "2b42bba5-e69a-4e00-84aa-8af412e86dfa",
   "metadata": {},
   "outputs": [
    {
     "data": {
      "text/plain": [
       "43    24.3\n",
       "62    29.6\n",
       "3     17.8\n",
       "71    21.9\n",
       "45    19.7\n",
       "      ... \n",
       "96    19.9\n",
       "67    20.7\n",
       "64    20.6\n",
       "47    28.4\n",
       "44    21.0\n",
       "Name: PRICE, Length: 78, dtype: float64"
      ]
     },
     "execution_count": 188,
     "metadata": {},
     "output_type": "execute_result"
    }
   ],
   "source": [
    "t"
   ]
  },
  {
   "cell_type": "code",
   "execution_count": 189,
   "id": "ae9c6e21-7e4f-4f60-9486-3cc6d6c79651",
   "metadata": {},
   "outputs": [],
   "source": [
    "#x,tを学習用とチューニング用に分ける\n",
    "x_train,x_tune,y_train,y_tune = train_test_split(x,t,test_size=0.2,random_state=0)"
   ]
  },
  {
   "cell_type": "code",
   "execution_count": 190,
   "id": "d275d2dc-ecb3-4023-ae5d-35d6dcca31ad",
   "metadata": {},
   "outputs": [
    {
     "data": {
      "text/html": [
       "<div>\n",
       "<style scoped>\n",
       "    .dataframe tbody tr th:only-of-type {\n",
       "        vertical-align: middle;\n",
       "    }\n",
       "\n",
       "    .dataframe tbody tr th {\n",
       "        vertical-align: top;\n",
       "    }\n",
       "\n",
       "    .dataframe thead th {\n",
       "        text-align: right;\n",
       "    }\n",
       "</style>\n",
       "<table border=\"1\" class=\"dataframe\">\n",
       "  <thead>\n",
       "    <tr style=\"text-align: right;\">\n",
       "      <th></th>\n",
       "      <th>RM</th>\n",
       "      <th>LSTAT</th>\n",
       "      <th>PTRATIO</th>\n",
       "    </tr>\n",
       "  </thead>\n",
       "  <tbody>\n",
       "    <tr>\n",
       "      <th>71</th>\n",
       "      <td>6.108</td>\n",
       "      <td>6.57</td>\n",
       "      <td>16.4</td>\n",
       "    </tr>\n",
       "    <tr>\n",
       "      <th>41</th>\n",
       "      <td>6.096</td>\n",
       "      <td>10.26</td>\n",
       "      <td>21.0</td>\n",
       "    </tr>\n",
       "    <tr>\n",
       "      <th>99</th>\n",
       "      <td>5.453</td>\n",
       "      <td>30.59</td>\n",
       "      <td>20.2</td>\n",
       "    </tr>\n",
       "    <tr>\n",
       "      <th>40</th>\n",
       "      <td>7.470</td>\n",
       "      <td>3.16</td>\n",
       "      <td>13.0</td>\n",
       "    </tr>\n",
       "    <tr>\n",
       "      <th>79</th>\n",
       "      <td>5.304</td>\n",
       "      <td>26.64</td>\n",
       "      <td>20.2</td>\n",
       "    </tr>\n",
       "    <tr>\n",
       "      <th>...</th>\n",
       "      <td>...</td>\n",
       "      <td>...</td>\n",
       "      <td>...</td>\n",
       "    </tr>\n",
       "    <tr>\n",
       "      <th>67</th>\n",
       "      <td>6.310</td>\n",
       "      <td>6.75</td>\n",
       "      <td>20.2</td>\n",
       "    </tr>\n",
       "    <tr>\n",
       "      <th>70</th>\n",
       "      <td>5.412</td>\n",
       "      <td>29.55</td>\n",
       "      <td>18.6</td>\n",
       "    </tr>\n",
       "    <tr>\n",
       "      <th>58</th>\n",
       "      <td>5.706</td>\n",
       "      <td>12.43</td>\n",
       "      <td>16.9</td>\n",
       "    </tr>\n",
       "    <tr>\n",
       "      <th>89</th>\n",
       "      <td>7.831</td>\n",
       "      <td>4.45</td>\n",
       "      <td>17.8</td>\n",
       "    </tr>\n",
       "    <tr>\n",
       "      <th>32</th>\n",
       "      <td>6.546</td>\n",
       "      <td>5.33</td>\n",
       "      <td>16.6</td>\n",
       "    </tr>\n",
       "  </tbody>\n",
       "</table>\n",
       "<p>62 rows × 3 columns</p>\n",
       "</div>"
      ],
      "text/plain": [
       "       RM  LSTAT  PTRATIO\n",
       "71  6.108   6.57     16.4\n",
       "41  6.096  10.26     21.0\n",
       "99  5.453  30.59     20.2\n",
       "40  7.470   3.16     13.0\n",
       "79  5.304  26.64     20.2\n",
       "..    ...    ...      ...\n",
       "67  6.310   6.75     20.2\n",
       "70  5.412  29.55     18.6\n",
       "58  5.706  12.43     16.9\n",
       "89  7.831   4.45     17.8\n",
       "32  6.546   5.33     16.6\n",
       "\n",
       "[62 rows x 3 columns]"
      ]
     },
     "execution_count": 190,
     "metadata": {},
     "output_type": "execute_result"
    }
   ],
   "source": [
    "x_train"
   ]
  },
  {
   "cell_type": "code",
   "execution_count": 191,
   "id": "7b7b8999-1475-4d1e-800d-ee89e87a42fb",
   "metadata": {},
   "outputs": [],
   "source": [
    "#データの標準化\n",
    "#データの規模をそろえるために平均と標準偏差を列で統一する\n",
    "#データを平均値との差を標準偏差で割る\n",
    "#sklearnのモジュールを利用する\n",
    "from sklearn.preprocessing import StandardScaler\n"
   ]
  },
  {
   "cell_type": "code",
   "execution_count": 192,
   "id": "747dedff-0537-466b-b7ec-22430a4286ee",
   "metadata": {},
   "outputs": [],
   "source": [
    "sc_model_x = StandardScaler() #標準化を行うインスタンス"
   ]
  },
  {
   "cell_type": "code",
   "execution_count": 193,
   "id": "97d7d7cf-bc96-4911-9074-8192d24f2029",
   "metadata": {},
   "outputs": [
    {
     "data": {
      "text/plain": [
       "StandardScaler()"
      ]
     },
     "execution_count": 193,
     "metadata": {},
     "output_type": "execute_result"
    }
   ],
   "source": [
    "sc_model_x.fit(x_train) #x_trainの各列の平均値と標準偏差を求めてインスタンス変数に格納"
   ]
  },
  {
   "cell_type": "code",
   "execution_count": 194,
   "id": "aa1eccb3-85c3-4258-8308-8d6bc9fb84ea",
   "metadata": {},
   "outputs": [],
   "source": [
    "sc_x = sc_model_x.transform(x_train) # sc_xに標準化したデータを格納　戻り値はarray"
   ]
  },
  {
   "cell_type": "code",
   "execution_count": 195,
   "id": "864fd5a2-311e-47b1-b40d-f479d1de0c5d",
   "metadata": {},
   "outputs": [
    {
     "data": {
      "text/plain": [
       "array([[-0.13995736, -0.8908283 , -1.06480489],\n",
       "       [-0.15801951, -0.38018287,  1.34155291],\n",
       "       [-1.12584956,  2.43321054,  0.9230559 ],\n",
       "       [ 1.91009633, -1.36272557, -2.84341718],\n",
       "       [-1.35012122,  1.88658467,  0.9230559 ],\n",
       "       [-0.35369277, -0.39817309,  0.39993464],\n",
       "       [-0.27090793, -0.37464742, -0.33243512],\n",
       "       [-0.52829353, -0.58637845,  0.39993464],\n",
       "       [ 2.48657986, -1.27277448, -1.95411104],\n",
       "       [-0.279939  , -0.0203785 ,  0.03374976],\n",
       "       [-0.07222431,  0.01975353, -0.33243512],\n",
       "       [-0.88502093,  1.97238417,  0.34762252],\n",
       "       [ 0.35675168, -1.30321947,  0.34762252],\n",
       "       [ 0.28299791, -0.4687501 ,  0.03374976],\n",
       "       [-1.19960332,  1.51847712,  0.08606188],\n",
       "       [-0.35820831,  0.06126942, -0.85555639],\n",
       "       [ 0.26192541, -0.50196281,  0.08606188],\n",
       "       [-0.43196207,  0.73659454, -0.01856237],\n",
       "       [-0.1730713 , -0.29438337, -0.54168363],\n",
       "       [-0.24080435, -0.73445179,  0.60918315],\n",
       "       [-0.25736132,  0.8016361 , -0.280123  ],\n",
       "       [ 1.17255866, -0.18644205,  0.9230559 ],\n",
       "       [ 0.01206571, -0.81194811, -0.96018064],\n",
       "       [-1.02500257,  1.59874117,  0.9230559 ],\n",
       "       [ 1.48112034, -1.2423295 , -0.33243512],\n",
       "       [ 0.01206571,  0.02944057,  0.9230559 ],\n",
       "       [ 1.13793954, -1.31152264,  0.34762252],\n",
       "       [-1.10327187,  1.85613968, -1.95411104],\n",
       "       [-3.10515984,  1.42990989,  0.9230559 ],\n",
       "       [ 0.50726957, -0.7303002 ,  0.08606188],\n",
       "       [-0.49066405,  0.19688799, -1.95411104],\n",
       "       [-0.37777563,  2.034658  ,  1.34155291],\n",
       "       [-1.19960332,  0.03774375, -1.95411104],\n",
       "       [-0.17758684, -0.03006554,  0.60918315],\n",
       "       [ 2.35412411, -0.75382587, -0.33243512],\n",
       "       [-0.48313816, -0.13523912, -1.95411104],\n",
       "       [-0.13995736, -0.5324078 ,  0.34762252],\n",
       "       [ 0.63822014, -0.8797574 , -0.22781087],\n",
       "       [ 0.3913708 ,  0.69784638,  0.9230559 ],\n",
       "       [ 2.43690895, -1.30598719, -0.22781087],\n",
       "       [-0.80976198, -0.68601658,  1.86467417],\n",
       "       [ 0.3055756 ,  1.01059941,  0.9230559 ],\n",
       "       [ 0.2694513 ,  1.47834509,  0.9230559 ],\n",
       "       [ 0.54790941, -0.48397259, -0.96018064],\n",
       "       [-0.44550868, -0.21550318,  0.9230559 ],\n",
       "       [ 0.15204735, -0.87007036,  0.29531039],\n",
       "       [-0.35519795,  0.11385621,  1.34155291],\n",
       "       [ 1.4480064 , -0.91988943, -0.54168363],\n",
       "       [ 0.32363775, -0.54901415, -0.96018064],\n",
       "       [ 0.03765375, -0.39540536,  0.34762252],\n",
       "       [-0.91361933,  0.01145035,  0.24299826],\n",
       "       [-0.28897008,  0.03635988, -1.6925504 ],\n",
       "       [-0.59903693,  0.22594911,  0.9230559 ],\n",
       "       [ 0.33116364, -0.53517552, -0.33243512],\n",
       "       [ 0.48770225,  0.70891728,  0.9230559 ],\n",
       "       [-0.51775727,  1.15036957,  1.44617716],\n",
       "       [-0.69235803,  0.01975353,  0.66149527],\n",
       "       [ 0.16408878, -0.86591877,  0.9230559 ],\n",
       "       [-1.18756189,  2.28928879,  0.08606188],\n",
       "       [-0.74503929, -0.07988461, -0.80324426],\n",
       "       [ 2.45346592, -1.18420725, -0.33243512],\n",
       "       [ 0.51931101, -1.06242731, -0.96018064]])"
      ]
     },
     "execution_count": 195,
     "metadata": {},
     "output_type": "execute_result"
    }
   ],
   "source": [
    "sc_x"
   ]
  },
  {
   "cell_type": "code",
   "execution_count": 196,
   "id": "dbc01000-952f-4c23-9481-3a8dbbccdf07",
   "metadata": {},
   "outputs": [],
   "source": [
    "#arrayをdfに変換する\n",
    "x_train_df = pd.DataFrame(sc_x,columns=col) #columnsにはcolumnの名前のリストを渡す"
   ]
  },
  {
   "cell_type": "code",
   "execution_count": 197,
   "id": "0965f551-2597-406b-b9e8-640714f898b6",
   "metadata": {},
   "outputs": [
    {
     "data": {
      "text/html": [
       "<div>\n",
       "<style scoped>\n",
       "    .dataframe tbody tr th:only-of-type {\n",
       "        vertical-align: middle;\n",
       "    }\n",
       "\n",
       "    .dataframe tbody tr th {\n",
       "        vertical-align: top;\n",
       "    }\n",
       "\n",
       "    .dataframe thead th {\n",
       "        text-align: right;\n",
       "    }\n",
       "</style>\n",
       "<table border=\"1\" class=\"dataframe\">\n",
       "  <thead>\n",
       "    <tr style=\"text-align: right;\">\n",
       "      <th></th>\n",
       "      <th>RM</th>\n",
       "      <th>LSTAT</th>\n",
       "      <th>PTRATIO</th>\n",
       "    </tr>\n",
       "  </thead>\n",
       "  <tbody>\n",
       "    <tr>\n",
       "      <th>0</th>\n",
       "      <td>-0.139957</td>\n",
       "      <td>-0.890828</td>\n",
       "      <td>-1.064805</td>\n",
       "    </tr>\n",
       "    <tr>\n",
       "      <th>1</th>\n",
       "      <td>-0.158020</td>\n",
       "      <td>-0.380183</td>\n",
       "      <td>1.341553</td>\n",
       "    </tr>\n",
       "    <tr>\n",
       "      <th>2</th>\n",
       "      <td>-1.125850</td>\n",
       "      <td>2.433211</td>\n",
       "      <td>0.923056</td>\n",
       "    </tr>\n",
       "    <tr>\n",
       "      <th>3</th>\n",
       "      <td>1.910096</td>\n",
       "      <td>-1.362726</td>\n",
       "      <td>-2.843417</td>\n",
       "    </tr>\n",
       "    <tr>\n",
       "      <th>4</th>\n",
       "      <td>-1.350121</td>\n",
       "      <td>1.886585</td>\n",
       "      <td>0.923056</td>\n",
       "    </tr>\n",
       "    <tr>\n",
       "      <th>...</th>\n",
       "      <td>...</td>\n",
       "      <td>...</td>\n",
       "      <td>...</td>\n",
       "    </tr>\n",
       "    <tr>\n",
       "      <th>57</th>\n",
       "      <td>0.164089</td>\n",
       "      <td>-0.865919</td>\n",
       "      <td>0.923056</td>\n",
       "    </tr>\n",
       "    <tr>\n",
       "      <th>58</th>\n",
       "      <td>-1.187562</td>\n",
       "      <td>2.289289</td>\n",
       "      <td>0.086062</td>\n",
       "    </tr>\n",
       "    <tr>\n",
       "      <th>59</th>\n",
       "      <td>-0.745039</td>\n",
       "      <td>-0.079885</td>\n",
       "      <td>-0.803244</td>\n",
       "    </tr>\n",
       "    <tr>\n",
       "      <th>60</th>\n",
       "      <td>2.453466</td>\n",
       "      <td>-1.184207</td>\n",
       "      <td>-0.332435</td>\n",
       "    </tr>\n",
       "    <tr>\n",
       "      <th>61</th>\n",
       "      <td>0.519311</td>\n",
       "      <td>-1.062427</td>\n",
       "      <td>-0.960181</td>\n",
       "    </tr>\n",
       "  </tbody>\n",
       "</table>\n",
       "<p>62 rows × 3 columns</p>\n",
       "</div>"
      ],
      "text/plain": [
       "          RM     LSTAT   PTRATIO\n",
       "0  -0.139957 -0.890828 -1.064805\n",
       "1  -0.158020 -0.380183  1.341553\n",
       "2  -1.125850  2.433211  0.923056\n",
       "3   1.910096 -1.362726 -2.843417\n",
       "4  -1.350121  1.886585  0.923056\n",
       "..       ...       ...       ...\n",
       "57  0.164089 -0.865919  0.923056\n",
       "58 -1.187562  2.289289  0.086062\n",
       "59 -0.745039 -0.079885 -0.803244\n",
       "60  2.453466 -1.184207 -0.332435\n",
       "61  0.519311 -1.062427 -0.960181\n",
       "\n",
       "[62 rows x 3 columns]"
      ]
     },
     "execution_count": 197,
     "metadata": {},
     "output_type": "execute_result"
    }
   ],
   "source": [
    "x_train_df"
   ]
  },
  {
   "cell_type": "code",
   "execution_count": 198,
   "id": "18659418-e567-49b7-aca2-d47a7daa1743",
   "metadata": {},
   "outputs": [
    {
     "data": {
      "text/plain": [
       "RM         8.344580e-16\n",
       "LSTAT     -5.730183e-17\n",
       "PTRATIO    8.953411e-16\n",
       "dtype: float64"
      ]
     },
     "execution_count": 198,
     "metadata": {},
     "output_type": "execute_result"
    }
   ],
   "source": [
    "x_train_df.mean() #平均値が0になっているかの確認"
   ]
  },
  {
   "cell_type": "code",
   "execution_count": 199,
   "id": "f4f0c1ed-11a0-4f27-8d26-756ba036d796",
   "metadata": {},
   "outputs": [],
   "source": [
    "#正解データの標準化\n",
    "y_sc_model = StandardScaler()"
   ]
  },
  {
   "cell_type": "code",
   "execution_count": 200,
   "id": "3db1bf81-3e96-4f5f-8b95-529c2d87adff",
   "metadata": {},
   "outputs": [],
   "source": [
    "#y_sc_model.fit(y_train) だとy_trainがSeries型なのでうまく変換できない\n",
    "#y_trainをdfに変換してから標準化する"
   ]
  },
  {
   "cell_type": "code",
   "execution_count": 201,
   "id": "057a1bfc-e2b3-40bc-8156-7028092e829d",
   "metadata": {},
   "outputs": [],
   "source": [
    "y_tmp_df = pd.DataFrame(y_train) #Series型を引数にするとdfに変換してくれる"
   ]
  },
  {
   "cell_type": "code",
   "execution_count": 202,
   "id": "cca63305-092f-41c6-90c2-41d8f6ac5e26",
   "metadata": {},
   "outputs": [
    {
     "data": {
      "text/plain": [
       "StandardScaler()"
      ]
     },
     "execution_count": 202,
     "metadata": {},
     "output_type": "execute_result"
    }
   ],
   "source": [
    "y_sc_model.fit(y_tmp_df)"
   ]
  },
  {
   "cell_type": "code",
   "execution_count": 203,
   "id": "a6c09edb-287e-4f96-87b2-f72902ff0168",
   "metadata": {},
   "outputs": [],
   "source": [
    "sc_y = y_sc_model.transform(y_tmp_df)"
   ]
  },
  {
   "cell_type": "code",
   "execution_count": 204,
   "id": "cd106f1d-a48b-4792-9c0a-fb0162ec91b5",
   "metadata": {},
   "outputs": [
    {
     "data": {
      "text/plain": [
       "-1.8264959437381609e-16"
      ]
     },
     "execution_count": 204,
     "metadata": {},
     "output_type": "execute_result"
    }
   ],
   "source": [
    "sc_y.mean()"
   ]
  },
  {
   "cell_type": "code",
   "execution_count": 205,
   "id": "0d14a68f-ca14-48b5-ad06-2851e83778aa",
   "metadata": {},
   "outputs": [
    {
     "data": {
      "text/plain": [
       "numpy.ndarray"
      ]
     },
     "execution_count": 205,
     "metadata": {},
     "output_type": "execute_result"
    }
   ],
   "source": [
    "type(sc_y)"
   ]
  },
  {
   "cell_type": "code",
   "execution_count": 206,
   "id": "e4eb4318-4cd5-425c-83f1-ebaba0ff6745",
   "metadata": {},
   "outputs": [],
   "source": [
    "y_train_df = pd.DataFrame(sc_y,columns=['PRICE']) #array型をdfに変換　columnsはリストであることが必要なので注意"
   ]
  },
  {
   "cell_type": "code",
   "execution_count": 207,
   "id": "8165c05b-7548-41ae-8596-8d2b1682c32a",
   "metadata": {},
   "outputs": [
    {
     "data": {
      "text/html": [
       "<div>\n",
       "<style scoped>\n",
       "    .dataframe tbody tr th:only-of-type {\n",
       "        vertical-align: middle;\n",
       "    }\n",
       "\n",
       "    .dataframe tbody tr th {\n",
       "        vertical-align: top;\n",
       "    }\n",
       "\n",
       "    .dataframe thead th {\n",
       "        text-align: right;\n",
       "    }\n",
       "</style>\n",
       "<table border=\"1\" class=\"dataframe\">\n",
       "  <thead>\n",
       "    <tr style=\"text-align: right;\">\n",
       "      <th></th>\n",
       "      <th>PRICE</th>\n",
       "    </tr>\n",
       "  </thead>\n",
       "  <tbody>\n",
       "    <tr>\n",
       "      <th>0</th>\n",
       "      <td>-0.050936</td>\n",
       "    </tr>\n",
       "    <tr>\n",
       "      <th>1</th>\n",
       "      <td>-0.469745</td>\n",
       "    </tr>\n",
       "    <tr>\n",
       "      <th>2</th>\n",
       "      <td>-1.963872</td>\n",
       "    </tr>\n",
       "    <tr>\n",
       "      <th>3</th>\n",
       "      <td>2.394000</td>\n",
       "    </tr>\n",
       "    <tr>\n",
       "      <th>4</th>\n",
       "      <td>-1.352638</td>\n",
       "    </tr>\n",
       "    <tr>\n",
       "      <th>...</th>\n",
       "      <td>...</td>\n",
       "    </tr>\n",
       "    <tr>\n",
       "      <th>57</th>\n",
       "      <td>-0.186766</td>\n",
       "    </tr>\n",
       "    <tr>\n",
       "      <th>58</th>\n",
       "      <td>0.152809</td>\n",
       "    </tr>\n",
       "    <tr>\n",
       "      <th>59</th>\n",
       "      <td>-0.594255</td>\n",
       "    </tr>\n",
       "    <tr>\n",
       "      <th>60</th>\n",
       "      <td>3.129745</td>\n",
       "    </tr>\n",
       "    <tr>\n",
       "      <th>61</th>\n",
       "      <td>0.798000</td>\n",
       "    </tr>\n",
       "  </tbody>\n",
       "</table>\n",
       "<p>62 rows × 1 columns</p>\n",
       "</div>"
      ],
      "text/plain": [
       "       PRICE\n",
       "0  -0.050936\n",
       "1  -0.469745\n",
       "2  -1.963872\n",
       "3   2.394000\n",
       "4  -1.352638\n",
       "..       ...\n",
       "57 -0.186766\n",
       "58  0.152809\n",
       "59 -0.594255\n",
       "60  3.129745\n",
       "61  0.798000\n",
       "\n",
       "[62 rows x 1 columns]"
      ]
     },
     "execution_count": 207,
     "metadata": {},
     "output_type": "execute_result"
    }
   ],
   "source": [
    "y_train_df"
   ]
  },
  {
   "cell_type": "code",
   "execution_count": 208,
   "id": "68b4adb4-6fcd-42ce-9215-269bf3cf992e",
   "metadata": {},
   "outputs": [],
   "source": [
    "#ここまでで学習用データの標準化が完了"
   ]
  },
  {
   "cell_type": "code",
   "execution_count": 209,
   "id": "8cae9065-82fb-46f1-9f3e-0c620e39ac9f",
   "metadata": {},
   "outputs": [],
   "source": [
    "#モデルの学習"
   ]
  },
  {
   "cell_type": "code",
   "execution_count": 210,
   "id": "83658ecb-38f1-4b4d-906f-f9dd8032efc0",
   "metadata": {},
   "outputs": [],
   "source": [
    "model = LinearRegression() #線形回帰をモデルとして使う"
   ]
  },
  {
   "cell_type": "code",
   "execution_count": 211,
   "id": "f7fb6cc9-5a9d-42e5-a3ae-ed01370b1baa",
   "metadata": {},
   "outputs": [
    {
     "data": {
      "text/plain": [
       "LinearRegression()"
      ]
     },
     "execution_count": 211,
     "metadata": {},
     "output_type": "execute_result"
    }
   ],
   "source": [
    "model.fit(x_train_df,y_train_df)"
   ]
  },
  {
   "cell_type": "code",
   "execution_count": 212,
   "id": "9123711b-bcbe-4e33-94df-8c6035f0b308",
   "metadata": {},
   "outputs": [],
   "source": [
    "#チューニング用データの標準化\n",
    "#学習データの平均と標準偏差を使うことに注意\n",
    "sc_x_tune = sc_model_x.transform(x_tune)"
   ]
  },
  {
   "cell_type": "code",
   "execution_count": 213,
   "id": "f67afe41-1961-4071-afb6-aaa4a2b968a6",
   "metadata": {},
   "outputs": [],
   "source": [
    "x_tune_df = pd.DataFrame(sc_x_tune,columns = col)"
   ]
  },
  {
   "cell_type": "code",
   "execution_count": 214,
   "id": "2ec0c64d-fe16-4dde-93d2-3e5dbbe33429",
   "metadata": {},
   "outputs": [
    {
     "data": {
      "text/html": [
       "<div>\n",
       "<style scoped>\n",
       "    .dataframe tbody tr th:only-of-type {\n",
       "        vertical-align: middle;\n",
       "    }\n",
       "\n",
       "    .dataframe tbody tr th {\n",
       "        vertical-align: top;\n",
       "    }\n",
       "\n",
       "    .dataframe thead th {\n",
       "        text-align: right;\n",
       "    }\n",
       "</style>\n",
       "<table border=\"1\" class=\"dataframe\">\n",
       "  <thead>\n",
       "    <tr style=\"text-align: right;\">\n",
       "      <th></th>\n",
       "      <th>RM</th>\n",
       "      <th>LSTAT</th>\n",
       "      <th>PTRATIO</th>\n",
       "    </tr>\n",
       "  </thead>\n",
       "  <tbody>\n",
       "    <tr>\n",
       "      <th>0</th>\n",
       "      <td>-0.472602</td>\n",
       "      <td>0.462590</td>\n",
       "      <td>0.923056</td>\n",
       "    </tr>\n",
       "    <tr>\n",
       "      <th>1</th>\n",
       "      <td>0.645746</td>\n",
       "      <td>-1.149611</td>\n",
       "      <td>0.399935</td>\n",
       "    </tr>\n",
       "    <tr>\n",
       "      <th>2</th>\n",
       "      <td>-0.331115</td>\n",
       "      <td>-0.187826</td>\n",
       "      <td>-0.541684</td>\n",
       "    </tr>\n",
       "    <tr>\n",
       "      <th>3</th>\n",
       "      <td>-1.164984</td>\n",
       "      <td>0.710301</td>\n",
       "      <td>0.923056</td>\n",
       "    </tr>\n",
       "    <tr>\n",
       "      <th>4</th>\n",
       "      <td>0.061737</td>\n",
       "      <td>-0.313757</td>\n",
       "      <td>0.923056</td>\n",
       "    </tr>\n",
       "    <tr>\n",
       "      <th>5</th>\n",
       "      <td>-0.526788</td>\n",
       "      <td>0.479196</td>\n",
       "      <td>1.289241</td>\n",
       "    </tr>\n",
       "    <tr>\n",
       "      <th>6</th>\n",
       "      <td>-0.665265</td>\n",
       "      <td>0.155372</td>\n",
       "      <td>0.923056</td>\n",
       "    </tr>\n",
       "    <tr>\n",
       "      <th>7</th>\n",
       "      <td>0.072273</td>\n",
       "      <td>-0.334515</td>\n",
       "      <td>-0.123187</td>\n",
       "    </tr>\n",
       "    <tr>\n",
       "      <th>8</th>\n",
       "      <td>-0.194144</td>\n",
       "      <td>0.004531</td>\n",
       "      <td>1.341553</td>\n",
       "    </tr>\n",
       "    <tr>\n",
       "      <th>9</th>\n",
       "      <td>-0.257361</td>\n",
       "      <td>-0.709542</td>\n",
       "      <td>1.341553</td>\n",
       "    </tr>\n",
       "    <tr>\n",
       "      <th>10</th>\n",
       "      <td>2.409816</td>\n",
       "      <td>-1.534325</td>\n",
       "      <td>-1.954111</td>\n",
       "    </tr>\n",
       "    <tr>\n",
       "      <th>11</th>\n",
       "      <td>-0.901578</td>\n",
       "      <td>0.441832</td>\n",
       "      <td>-0.280123</td>\n",
       "    </tr>\n",
       "    <tr>\n",
       "      <th>12</th>\n",
       "      <td>-0.075235</td>\n",
       "      <td>0.754585</td>\n",
       "      <td>1.446177</td>\n",
       "    </tr>\n",
       "    <tr>\n",
       "      <th>13</th>\n",
       "      <td>0.015076</td>\n",
       "      <td>-0.770432</td>\n",
       "      <td>-0.280123</td>\n",
       "    </tr>\n",
       "    <tr>\n",
       "      <th>14</th>\n",
       "      <td>-0.121895</td>\n",
       "      <td>-0.543479</td>\n",
       "      <td>1.341553</td>\n",
       "    </tr>\n",
       "    <tr>\n",
       "      <th>15</th>\n",
       "      <td>3.767487</td>\n",
       "      <td>-1.091488</td>\n",
       "      <td>-2.843417</td>\n",
       "    </tr>\n",
       "  </tbody>\n",
       "</table>\n",
       "</div>"
      ],
      "text/plain": [
       "          RM     LSTAT   PTRATIO\n",
       "0  -0.472602  0.462590  0.923056\n",
       "1   0.645746 -1.149611  0.399935\n",
       "2  -0.331115 -0.187826 -0.541684\n",
       "3  -1.164984  0.710301  0.923056\n",
       "4   0.061737 -0.313757  0.923056\n",
       "5  -0.526788  0.479196  1.289241\n",
       "6  -0.665265  0.155372  0.923056\n",
       "7   0.072273 -0.334515 -0.123187\n",
       "8  -0.194144  0.004531  1.341553\n",
       "9  -0.257361 -0.709542  1.341553\n",
       "10  2.409816 -1.534325 -1.954111\n",
       "11 -0.901578  0.441832 -0.280123\n",
       "12 -0.075235  0.754585  1.446177\n",
       "13  0.015076 -0.770432 -0.280123\n",
       "14 -0.121895 -0.543479  1.341553\n",
       "15  3.767487 -1.091488 -2.843417"
      ]
     },
     "execution_count": 214,
     "metadata": {},
     "output_type": "execute_result"
    }
   ],
   "source": [
    "x_tune_df"
   ]
  },
  {
   "cell_type": "code",
   "execution_count": 215,
   "id": "d0bd5390-4396-45f9-b468-cfce82b2d801",
   "metadata": {},
   "outputs": [],
   "source": [
    "sc_y_tune = y_sc_model.transform(pd.DataFrame(y_tune,columns=['PRICE']))"
   ]
  },
  {
   "cell_type": "code",
   "execution_count": 216,
   "id": "d0ed8067-16c5-45d8-8d33-e492e71f89b0",
   "metadata": {},
   "outputs": [],
   "source": [
    "y_tune_df = pd.DataFrame(sc_y_tune,columns=['PRICE'])"
   ]
  },
  {
   "cell_type": "code",
   "execution_count": 217,
   "id": "8da46ebb-a786-4994-ae1e-20379a8766cd",
   "metadata": {},
   "outputs": [
    {
     "data": {
      "text/html": [
       "<div>\n",
       "<style scoped>\n",
       "    .dataframe tbody tr th:only-of-type {\n",
       "        vertical-align: middle;\n",
       "    }\n",
       "\n",
       "    .dataframe tbody tr th {\n",
       "        vertical-align: top;\n",
       "    }\n",
       "\n",
       "    .dataframe thead th {\n",
       "        text-align: right;\n",
       "    }\n",
       "</style>\n",
       "<table border=\"1\" class=\"dataframe\">\n",
       "  <thead>\n",
       "    <tr style=\"text-align: right;\">\n",
       "      <th></th>\n",
       "      <th>PRICE</th>\n",
       "    </tr>\n",
       "  </thead>\n",
       "  <tbody>\n",
       "    <tr>\n",
       "      <th>0</th>\n",
       "      <td>-1.092298</td>\n",
       "    </tr>\n",
       "    <tr>\n",
       "      <th>1</th>\n",
       "      <td>0.628213</td>\n",
       "    </tr>\n",
       "    <tr>\n",
       "      <th>2</th>\n",
       "      <td>0.220723</td>\n",
       "    </tr>\n",
       "    <tr>\n",
       "      <th>3</th>\n",
       "      <td>-0.967787</td>\n",
       "    </tr>\n",
       "    <tr>\n",
       "      <th>4</th>\n",
       "      <td>0.073574</td>\n",
       "    </tr>\n",
       "    <tr>\n",
       "      <th>5</th>\n",
       "      <td>-0.322596</td>\n",
       "    </tr>\n",
       "    <tr>\n",
       "      <th>6</th>\n",
       "      <td>-0.277319</td>\n",
       "    </tr>\n",
       "    <tr>\n",
       "      <th>7</th>\n",
       "      <td>-0.198085</td>\n",
       "    </tr>\n",
       "    <tr>\n",
       "      <th>8</th>\n",
       "      <td>-0.888553</td>\n",
       "    </tr>\n",
       "    <tr>\n",
       "      <th>9</th>\n",
       "      <td>-1.182851</td>\n",
       "    </tr>\n",
       "    <tr>\n",
       "      <th>10</th>\n",
       "      <td>3.129745</td>\n",
       "    </tr>\n",
       "    <tr>\n",
       "      <th>11</th>\n",
       "      <td>-0.333915</td>\n",
       "    </tr>\n",
       "    <tr>\n",
       "      <th>12</th>\n",
       "      <td>-0.515021</td>\n",
       "    </tr>\n",
       "    <tr>\n",
       "      <th>13</th>\n",
       "      <td>0.266000</td>\n",
       "    </tr>\n",
       "    <tr>\n",
       "      <th>14</th>\n",
       "      <td>-0.198085</td>\n",
       "    </tr>\n",
       "    <tr>\n",
       "      <th>15</th>\n",
       "      <td>3.129745</td>\n",
       "    </tr>\n",
       "  </tbody>\n",
       "</table>\n",
       "</div>"
      ],
      "text/plain": [
       "       PRICE\n",
       "0  -1.092298\n",
       "1   0.628213\n",
       "2   0.220723\n",
       "3  -0.967787\n",
       "4   0.073574\n",
       "5  -0.322596\n",
       "6  -0.277319\n",
       "7  -0.198085\n",
       "8  -0.888553\n",
       "9  -1.182851\n",
       "10  3.129745\n",
       "11 -0.333915\n",
       "12 -0.515021\n",
       "13  0.266000\n",
       "14 -0.198085\n",
       "15  3.129745"
      ]
     },
     "execution_count": 217,
     "metadata": {},
     "output_type": "execute_result"
    }
   ],
   "source": [
    "y_tune_df"
   ]
  },
  {
   "cell_type": "code",
   "execution_count": 218,
   "id": "a34ef386-b45b-4dc4-bdb8-4c37c1759286",
   "metadata": {},
   "outputs": [
    {
     "data": {
      "text/plain": [
       "0.8875108977784512"
      ]
     },
     "execution_count": 218,
     "metadata": {},
     "output_type": "execute_result"
    }
   ],
   "source": [
    "model.score(x_tune_df,y_tune_df)"
   ]
  },
  {
   "cell_type": "code",
   "execution_count": 219,
   "id": "c0209f82-8856-4de7-95da-9ab8d2bf8449",
   "metadata": {},
   "outputs": [],
   "source": [
    "#上記の処理をまとめて関数化する→チューニングをしやすくするため\n",
    "#前処理後の特徴量のdfと正解のdfを受け取って学習スコアとチューニングスコアを出力する\n",
    "\n",
    "def learn(x,t):\n",
    "    x_train,x_tune,y_train,y_tune = train_test_split(x,t,test_size=0.2,random_state=0) #データを学習とチューニング用に分割\n",
    "    #学習データの標準化\n",
    "    sc_model_x = StandardScaler()\n",
    "    sc_model_y = StandardScaler()\n",
    "    sc_model_x.fit(x_train)\n",
    "    sc_model_y.fit(pd.DataFrame(y_train,columns=['PRICE']))\n",
    "    sc_x_train = sc_model_x.transform(x_train)\n",
    "    sc_y_train = sc_model_y.transform(pd.DataFrame(y_train,columns=['PRICE'])) #yはSeriesをdfに変換する\n",
    "    #一応arrayをdfに変換\n",
    "    sc_x_train_df = pd.DataFrame(sc_x_train,columns = x_train.columns)\n",
    "    sc_y_train_df = pd.DataFrame(sc_y_train,columns = ['PRICE'])\n",
    "    #モデルの学習\n",
    "    model = LinearRegression()\n",
    "    model.fit(sc_x_train_df,sc_y_train_df)\n",
    "    \n",
    "    #チューニングデータの標準化\n",
    "    sc_x_tune = sc_model_x.transform(x_tune)\n",
    "    sc_y_tune = sc_model_y.transform(pd.DataFrame(y_tune,columns=['PRICE']))\n",
    "    sc_x_tune_df = pd.DataFrame(sc_x_tune,columns = x_train.columns)\n",
    "    sc_y_tune_df = pd.DataFrame(sc_y_tune,columns = ['PRICE'])\n",
    "    \n",
    "    #精度の評価\n",
    "    train_score = model.score(sc_x_train_df,sc_y_train_df)\n",
    "    tune_score = model.score(sc_x_tune_df,sc_y_tune_df)\n",
    "    return train_score,tune_score"
   ]
  },
  {
   "cell_type": "code",
   "execution_count": 220,
   "id": "dea6ee83-5882-4a72-afd4-bdc862840d2e",
   "metadata": {},
   "outputs": [],
   "source": [
    "#関数を使ってみる\n",
    "#欠損値の穴埋め後のdfから特徴量を抽出\n",
    "x = train_val4.loc[:,['RM','LSTAT','PTRATIO']]\n",
    "t = train_val4[['PRICE']]\n"
   ]
  },
  {
   "cell_type": "code",
   "execution_count": 221,
   "id": "cb180c05-8bfd-46da-8e29-2a426cc27a8a",
   "metadata": {},
   "outputs": [],
   "source": [
    "s1,s2 = learn(x,t)"
   ]
  },
  {
   "cell_type": "code",
   "execution_count": 222,
   "id": "1edce859-0903-4ce0-8e83-76c35a661384",
   "metadata": {},
   "outputs": [
    {
     "name": "stdout",
     "output_type": "stream",
     "text": [
      "0.7573120925057222 0.8875108977784512\n"
     ]
    }
   ],
   "source": [
    "print(s1,s2) #結果"
   ]
  },
  {
   "cell_type": "code",
   "execution_count": 223,
   "id": "68ad1d6f-2cec-4c02-aef9-62e8a8bee974",
   "metadata": {},
   "outputs": [],
   "source": [
    "#ここから精度を上げるためのチューニングを行う"
   ]
  },
  {
   "cell_type": "code",
   "execution_count": 224,
   "id": "8bab5c22-fdab-4078-9b9b-39b3212cb764",
   "metadata": {},
   "outputs": [],
   "source": [
    "#特徴量の増加\n",
    "x = train_val4.loc[:,['RM','LSTAT','PTRATIO','INDUS']]\n",
    "t = train_val4[['PRICE']]\n",
    "s1,s2 = learn(x,t)"
   ]
  },
  {
   "cell_type": "code",
   "execution_count": 225,
   "id": "1980c59b-ef1f-4025-bcb9-292a6b5001e3",
   "metadata": {},
   "outputs": [
    {
     "name": "stdout",
     "output_type": "stream",
     "text": [
      "0.7775468616083849 0.8448088597818566\n"
     ]
    }
   ],
   "source": [
    "print(s1,s2) #単に特徴量を増やすだけだと精度は下がる→学習用データに対する過学習が起こっている"
   ]
  },
  {
   "cell_type": "code",
   "execution_count": 231,
   "id": "406a0c31-ac93-49d7-92f1-841621c24cf0",
   "metadata": {},
   "outputs": [
    {
     "name": "stdout",
     "output_type": "stream",
     "text": [
      "0.8483418551526014 0.7983800008274042\n"
     ]
    }
   ],
   "source": [
    "#特徴量エンジニアリングを行う\n",
    "#元のデータを使って列を追加する\n",
    "#元のデータを2乗した列など\n",
    "x1 = train_val4.loc[:,['RM','LSTAT','PTRATIO']]\n",
    "t1 = train_val4[['PRICE']]\n",
    "\n",
    "x1['RM2'] = x1['RM'] ** 2 #RMを2乗した値を新たな列として追加\n",
    "s1,s2 = learn(x1,t1)\n",
    "print(s1,s2) #精度が下がることもある"
   ]
  },
  {
   "cell_type": "code",
   "execution_count": 236,
   "id": "fd051bcc-2824-4a86-956e-483fd6ff2233",
   "metadata": {},
   "outputs": [
    {
     "name": "stdout",
     "output_type": "stream",
     "text": [
      "0.8667358850139589 0.8884050734153516\n"
     ]
    }
   ],
   "source": [
    "#交互作用特徴量\n",
    "#特徴量の列どうしの演算から新たな特徴量をつくる\n",
    "x1['RM*LSTAT'] = x1['RM'] * x1['LSTAT'] #Series同士で演算が可能\n",
    "s1,s2 = learn(x1,t1)\n",
    "print(s1,s2) #精度が向上した\n"
   ]
  },
  {
   "cell_type": "code",
   "execution_count": 240,
   "id": "76e78b43-eab5-49fe-b28a-f95c0b619869",
   "metadata": {},
   "outputs": [
    {
     "data": {
      "text/plain": [
       "LinearRegression()"
      ]
     },
     "execution_count": 240,
     "metadata": {},
     "output_type": "execute_result"
    }
   ],
   "source": [
    "#与える特徴量が決定したのでテスト用のモデルを作成する\n",
    "#学習用とチューニング用のデータをすべて使ってモデルを生成する\n",
    "sc_model_x2 = StandardScaler()\n",
    "sc_model_x2.fit(x1)\n",
    "sc_x = sc_model_x2.transform(x1)\n",
    "\n",
    "sc_model_t2 = StandardScaler()\n",
    "sc_model_t2.fit(t)\n",
    "sc_t= sc_model_t2.transform(t)\n",
    "\n",
    "model = LinearRegression()\n",
    "model.fit(sc_x,sc_t)"
   ]
  },
  {
   "cell_type": "code",
   "execution_count": 243,
   "id": "155a3f8a-27c8-4e96-9f7e-5ca12521e828",
   "metadata": {},
   "outputs": [
    {
     "name": "stderr",
     "output_type": "stream",
     "text": [
      "C:\\Users\\tnakg\\AppData\\Local\\Temp/ipykernel_2028/1807870596.py:5: FutureWarning: Dropping of nuisance columns in DataFrame reductions (with 'numeric_only=None') is deprecated; in a future version this will raise TypeError.  Select only valid columns before calling the reduction.\n",
      "  test2 = test.fillna(train_val.mean())\n"
     ]
    }
   ],
   "source": [
    "#テストデータでモデルを評価する\n",
    "#学習でおこなった前処理をテストデータにも行う\n",
    "#ただし、外れ値処理は行わない\n",
    "\n",
    "test2 = test.fillna(train_val.mean())\n",
    "x_test = test2.loc[:,['RM','LSTAT','PTRATIO']]\n",
    "y_test = test2[['PRICE']]"
   ]
  },
  {
   "cell_type": "code",
   "execution_count": 244,
   "id": "59d9b98f-a056-4703-bf63-d7e6161f935f",
   "metadata": {},
   "outputs": [],
   "source": [
    "x_test['RM2'] = x_test['RM'] ** 2"
   ]
  },
  {
   "cell_type": "code",
   "execution_count": 245,
   "id": "8b1be5ba-7c85-41bb-828b-4d0e26878005",
   "metadata": {},
   "outputs": [],
   "source": [
    "x_test['RM*LSTAT'] = x_test['RM'] * x_test['LSTAT']"
   ]
  },
  {
   "cell_type": "code",
   "execution_count": 248,
   "id": "298de12e-e559-4d58-8d6b-baf3e48df92f",
   "metadata": {},
   "outputs": [
    {
     "data": {
      "text/plain": [
       "0.7688857678988379"
      ]
     },
     "execution_count": 248,
     "metadata": {},
     "output_type": "execute_result"
    }
   ],
   "source": [
    "#標準化\n",
    "sc_x_test = sc_model_x2.transform(x_test)\n",
    "sc_y_test = sc_model_t2.transform(y_test)\n",
    "model.score(sc_x_test,sc_y_test) "
   ]
  },
  {
   "cell_type": "code",
   "execution_count": null,
   "id": "a5e6a693-a6fa-4a19-a5bc-498f027f010e",
   "metadata": {},
   "outputs": [],
   "source": [
    "#モデルの保存"
   ]
  }
 ],
 "metadata": {
  "kernelspec": {
   "display_name": "Python 3 (ipykernel)",
   "language": "python",
   "name": "python3"
  },
  "language_info": {
   "codemirror_mode": {
    "name": "ipython",
    "version": 3
   },
   "file_extension": ".py",
   "mimetype": "text/x-python",
   "name": "python",
   "nbconvert_exporter": "python",
   "pygments_lexer": "ipython3",
   "version": "3.8.12"
  }
 },
 "nbformat": 4,
 "nbformat_minor": 5
}
