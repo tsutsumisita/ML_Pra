{
 "cells": [
  {
   "cell_type": "code",
   "execution_count": 2,
   "id": "5c121d5e-3170-469b-adf0-fc3c3cd8acaf",
   "metadata": {},
   "outputs": [],
   "source": [
    "import pandas as pd\n",
    "%matplotlib inline\n",
    "from sklearn.linear_model import LinearRegression\n",
    "from sklearn.model_selection import train_test_split"
   ]
  },
  {
   "cell_type": "code",
   "execution_count": 3,
   "id": "c739cc3e-43a3-4ae9-a6ca-b9dc9f704ef9",
   "metadata": {},
   "outputs": [],
   "source": [
    "df = pd.read_csv('datafiles/Boston.csv')"
   ]
  },
  {
   "cell_type": "code",
   "execution_count": 3,
   "id": "87a077ba-c513-4b69-baf3-5de846f04dc4",
   "metadata": {},
   "outputs": [
    {
     "data": {
      "text/html": [
       "<div>\n",
       "<style scoped>\n",
       "    .dataframe tbody tr th:only-of-type {\n",
       "        vertical-align: middle;\n",
       "    }\n",
       "\n",
       "    .dataframe tbody tr th {\n",
       "        vertical-align: top;\n",
       "    }\n",
       "\n",
       "    .dataframe thead th {\n",
       "        text-align: right;\n",
       "    }\n",
       "</style>\n",
       "<table border=\"1\" class=\"dataframe\">\n",
       "  <thead>\n",
       "    <tr style=\"text-align: right;\">\n",
       "      <th></th>\n",
       "      <th>CRIME</th>\n",
       "      <th>ZN</th>\n",
       "      <th>INDUS</th>\n",
       "      <th>CHAS</th>\n",
       "      <th>NOX</th>\n",
       "      <th>RM</th>\n",
       "      <th>AGE</th>\n",
       "      <th>DIS</th>\n",
       "      <th>RAD</th>\n",
       "      <th>TAX</th>\n",
       "      <th>PTRATIO</th>\n",
       "      <th>B</th>\n",
       "      <th>LSTAT</th>\n",
       "      <th>PRICE</th>\n",
       "    </tr>\n",
       "  </thead>\n",
       "  <tbody>\n",
       "    <tr>\n",
       "      <th>0</th>\n",
       "      <td>high</td>\n",
       "      <td>0.0</td>\n",
       "      <td>18.10</td>\n",
       "      <td>0</td>\n",
       "      <td>0.718</td>\n",
       "      <td>3.561</td>\n",
       "      <td>87.9</td>\n",
       "      <td>1.6132</td>\n",
       "      <td>24.0</td>\n",
       "      <td>666</td>\n",
       "      <td>20.2</td>\n",
       "      <td>354.70</td>\n",
       "      <td>7.12</td>\n",
       "      <td>27.5</td>\n",
       "    </tr>\n",
       "    <tr>\n",
       "      <th>1</th>\n",
       "      <td>low</td>\n",
       "      <td>0.0</td>\n",
       "      <td>8.14</td>\n",
       "      <td>0</td>\n",
       "      <td>0.538</td>\n",
       "      <td>5.950</td>\n",
       "      <td>82.0</td>\n",
       "      <td>3.9900</td>\n",
       "      <td>4.0</td>\n",
       "      <td>307</td>\n",
       "      <td>21.0</td>\n",
       "      <td>232.60</td>\n",
       "      <td>27.71</td>\n",
       "      <td>13.2</td>\n",
       "    </tr>\n",
       "    <tr>\n",
       "      <th>2</th>\n",
       "      <td>very_low</td>\n",
       "      <td>82.5</td>\n",
       "      <td>2.03</td>\n",
       "      <td>0</td>\n",
       "      <td>0.415</td>\n",
       "      <td>6.162</td>\n",
       "      <td>38.4</td>\n",
       "      <td>6.2700</td>\n",
       "      <td>2.0</td>\n",
       "      <td>348</td>\n",
       "      <td>14.7</td>\n",
       "      <td>393.77</td>\n",
       "      <td>7.43</td>\n",
       "      <td>24.1</td>\n",
       "    </tr>\n",
       "    <tr>\n",
       "      <th>3</th>\n",
       "      <td>low</td>\n",
       "      <td>0.0</td>\n",
       "      <td>21.89</td>\n",
       "      <td>0</td>\n",
       "      <td>0.624</td>\n",
       "      <td>6.151</td>\n",
       "      <td>97.9</td>\n",
       "      <td>1.6687</td>\n",
       "      <td>4.0</td>\n",
       "      <td>437</td>\n",
       "      <td>21.2</td>\n",
       "      <td>396.90</td>\n",
       "      <td>18.46</td>\n",
       "      <td>17.8</td>\n",
       "    </tr>\n",
       "    <tr>\n",
       "      <th>4</th>\n",
       "      <td>high</td>\n",
       "      <td>0.0</td>\n",
       "      <td>18.10</td>\n",
       "      <td>0</td>\n",
       "      <td>0.614</td>\n",
       "      <td>6.980</td>\n",
       "      <td>67.6</td>\n",
       "      <td>2.5329</td>\n",
       "      <td>24.0</td>\n",
       "      <td>666</td>\n",
       "      <td>20.2</td>\n",
       "      <td>374.68</td>\n",
       "      <td>11.66</td>\n",
       "      <td>29.8</td>\n",
       "    </tr>\n",
       "  </tbody>\n",
       "</table>\n",
       "</div>"
      ],
      "text/plain": [
       "      CRIME    ZN  INDUS  CHAS    NOX     RM   AGE     DIS   RAD  TAX  \\\n",
       "0      high   0.0  18.10     0  0.718  3.561  87.9  1.6132  24.0  666   \n",
       "1       low   0.0   8.14     0  0.538  5.950  82.0  3.9900   4.0  307   \n",
       "2  very_low  82.5   2.03     0  0.415  6.162  38.4  6.2700   2.0  348   \n",
       "3       low   0.0  21.89     0  0.624  6.151  97.9  1.6687   4.0  437   \n",
       "4      high   0.0  18.10     0  0.614  6.980  67.6  2.5329  24.0  666   \n",
       "\n",
       "   PTRATIO       B  LSTAT  PRICE  \n",
       "0     20.2  354.70   7.12   27.5  \n",
       "1     21.0  232.60  27.71   13.2  \n",
       "2     14.7  393.77   7.43   24.1  \n",
       "3     21.2  396.90  18.46   17.8  \n",
       "4     20.2  374.68  11.66   29.8  "
      ]
     },
     "execution_count": 3,
     "metadata": {},
     "output_type": "execute_result"
    }
   ],
   "source": [
    "df.head()"
   ]
  },
  {
   "cell_type": "code",
   "execution_count": 4,
   "id": "489555f9-d21f-4395-a151-18ca4e2379e2",
   "metadata": {},
   "outputs": [
    {
     "data": {
      "text/plain": [
       "very_low    50\n",
       "high        25\n",
       "low         25\n",
       "Name: CRIME, dtype: int64"
      ]
     },
     "execution_count": 4,
     "metadata": {},
     "output_type": "execute_result"
    }
   ],
   "source": [
    "df['CRIME'].value_counts()"
   ]
  },
  {
   "cell_type": "code",
   "execution_count": 5,
   "id": "33f10443-5a03-42a0-8d95-f0961271446e",
   "metadata": {},
   "outputs": [],
   "source": [
    "crime = pd.get_dummies(df['CRIME'], drop_first = True)"
   ]
  },
  {
   "cell_type": "code",
   "execution_count": 6,
   "id": "cb0132f0-2b2c-4300-b4c9-edbb5bb44e4c",
   "metadata": {},
   "outputs": [
    {
     "data": {
      "text/html": [
       "<div>\n",
       "<style scoped>\n",
       "    .dataframe tbody tr th:only-of-type {\n",
       "        vertical-align: middle;\n",
       "    }\n",
       "\n",
       "    .dataframe tbody tr th {\n",
       "        vertical-align: top;\n",
       "    }\n",
       "\n",
       "    .dataframe thead th {\n",
       "        text-align: right;\n",
       "    }\n",
       "</style>\n",
       "<table border=\"1\" class=\"dataframe\">\n",
       "  <thead>\n",
       "    <tr style=\"text-align: right;\">\n",
       "      <th></th>\n",
       "      <th>low</th>\n",
       "      <th>very_low</th>\n",
       "    </tr>\n",
       "  </thead>\n",
       "  <tbody>\n",
       "    <tr>\n",
       "      <th>0</th>\n",
       "      <td>0</td>\n",
       "      <td>0</td>\n",
       "    </tr>\n",
       "    <tr>\n",
       "      <th>1</th>\n",
       "      <td>1</td>\n",
       "      <td>0</td>\n",
       "    </tr>\n",
       "    <tr>\n",
       "      <th>2</th>\n",
       "      <td>0</td>\n",
       "      <td>1</td>\n",
       "    </tr>\n",
       "    <tr>\n",
       "      <th>3</th>\n",
       "      <td>1</td>\n",
       "      <td>0</td>\n",
       "    </tr>\n",
       "    <tr>\n",
       "      <th>4</th>\n",
       "      <td>0</td>\n",
       "      <td>0</td>\n",
       "    </tr>\n",
       "    <tr>\n",
       "      <th>...</th>\n",
       "      <td>...</td>\n",
       "      <td>...</td>\n",
       "    </tr>\n",
       "    <tr>\n",
       "      <th>95</th>\n",
       "      <td>0</td>\n",
       "      <td>0</td>\n",
       "    </tr>\n",
       "    <tr>\n",
       "      <th>96</th>\n",
       "      <td>0</td>\n",
       "      <td>0</td>\n",
       "    </tr>\n",
       "    <tr>\n",
       "      <th>97</th>\n",
       "      <td>0</td>\n",
       "      <td>0</td>\n",
       "    </tr>\n",
       "    <tr>\n",
       "      <th>98</th>\n",
       "      <td>1</td>\n",
       "      <td>0</td>\n",
       "    </tr>\n",
       "    <tr>\n",
       "      <th>99</th>\n",
       "      <td>0</td>\n",
       "      <td>0</td>\n",
       "    </tr>\n",
       "  </tbody>\n",
       "</table>\n",
       "<p>100 rows × 2 columns</p>\n",
       "</div>"
      ],
      "text/plain": [
       "    low  very_low\n",
       "0     0         0\n",
       "1     1         0\n",
       "2     0         1\n",
       "3     1         0\n",
       "4     0         0\n",
       "..  ...       ...\n",
       "95    0         0\n",
       "96    0         0\n",
       "97    0         0\n",
       "98    1         0\n",
       "99    0         0\n",
       "\n",
       "[100 rows x 2 columns]"
      ]
     },
     "execution_count": 6,
     "metadata": {},
     "output_type": "execute_result"
    }
   ],
   "source": [
    "crime"
   ]
  },
  {
   "cell_type": "code",
   "execution_count": 7,
   "id": "cb55ba6f-49d4-4499-b741-e97ed06e8a74",
   "metadata": {},
   "outputs": [],
   "source": [
    "df2 = pd.concat([df,crime],axis = 1)"
   ]
  },
  {
   "cell_type": "code",
   "execution_count": 8,
   "id": "de450e8d-c43a-4a2c-9c94-61ccf1511bd1",
   "metadata": {},
   "outputs": [
    {
     "data": {
      "text/html": [
       "<div>\n",
       "<style scoped>\n",
       "    .dataframe tbody tr th:only-of-type {\n",
       "        vertical-align: middle;\n",
       "    }\n",
       "\n",
       "    .dataframe tbody tr th {\n",
       "        vertical-align: top;\n",
       "    }\n",
       "\n",
       "    .dataframe thead th {\n",
       "        text-align: right;\n",
       "    }\n",
       "</style>\n",
       "<table border=\"1\" class=\"dataframe\">\n",
       "  <thead>\n",
       "    <tr style=\"text-align: right;\">\n",
       "      <th></th>\n",
       "      <th>CRIME</th>\n",
       "      <th>ZN</th>\n",
       "      <th>INDUS</th>\n",
       "      <th>CHAS</th>\n",
       "      <th>NOX</th>\n",
       "      <th>RM</th>\n",
       "      <th>AGE</th>\n",
       "      <th>DIS</th>\n",
       "      <th>RAD</th>\n",
       "      <th>TAX</th>\n",
       "      <th>PTRATIO</th>\n",
       "      <th>B</th>\n",
       "      <th>LSTAT</th>\n",
       "      <th>PRICE</th>\n",
       "      <th>low</th>\n",
       "      <th>very_low</th>\n",
       "    </tr>\n",
       "  </thead>\n",
       "  <tbody>\n",
       "    <tr>\n",
       "      <th>0</th>\n",
       "      <td>high</td>\n",
       "      <td>0.0</td>\n",
       "      <td>18.10</td>\n",
       "      <td>0</td>\n",
       "      <td>0.718</td>\n",
       "      <td>3.561</td>\n",
       "      <td>87.9</td>\n",
       "      <td>1.6132</td>\n",
       "      <td>24.0</td>\n",
       "      <td>666</td>\n",
       "      <td>20.2</td>\n",
       "      <td>354.70</td>\n",
       "      <td>7.12</td>\n",
       "      <td>27.5</td>\n",
       "      <td>0</td>\n",
       "      <td>0</td>\n",
       "    </tr>\n",
       "    <tr>\n",
       "      <th>1</th>\n",
       "      <td>low</td>\n",
       "      <td>0.0</td>\n",
       "      <td>8.14</td>\n",
       "      <td>0</td>\n",
       "      <td>0.538</td>\n",
       "      <td>5.950</td>\n",
       "      <td>82.0</td>\n",
       "      <td>3.9900</td>\n",
       "      <td>4.0</td>\n",
       "      <td>307</td>\n",
       "      <td>21.0</td>\n",
       "      <td>232.60</td>\n",
       "      <td>27.71</td>\n",
       "      <td>13.2</td>\n",
       "      <td>1</td>\n",
       "      <td>0</td>\n",
       "    </tr>\n",
       "    <tr>\n",
       "      <th>2</th>\n",
       "      <td>very_low</td>\n",
       "      <td>82.5</td>\n",
       "      <td>2.03</td>\n",
       "      <td>0</td>\n",
       "      <td>0.415</td>\n",
       "      <td>6.162</td>\n",
       "      <td>38.4</td>\n",
       "      <td>6.2700</td>\n",
       "      <td>2.0</td>\n",
       "      <td>348</td>\n",
       "      <td>14.7</td>\n",
       "      <td>393.77</td>\n",
       "      <td>7.43</td>\n",
       "      <td>24.1</td>\n",
       "      <td>0</td>\n",
       "      <td>1</td>\n",
       "    </tr>\n",
       "    <tr>\n",
       "      <th>3</th>\n",
       "      <td>low</td>\n",
       "      <td>0.0</td>\n",
       "      <td>21.89</td>\n",
       "      <td>0</td>\n",
       "      <td>0.624</td>\n",
       "      <td>6.151</td>\n",
       "      <td>97.9</td>\n",
       "      <td>1.6687</td>\n",
       "      <td>4.0</td>\n",
       "      <td>437</td>\n",
       "      <td>21.2</td>\n",
       "      <td>396.90</td>\n",
       "      <td>18.46</td>\n",
       "      <td>17.8</td>\n",
       "      <td>1</td>\n",
       "      <td>0</td>\n",
       "    </tr>\n",
       "    <tr>\n",
       "      <th>4</th>\n",
       "      <td>high</td>\n",
       "      <td>0.0</td>\n",
       "      <td>18.10</td>\n",
       "      <td>0</td>\n",
       "      <td>0.614</td>\n",
       "      <td>6.980</td>\n",
       "      <td>67.6</td>\n",
       "      <td>2.5329</td>\n",
       "      <td>24.0</td>\n",
       "      <td>666</td>\n",
       "      <td>20.2</td>\n",
       "      <td>374.68</td>\n",
       "      <td>11.66</td>\n",
       "      <td>29.8</td>\n",
       "      <td>0</td>\n",
       "      <td>0</td>\n",
       "    </tr>\n",
       "    <tr>\n",
       "      <th>...</th>\n",
       "      <td>...</td>\n",
       "      <td>...</td>\n",
       "      <td>...</td>\n",
       "      <td>...</td>\n",
       "      <td>...</td>\n",
       "      <td>...</td>\n",
       "      <td>...</td>\n",
       "      <td>...</td>\n",
       "      <td>...</td>\n",
       "      <td>...</td>\n",
       "      <td>...</td>\n",
       "      <td>...</td>\n",
       "      <td>...</td>\n",
       "      <td>...</td>\n",
       "      <td>...</td>\n",
       "      <td>...</td>\n",
       "    </tr>\n",
       "    <tr>\n",
       "      <th>95</th>\n",
       "      <td>high</td>\n",
       "      <td>0.0</td>\n",
       "      <td>18.10</td>\n",
       "      <td>0</td>\n",
       "      <td>0.740</td>\n",
       "      <td>6.219</td>\n",
       "      <td>100.0</td>\n",
       "      <td>2.0048</td>\n",
       "      <td>24.0</td>\n",
       "      <td>666</td>\n",
       "      <td>20.2</td>\n",
       "      <td>395.69</td>\n",
       "      <td>16.59</td>\n",
       "      <td>18.4</td>\n",
       "      <td>0</td>\n",
       "      <td>0</td>\n",
       "    </tr>\n",
       "    <tr>\n",
       "      <th>96</th>\n",
       "      <td>high</td>\n",
       "      <td>0.0</td>\n",
       "      <td>18.10</td>\n",
       "      <td>0</td>\n",
       "      <td>0.655</td>\n",
       "      <td>5.759</td>\n",
       "      <td>48.2</td>\n",
       "      <td>3.0665</td>\n",
       "      <td>24.0</td>\n",
       "      <td>666</td>\n",
       "      <td>20.2</td>\n",
       "      <td>334.40</td>\n",
       "      <td>14.13</td>\n",
       "      <td>19.9</td>\n",
       "      <td>0</td>\n",
       "      <td>0</td>\n",
       "    </tr>\n",
       "    <tr>\n",
       "      <th>97</th>\n",
       "      <td>high</td>\n",
       "      <td>0.0</td>\n",
       "      <td>18.10</td>\n",
       "      <td>0</td>\n",
       "      <td>0.671</td>\n",
       "      <td>6.380</td>\n",
       "      <td>96.2</td>\n",
       "      <td>1.3861</td>\n",
       "      <td>24.0</td>\n",
       "      <td>666</td>\n",
       "      <td>20.2</td>\n",
       "      <td>396.90</td>\n",
       "      <td>23.69</td>\n",
       "      <td>13.1</td>\n",
       "      <td>0</td>\n",
       "      <td>0</td>\n",
       "    </tr>\n",
       "    <tr>\n",
       "      <th>98</th>\n",
       "      <td>low</td>\n",
       "      <td>0.0</td>\n",
       "      <td>9.90</td>\n",
       "      <td>0</td>\n",
       "      <td>0.544</td>\n",
       "      <td>5.914</td>\n",
       "      <td>83.2</td>\n",
       "      <td>3.9986</td>\n",
       "      <td>4.0</td>\n",
       "      <td>304</td>\n",
       "      <td>18.4</td>\n",
       "      <td>390.70</td>\n",
       "      <td>18.33</td>\n",
       "      <td>17.8</td>\n",
       "      <td>1</td>\n",
       "      <td>0</td>\n",
       "    </tr>\n",
       "    <tr>\n",
       "      <th>99</th>\n",
       "      <td>high</td>\n",
       "      <td>0.0</td>\n",
       "      <td>18.10</td>\n",
       "      <td>0</td>\n",
       "      <td>0.693</td>\n",
       "      <td>5.453</td>\n",
       "      <td>100.0</td>\n",
       "      <td>1.4896</td>\n",
       "      <td>24.0</td>\n",
       "      <td>666</td>\n",
       "      <td>20.2</td>\n",
       "      <td>396.90</td>\n",
       "      <td>30.59</td>\n",
       "      <td>5.0</td>\n",
       "      <td>0</td>\n",
       "      <td>0</td>\n",
       "    </tr>\n",
       "  </tbody>\n",
       "</table>\n",
       "<p>100 rows × 16 columns</p>\n",
       "</div>"
      ],
      "text/plain": [
       "       CRIME    ZN  INDUS  CHAS    NOX     RM    AGE     DIS   RAD  TAX  \\\n",
       "0       high   0.0  18.10     0  0.718  3.561   87.9  1.6132  24.0  666   \n",
       "1        low   0.0   8.14     0  0.538  5.950   82.0  3.9900   4.0  307   \n",
       "2   very_low  82.5   2.03     0  0.415  6.162   38.4  6.2700   2.0  348   \n",
       "3        low   0.0  21.89     0  0.624  6.151   97.9  1.6687   4.0  437   \n",
       "4       high   0.0  18.10     0  0.614  6.980   67.6  2.5329  24.0  666   \n",
       "..       ...   ...    ...   ...    ...    ...    ...     ...   ...  ...   \n",
       "95      high   0.0  18.10     0  0.740  6.219  100.0  2.0048  24.0  666   \n",
       "96      high   0.0  18.10     0  0.655  5.759   48.2  3.0665  24.0  666   \n",
       "97      high   0.0  18.10     0  0.671  6.380   96.2  1.3861  24.0  666   \n",
       "98       low   0.0   9.90     0  0.544  5.914   83.2  3.9986   4.0  304   \n",
       "99      high   0.0  18.10     0  0.693  5.453  100.0  1.4896  24.0  666   \n",
       "\n",
       "    PTRATIO       B  LSTAT  PRICE  low  very_low  \n",
       "0      20.2  354.70   7.12   27.5    0         0  \n",
       "1      21.0  232.60  27.71   13.2    1         0  \n",
       "2      14.7  393.77   7.43   24.1    0         1  \n",
       "3      21.2  396.90  18.46   17.8    1         0  \n",
       "4      20.2  374.68  11.66   29.8    0         0  \n",
       "..      ...     ...    ...    ...  ...       ...  \n",
       "95     20.2  395.69  16.59   18.4    0         0  \n",
       "96     20.2  334.40  14.13   19.9    0         0  \n",
       "97     20.2  396.90  23.69   13.1    0         0  \n",
       "98     18.4  390.70  18.33   17.8    1         0  \n",
       "99     20.2  396.90  30.59    5.0    0         0  \n",
       "\n",
       "[100 rows x 16 columns]"
      ]
     },
     "execution_count": 8,
     "metadata": {},
     "output_type": "execute_result"
    }
   ],
   "source": [
    "df2"
   ]
  },
  {
   "cell_type": "code",
   "execution_count": 9,
   "id": "1330b00a-2b5b-45a5-99a3-bc0bc4ca23eb",
   "metadata": {},
   "outputs": [],
   "source": [
    "df2 = df2.drop(['CRIME'],axis = 1)"
   ]
  },
  {
   "cell_type": "code",
   "execution_count": 10,
   "id": "78b40767-4e8b-4203-802c-200fb86f6ad3",
   "metadata": {},
   "outputs": [
    {
     "data": {
      "text/html": [
       "<div>\n",
       "<style scoped>\n",
       "    .dataframe tbody tr th:only-of-type {\n",
       "        vertical-align: middle;\n",
       "    }\n",
       "\n",
       "    .dataframe tbody tr th {\n",
       "        vertical-align: top;\n",
       "    }\n",
       "\n",
       "    .dataframe thead th {\n",
       "        text-align: right;\n",
       "    }\n",
       "</style>\n",
       "<table border=\"1\" class=\"dataframe\">\n",
       "  <thead>\n",
       "    <tr style=\"text-align: right;\">\n",
       "      <th></th>\n",
       "      <th>ZN</th>\n",
       "      <th>INDUS</th>\n",
       "      <th>CHAS</th>\n",
       "      <th>NOX</th>\n",
       "      <th>RM</th>\n",
       "      <th>AGE</th>\n",
       "      <th>DIS</th>\n",
       "      <th>RAD</th>\n",
       "      <th>TAX</th>\n",
       "      <th>PTRATIO</th>\n",
       "      <th>B</th>\n",
       "      <th>LSTAT</th>\n",
       "      <th>PRICE</th>\n",
       "      <th>low</th>\n",
       "      <th>very_low</th>\n",
       "    </tr>\n",
       "  </thead>\n",
       "  <tbody>\n",
       "    <tr>\n",
       "      <th>0</th>\n",
       "      <td>0.0</td>\n",
       "      <td>18.10</td>\n",
       "      <td>0</td>\n",
       "      <td>0.718</td>\n",
       "      <td>3.561</td>\n",
       "      <td>87.9</td>\n",
       "      <td>1.6132</td>\n",
       "      <td>24.0</td>\n",
       "      <td>666</td>\n",
       "      <td>20.2</td>\n",
       "      <td>354.70</td>\n",
       "      <td>7.12</td>\n",
       "      <td>27.5</td>\n",
       "      <td>0</td>\n",
       "      <td>0</td>\n",
       "    </tr>\n",
       "    <tr>\n",
       "      <th>1</th>\n",
       "      <td>0.0</td>\n",
       "      <td>8.14</td>\n",
       "      <td>0</td>\n",
       "      <td>0.538</td>\n",
       "      <td>5.950</td>\n",
       "      <td>82.0</td>\n",
       "      <td>3.9900</td>\n",
       "      <td>4.0</td>\n",
       "      <td>307</td>\n",
       "      <td>21.0</td>\n",
       "      <td>232.60</td>\n",
       "      <td>27.71</td>\n",
       "      <td>13.2</td>\n",
       "      <td>1</td>\n",
       "      <td>0</td>\n",
       "    </tr>\n",
       "    <tr>\n",
       "      <th>2</th>\n",
       "      <td>82.5</td>\n",
       "      <td>2.03</td>\n",
       "      <td>0</td>\n",
       "      <td>0.415</td>\n",
       "      <td>6.162</td>\n",
       "      <td>38.4</td>\n",
       "      <td>6.2700</td>\n",
       "      <td>2.0</td>\n",
       "      <td>348</td>\n",
       "      <td>14.7</td>\n",
       "      <td>393.77</td>\n",
       "      <td>7.43</td>\n",
       "      <td>24.1</td>\n",
       "      <td>0</td>\n",
       "      <td>1</td>\n",
       "    </tr>\n",
       "    <tr>\n",
       "      <th>3</th>\n",
       "      <td>0.0</td>\n",
       "      <td>21.89</td>\n",
       "      <td>0</td>\n",
       "      <td>0.624</td>\n",
       "      <td>6.151</td>\n",
       "      <td>97.9</td>\n",
       "      <td>1.6687</td>\n",
       "      <td>4.0</td>\n",
       "      <td>437</td>\n",
       "      <td>21.2</td>\n",
       "      <td>396.90</td>\n",
       "      <td>18.46</td>\n",
       "      <td>17.8</td>\n",
       "      <td>1</td>\n",
       "      <td>0</td>\n",
       "    </tr>\n",
       "    <tr>\n",
       "      <th>4</th>\n",
       "      <td>0.0</td>\n",
       "      <td>18.10</td>\n",
       "      <td>0</td>\n",
       "      <td>0.614</td>\n",
       "      <td>6.980</td>\n",
       "      <td>67.6</td>\n",
       "      <td>2.5329</td>\n",
       "      <td>24.0</td>\n",
       "      <td>666</td>\n",
       "      <td>20.2</td>\n",
       "      <td>374.68</td>\n",
       "      <td>11.66</td>\n",
       "      <td>29.8</td>\n",
       "      <td>0</td>\n",
       "      <td>0</td>\n",
       "    </tr>\n",
       "    <tr>\n",
       "      <th>...</th>\n",
       "      <td>...</td>\n",
       "      <td>...</td>\n",
       "      <td>...</td>\n",
       "      <td>...</td>\n",
       "      <td>...</td>\n",
       "      <td>...</td>\n",
       "      <td>...</td>\n",
       "      <td>...</td>\n",
       "      <td>...</td>\n",
       "      <td>...</td>\n",
       "      <td>...</td>\n",
       "      <td>...</td>\n",
       "      <td>...</td>\n",
       "      <td>...</td>\n",
       "      <td>...</td>\n",
       "    </tr>\n",
       "    <tr>\n",
       "      <th>95</th>\n",
       "      <td>0.0</td>\n",
       "      <td>18.10</td>\n",
       "      <td>0</td>\n",
       "      <td>0.740</td>\n",
       "      <td>6.219</td>\n",
       "      <td>100.0</td>\n",
       "      <td>2.0048</td>\n",
       "      <td>24.0</td>\n",
       "      <td>666</td>\n",
       "      <td>20.2</td>\n",
       "      <td>395.69</td>\n",
       "      <td>16.59</td>\n",
       "      <td>18.4</td>\n",
       "      <td>0</td>\n",
       "      <td>0</td>\n",
       "    </tr>\n",
       "    <tr>\n",
       "      <th>96</th>\n",
       "      <td>0.0</td>\n",
       "      <td>18.10</td>\n",
       "      <td>0</td>\n",
       "      <td>0.655</td>\n",
       "      <td>5.759</td>\n",
       "      <td>48.2</td>\n",
       "      <td>3.0665</td>\n",
       "      <td>24.0</td>\n",
       "      <td>666</td>\n",
       "      <td>20.2</td>\n",
       "      <td>334.40</td>\n",
       "      <td>14.13</td>\n",
       "      <td>19.9</td>\n",
       "      <td>0</td>\n",
       "      <td>0</td>\n",
       "    </tr>\n",
       "    <tr>\n",
       "      <th>97</th>\n",
       "      <td>0.0</td>\n",
       "      <td>18.10</td>\n",
       "      <td>0</td>\n",
       "      <td>0.671</td>\n",
       "      <td>6.380</td>\n",
       "      <td>96.2</td>\n",
       "      <td>1.3861</td>\n",
       "      <td>24.0</td>\n",
       "      <td>666</td>\n",
       "      <td>20.2</td>\n",
       "      <td>396.90</td>\n",
       "      <td>23.69</td>\n",
       "      <td>13.1</td>\n",
       "      <td>0</td>\n",
       "      <td>0</td>\n",
       "    </tr>\n",
       "    <tr>\n",
       "      <th>98</th>\n",
       "      <td>0.0</td>\n",
       "      <td>9.90</td>\n",
       "      <td>0</td>\n",
       "      <td>0.544</td>\n",
       "      <td>5.914</td>\n",
       "      <td>83.2</td>\n",
       "      <td>3.9986</td>\n",
       "      <td>4.0</td>\n",
       "      <td>304</td>\n",
       "      <td>18.4</td>\n",
       "      <td>390.70</td>\n",
       "      <td>18.33</td>\n",
       "      <td>17.8</td>\n",
       "      <td>1</td>\n",
       "      <td>0</td>\n",
       "    </tr>\n",
       "    <tr>\n",
       "      <th>99</th>\n",
       "      <td>0.0</td>\n",
       "      <td>18.10</td>\n",
       "      <td>0</td>\n",
       "      <td>0.693</td>\n",
       "      <td>5.453</td>\n",
       "      <td>100.0</td>\n",
       "      <td>1.4896</td>\n",
       "      <td>24.0</td>\n",
       "      <td>666</td>\n",
       "      <td>20.2</td>\n",
       "      <td>396.90</td>\n",
       "      <td>30.59</td>\n",
       "      <td>5.0</td>\n",
       "      <td>0</td>\n",
       "      <td>0</td>\n",
       "    </tr>\n",
       "  </tbody>\n",
       "</table>\n",
       "<p>100 rows × 15 columns</p>\n",
       "</div>"
      ],
      "text/plain": [
       "      ZN  INDUS  CHAS    NOX     RM    AGE     DIS   RAD  TAX  PTRATIO  \\\n",
       "0    0.0  18.10     0  0.718  3.561   87.9  1.6132  24.0  666     20.2   \n",
       "1    0.0   8.14     0  0.538  5.950   82.0  3.9900   4.0  307     21.0   \n",
       "2   82.5   2.03     0  0.415  6.162   38.4  6.2700   2.0  348     14.7   \n",
       "3    0.0  21.89     0  0.624  6.151   97.9  1.6687   4.0  437     21.2   \n",
       "4    0.0  18.10     0  0.614  6.980   67.6  2.5329  24.0  666     20.2   \n",
       "..   ...    ...   ...    ...    ...    ...     ...   ...  ...      ...   \n",
       "95   0.0  18.10     0  0.740  6.219  100.0  2.0048  24.0  666     20.2   \n",
       "96   0.0  18.10     0  0.655  5.759   48.2  3.0665  24.0  666     20.2   \n",
       "97   0.0  18.10     0  0.671  6.380   96.2  1.3861  24.0  666     20.2   \n",
       "98   0.0   9.90     0  0.544  5.914   83.2  3.9986   4.0  304     18.4   \n",
       "99   0.0  18.10     0  0.693  5.453  100.0  1.4896  24.0  666     20.2   \n",
       "\n",
       "         B  LSTAT  PRICE  low  very_low  \n",
       "0   354.70   7.12   27.5    0         0  \n",
       "1   232.60  27.71   13.2    1         0  \n",
       "2   393.77   7.43   24.1    0         1  \n",
       "3   396.90  18.46   17.8    1         0  \n",
       "4   374.68  11.66   29.8    0         0  \n",
       "..     ...    ...    ...  ...       ...  \n",
       "95  395.69  16.59   18.4    0         0  \n",
       "96  334.40  14.13   19.9    0         0  \n",
       "97  396.90  23.69   13.1    0         0  \n",
       "98  390.70  18.33   17.8    1         0  \n",
       "99  396.90  30.59    5.0    0         0  \n",
       "\n",
       "[100 rows x 15 columns]"
      ]
     },
     "execution_count": 10,
     "metadata": {},
     "output_type": "execute_result"
    }
   ],
   "source": [
    "df2"
   ]
  },
  {
   "cell_type": "code",
   "execution_count": 11,
   "id": "c52c9df2-4f0d-4df0-b002-99aab1017666",
   "metadata": {},
   "outputs": [
    {
     "data": {
      "text/plain": [
       "24.0    22\n",
       "4.0     22\n",
       "5.0     20\n",
       "3.0     10\n",
       "2.0      7\n",
       "8.0      7\n",
       "7.0      4\n",
       "1.0      4\n",
       "6.0      3\n",
       "Name: RAD, dtype: int64"
      ]
     },
     "execution_count": 11,
     "metadata": {},
     "output_type": "execute_result"
    }
   ],
   "source": [
    " df2['RAD'].value_counts()"
   ]
  },
  {
   "cell_type": "code",
   "execution_count": 13,
   "id": "7b7069b6-7746-45bc-a9e4-ed0318848ac1",
   "metadata": {},
   "outputs": [],
   "source": [
    "tmp = pd.get_dummies(df['RAD'], drop_first = True)"
   ]
  },
  {
   "cell_type": "code",
   "execution_count": 14,
   "id": "81d06599-8a4a-423c-95a4-cdf611ea5677",
   "metadata": {},
   "outputs": [
    {
     "data": {
      "text/html": [
       "<div>\n",
       "<style scoped>\n",
       "    .dataframe tbody tr th:only-of-type {\n",
       "        vertical-align: middle;\n",
       "    }\n",
       "\n",
       "    .dataframe tbody tr th {\n",
       "        vertical-align: top;\n",
       "    }\n",
       "\n",
       "    .dataframe thead th {\n",
       "        text-align: right;\n",
       "    }\n",
       "</style>\n",
       "<table border=\"1\" class=\"dataframe\">\n",
       "  <thead>\n",
       "    <tr style=\"text-align: right;\">\n",
       "      <th></th>\n",
       "      <th>2.0</th>\n",
       "      <th>3.0</th>\n",
       "      <th>4.0</th>\n",
       "      <th>5.0</th>\n",
       "      <th>6.0</th>\n",
       "      <th>7.0</th>\n",
       "      <th>8.0</th>\n",
       "      <th>24.0</th>\n",
       "    </tr>\n",
       "  </thead>\n",
       "  <tbody>\n",
       "    <tr>\n",
       "      <th>0</th>\n",
       "      <td>0</td>\n",
       "      <td>0</td>\n",
       "      <td>0</td>\n",
       "      <td>0</td>\n",
       "      <td>0</td>\n",
       "      <td>0</td>\n",
       "      <td>0</td>\n",
       "      <td>1</td>\n",
       "    </tr>\n",
       "    <tr>\n",
       "      <th>1</th>\n",
       "      <td>0</td>\n",
       "      <td>0</td>\n",
       "      <td>1</td>\n",
       "      <td>0</td>\n",
       "      <td>0</td>\n",
       "      <td>0</td>\n",
       "      <td>0</td>\n",
       "      <td>0</td>\n",
       "    </tr>\n",
       "    <tr>\n",
       "      <th>2</th>\n",
       "      <td>1</td>\n",
       "      <td>0</td>\n",
       "      <td>0</td>\n",
       "      <td>0</td>\n",
       "      <td>0</td>\n",
       "      <td>0</td>\n",
       "      <td>0</td>\n",
       "      <td>0</td>\n",
       "    </tr>\n",
       "    <tr>\n",
       "      <th>3</th>\n",
       "      <td>0</td>\n",
       "      <td>0</td>\n",
       "      <td>1</td>\n",
       "      <td>0</td>\n",
       "      <td>0</td>\n",
       "      <td>0</td>\n",
       "      <td>0</td>\n",
       "      <td>0</td>\n",
       "    </tr>\n",
       "    <tr>\n",
       "      <th>4</th>\n",
       "      <td>0</td>\n",
       "      <td>0</td>\n",
       "      <td>0</td>\n",
       "      <td>0</td>\n",
       "      <td>0</td>\n",
       "      <td>0</td>\n",
       "      <td>0</td>\n",
       "      <td>1</td>\n",
       "    </tr>\n",
       "    <tr>\n",
       "      <th>...</th>\n",
       "      <td>...</td>\n",
       "      <td>...</td>\n",
       "      <td>...</td>\n",
       "      <td>...</td>\n",
       "      <td>...</td>\n",
       "      <td>...</td>\n",
       "      <td>...</td>\n",
       "      <td>...</td>\n",
       "    </tr>\n",
       "    <tr>\n",
       "      <th>95</th>\n",
       "      <td>0</td>\n",
       "      <td>0</td>\n",
       "      <td>0</td>\n",
       "      <td>0</td>\n",
       "      <td>0</td>\n",
       "      <td>0</td>\n",
       "      <td>0</td>\n",
       "      <td>1</td>\n",
       "    </tr>\n",
       "    <tr>\n",
       "      <th>96</th>\n",
       "      <td>0</td>\n",
       "      <td>0</td>\n",
       "      <td>0</td>\n",
       "      <td>0</td>\n",
       "      <td>0</td>\n",
       "      <td>0</td>\n",
       "      <td>0</td>\n",
       "      <td>1</td>\n",
       "    </tr>\n",
       "    <tr>\n",
       "      <th>97</th>\n",
       "      <td>0</td>\n",
       "      <td>0</td>\n",
       "      <td>0</td>\n",
       "      <td>0</td>\n",
       "      <td>0</td>\n",
       "      <td>0</td>\n",
       "      <td>0</td>\n",
       "      <td>1</td>\n",
       "    </tr>\n",
       "    <tr>\n",
       "      <th>98</th>\n",
       "      <td>0</td>\n",
       "      <td>0</td>\n",
       "      <td>1</td>\n",
       "      <td>0</td>\n",
       "      <td>0</td>\n",
       "      <td>0</td>\n",
       "      <td>0</td>\n",
       "      <td>0</td>\n",
       "    </tr>\n",
       "    <tr>\n",
       "      <th>99</th>\n",
       "      <td>0</td>\n",
       "      <td>0</td>\n",
       "      <td>0</td>\n",
       "      <td>0</td>\n",
       "      <td>0</td>\n",
       "      <td>0</td>\n",
       "      <td>0</td>\n",
       "      <td>1</td>\n",
       "    </tr>\n",
       "  </tbody>\n",
       "</table>\n",
       "<p>100 rows × 8 columns</p>\n",
       "</div>"
      ],
      "text/plain": [
       "    2.0   3.0   4.0   5.0   6.0   7.0   8.0   24.0\n",
       "0      0     0     0     0     0     0     0     1\n",
       "1      0     0     1     0     0     0     0     0\n",
       "2      1     0     0     0     0     0     0     0\n",
       "3      0     0     1     0     0     0     0     0\n",
       "4      0     0     0     0     0     0     0     1\n",
       "..   ...   ...   ...   ...   ...   ...   ...   ...\n",
       "95     0     0     0     0     0     0     0     1\n",
       "96     0     0     0     0     0     0     0     1\n",
       "97     0     0     0     0     0     0     0     1\n",
       "98     0     0     1     0     0     0     0     0\n",
       "99     0     0     0     0     0     0     0     1\n",
       "\n",
       "[100 rows x 8 columns]"
      ]
     },
     "execution_count": 14,
     "metadata": {},
     "output_type": "execute_result"
    }
   ],
   "source": [
    "tmp"
   ]
  },
  {
   "cell_type": "code",
   "execution_count": 15,
   "id": "855c4da1-e788-44f0-979c-c6766a7ffe98",
   "metadata": {},
   "outputs": [],
   "source": [
    "train_val,test = train_test_split(df2,test_size=0.2)"
   ]
  },
  {
   "cell_type": "code",
   "execution_count": 16,
   "id": "492f7eb8-a697-4abf-84c3-85eed6ccb675",
   "metadata": {},
   "outputs": [
    {
     "data": {
      "text/html": [
       "<div>\n",
       "<style scoped>\n",
       "    .dataframe tbody tr th:only-of-type {\n",
       "        vertical-align: middle;\n",
       "    }\n",
       "\n",
       "    .dataframe tbody tr th {\n",
       "        vertical-align: top;\n",
       "    }\n",
       "\n",
       "    .dataframe thead th {\n",
       "        text-align: right;\n",
       "    }\n",
       "</style>\n",
       "<table border=\"1\" class=\"dataframe\">\n",
       "  <thead>\n",
       "    <tr style=\"text-align: right;\">\n",
       "      <th></th>\n",
       "      <th>ZN</th>\n",
       "      <th>INDUS</th>\n",
       "      <th>CHAS</th>\n",
       "      <th>NOX</th>\n",
       "      <th>RM</th>\n",
       "      <th>AGE</th>\n",
       "      <th>DIS</th>\n",
       "      <th>RAD</th>\n",
       "      <th>TAX</th>\n",
       "      <th>PTRATIO</th>\n",
       "      <th>B</th>\n",
       "      <th>LSTAT</th>\n",
       "      <th>PRICE</th>\n",
       "      <th>low</th>\n",
       "      <th>very_low</th>\n",
       "    </tr>\n",
       "  </thead>\n",
       "  <tbody>\n",
       "    <tr>\n",
       "      <th>67</th>\n",
       "      <td>0.0</td>\n",
       "      <td>5.19</td>\n",
       "      <td>0</td>\n",
       "      <td>0.515</td>\n",
       "      <td>6.310</td>\n",
       "      <td>38.5</td>\n",
       "      <td>6.4584</td>\n",
       "      <td>5.0</td>\n",
       "      <td>224</td>\n",
       "      <td>20.2</td>\n",
       "      <td>389.40</td>\n",
       "      <td>6.75</td>\n",
       "      <td>20.7</td>\n",
       "      <td>0</td>\n",
       "      <td>1</td>\n",
       "    </tr>\n",
       "    <tr>\n",
       "      <th>73</th>\n",
       "      <td>55.0</td>\n",
       "      <td>3.78</td>\n",
       "      <td>0</td>\n",
       "      <td>0.484</td>\n",
       "      <td>6.874</td>\n",
       "      <td>28.1</td>\n",
       "      <td>6.4654</td>\n",
       "      <td>5.0</td>\n",
       "      <td>370</td>\n",
       "      <td>17.6</td>\n",
       "      <td>387.97</td>\n",
       "      <td>4.61</td>\n",
       "      <td>31.2</td>\n",
       "      <td>0</td>\n",
       "      <td>1</td>\n",
       "    </tr>\n",
       "    <tr>\n",
       "      <th>39</th>\n",
       "      <td>0.0</td>\n",
       "      <td>6.91</td>\n",
       "      <td>0</td>\n",
       "      <td>0.448</td>\n",
       "      <td>5.602</td>\n",
       "      <td>62.0</td>\n",
       "      <td>6.0877</td>\n",
       "      <td>3.0</td>\n",
       "      <td>233</td>\n",
       "      <td>17.9</td>\n",
       "      <td>396.90</td>\n",
       "      <td>16.20</td>\n",
       "      <td>19.4</td>\n",
       "      <td>0</td>\n",
       "      <td>1</td>\n",
       "    </tr>\n",
       "    <tr>\n",
       "      <th>70</th>\n",
       "      <td>0.0</td>\n",
       "      <td>10.59</td>\n",
       "      <td>0</td>\n",
       "      <td>0.489</td>\n",
       "      <td>5.412</td>\n",
       "      <td>9.8</td>\n",
       "      <td>3.5875</td>\n",
       "      <td>4.0</td>\n",
       "      <td>277</td>\n",
       "      <td>18.6</td>\n",
       "      <td>348.93</td>\n",
       "      <td>29.55</td>\n",
       "      <td>23.7</td>\n",
       "      <td>1</td>\n",
       "      <td>0</td>\n",
       "    </tr>\n",
       "    <tr>\n",
       "      <th>75</th>\n",
       "      <td>0.0</td>\n",
       "      <td>3.24</td>\n",
       "      <td>0</td>\n",
       "      <td>0.460</td>\n",
       "      <td>6.333</td>\n",
       "      <td>17.2</td>\n",
       "      <td>5.2146</td>\n",
       "      <td>4.0</td>\n",
       "      <td>430</td>\n",
       "      <td>16.9</td>\n",
       "      <td>375.21</td>\n",
       "      <td>7.34</td>\n",
       "      <td>22.6</td>\n",
       "      <td>0</td>\n",
       "      <td>1</td>\n",
       "    </tr>\n",
       "    <tr>\n",
       "      <th>...</th>\n",
       "      <td>...</td>\n",
       "      <td>...</td>\n",
       "      <td>...</td>\n",
       "      <td>...</td>\n",
       "      <td>...</td>\n",
       "      <td>...</td>\n",
       "      <td>...</td>\n",
       "      <td>...</td>\n",
       "      <td>...</td>\n",
       "      <td>...</td>\n",
       "      <td>...</td>\n",
       "      <td>...</td>\n",
       "      <td>...</td>\n",
       "      <td>...</td>\n",
       "      <td>...</td>\n",
       "    </tr>\n",
       "    <tr>\n",
       "      <th>40</th>\n",
       "      <td>20.0</td>\n",
       "      <td>3.97</td>\n",
       "      <td>0</td>\n",
       "      <td>0.575</td>\n",
       "      <td>7.470</td>\n",
       "      <td>52.6</td>\n",
       "      <td>2.8720</td>\n",
       "      <td>5.0</td>\n",
       "      <td>264</td>\n",
       "      <td>13.0</td>\n",
       "      <td>390.30</td>\n",
       "      <td>3.16</td>\n",
       "      <td>43.5</td>\n",
       "      <td>1</td>\n",
       "      <td>0</td>\n",
       "    </tr>\n",
       "    <tr>\n",
       "      <th>2</th>\n",
       "      <td>82.5</td>\n",
       "      <td>2.03</td>\n",
       "      <td>0</td>\n",
       "      <td>0.415</td>\n",
       "      <td>6.162</td>\n",
       "      <td>38.4</td>\n",
       "      <td>6.2700</td>\n",
       "      <td>2.0</td>\n",
       "      <td>348</td>\n",
       "      <td>14.7</td>\n",
       "      <td>393.77</td>\n",
       "      <td>7.43</td>\n",
       "      <td>24.1</td>\n",
       "      <td>0</td>\n",
       "      <td>1</td>\n",
       "    </tr>\n",
       "    <tr>\n",
       "      <th>32</th>\n",
       "      <td>0.0</td>\n",
       "      <td>4.05</td>\n",
       "      <td>0</td>\n",
       "      <td>0.510</td>\n",
       "      <td>6.546</td>\n",
       "      <td>33.1</td>\n",
       "      <td>3.1323</td>\n",
       "      <td>5.0</td>\n",
       "      <td>296</td>\n",
       "      <td>16.6</td>\n",
       "      <td>390.96</td>\n",
       "      <td>5.33</td>\n",
       "      <td>29.4</td>\n",
       "      <td>0</td>\n",
       "      <td>1</td>\n",
       "    </tr>\n",
       "    <tr>\n",
       "      <th>31</th>\n",
       "      <td>12.5</td>\n",
       "      <td>6.07</td>\n",
       "      <td>0</td>\n",
       "      <td>0.409</td>\n",
       "      <td>5.594</td>\n",
       "      <td>36.8</td>\n",
       "      <td>6.4980</td>\n",
       "      <td>4.0</td>\n",
       "      <td>345</td>\n",
       "      <td>18.9</td>\n",
       "      <td>396.90</td>\n",
       "      <td>13.09</td>\n",
       "      <td>17.4</td>\n",
       "      <td>0</td>\n",
       "      <td>1</td>\n",
       "    </tr>\n",
       "    <tr>\n",
       "      <th>14</th>\n",
       "      <td>22.0</td>\n",
       "      <td>5.86</td>\n",
       "      <td>0</td>\n",
       "      <td>0.431</td>\n",
       "      <td>6.226</td>\n",
       "      <td>79.2</td>\n",
       "      <td>8.0555</td>\n",
       "      <td>7.0</td>\n",
       "      <td>330</td>\n",
       "      <td>19.1</td>\n",
       "      <td>376.14</td>\n",
       "      <td>10.15</td>\n",
       "      <td>20.5</td>\n",
       "      <td>0</td>\n",
       "      <td>1</td>\n",
       "    </tr>\n",
       "  </tbody>\n",
       "</table>\n",
       "<p>80 rows × 15 columns</p>\n",
       "</div>"
      ],
      "text/plain": [
       "      ZN  INDUS  CHAS    NOX     RM   AGE     DIS  RAD  TAX  PTRATIO       B  \\\n",
       "67   0.0   5.19     0  0.515  6.310  38.5  6.4584  5.0  224     20.2  389.40   \n",
       "73  55.0   3.78     0  0.484  6.874  28.1  6.4654  5.0  370     17.6  387.97   \n",
       "39   0.0   6.91     0  0.448  5.602  62.0  6.0877  3.0  233     17.9  396.90   \n",
       "70   0.0  10.59     0  0.489  5.412   9.8  3.5875  4.0  277     18.6  348.93   \n",
       "75   0.0   3.24     0  0.460  6.333  17.2  5.2146  4.0  430     16.9  375.21   \n",
       "..   ...    ...   ...    ...    ...   ...     ...  ...  ...      ...     ...   \n",
       "40  20.0   3.97     0  0.575  7.470  52.6  2.8720  5.0  264     13.0  390.30   \n",
       "2   82.5   2.03     0  0.415  6.162  38.4  6.2700  2.0  348     14.7  393.77   \n",
       "32   0.0   4.05     0  0.510  6.546  33.1  3.1323  5.0  296     16.6  390.96   \n",
       "31  12.5   6.07     0  0.409  5.594  36.8  6.4980  4.0  345     18.9  396.90   \n",
       "14  22.0   5.86     0  0.431  6.226  79.2  8.0555  7.0  330     19.1  376.14   \n",
       "\n",
       "    LSTAT  PRICE  low  very_low  \n",
       "67   6.75   20.7    0         1  \n",
       "73   4.61   31.2    0         1  \n",
       "39  16.20   19.4    0         1  \n",
       "70  29.55   23.7    1         0  \n",
       "75   7.34   22.6    0         1  \n",
       "..    ...    ...  ...       ...  \n",
       "40   3.16   43.5    1         0  \n",
       "2    7.43   24.1    0         1  \n",
       "32   5.33   29.4    0         1  \n",
       "31  13.09   17.4    0         1  \n",
       "14  10.15   20.5    0         1  \n",
       "\n",
       "[80 rows x 15 columns]"
      ]
     },
     "execution_count": 16,
     "metadata": {},
     "output_type": "execute_result"
    }
   ],
   "source": [
    "train_val"
   ]
  },
  {
   "cell_type": "code",
   "execution_count": 17,
   "id": "db439175-57ea-4c69-a1af-f4fd5dbc636f",
   "metadata": {},
   "outputs": [
    {
     "data": {
      "text/plain": [
       "ZN          0\n",
       "INDUS       0\n",
       "CHAS        0\n",
       "NOX         1\n",
       "RM          0\n",
       "AGE         0\n",
       "DIS         0\n",
       "RAD         1\n",
       "TAX         0\n",
       "PTRATIO     0\n",
       "B           0\n",
       "LSTAT       0\n",
       "PRICE       0\n",
       "low         0\n",
       "very_low    0\n",
       "dtype: int64"
      ]
     },
     "execution_count": 17,
     "metadata": {},
     "output_type": "execute_result"
    }
   ],
   "source": [
    "train_val.isnull().sum()"
   ]
  },
  {
   "cell_type": "code",
   "execution_count": 18,
   "id": "d7d1c1c8-9221-4407-8de4-bb255591fbf5",
   "metadata": {},
   "outputs": [],
   "source": [
    "train_val_mean = train_val.mean()"
   ]
  },
  {
   "cell_type": "code",
   "execution_count": 19,
   "id": "79e798cc-6367-48cb-9fd4-b2f35995b0db",
   "metadata": {},
   "outputs": [],
   "source": [
    "train_val2 = train_val.fillna(train_val_mean)"
   ]
  },
  {
   "cell_type": "code",
   "execution_count": 21,
   "id": "d8c2f2d0-0be5-4d74-a8e2-231459d9ce0c",
   "metadata": {},
   "outputs": [
    {
     "data": {
      "text/plain": [
       "ZN          0\n",
       "INDUS       0\n",
       "CHAS        0\n",
       "NOX         0\n",
       "RM          0\n",
       "AGE         0\n",
       "DIS         0\n",
       "RAD         0\n",
       "TAX         0\n",
       "PTRATIO     0\n",
       "B           0\n",
       "LSTAT       0\n",
       "PRICE       0\n",
       "low         0\n",
       "very_low    0\n",
       "dtype: int64"
      ]
     },
     "execution_count": 21,
     "metadata": {},
     "output_type": "execute_result"
    }
   ],
   "source": [
    "train_val2.isnull().sum()"
   ]
  },
  {
   "cell_type": "code",
   "execution_count": 22,
   "id": "e95f513c-2581-45d9-a580-c8768ae8a73f",
   "metadata": {},
   "outputs": [],
   "source": [
    "colname = train_val2.columns"
   ]
  },
  {
   "cell_type": "code",
   "execution_count": 23,
   "id": "7a98ba48-8aee-4a86-9efd-db80474bba28",
   "metadata": {},
   "outputs": [
    {
     "data": {
      "text/plain": [
       "Index(['ZN', 'INDUS', 'CHAS', 'NOX', 'RM', 'AGE', 'DIS', 'RAD', 'TAX',\n",
       "       'PTRATIO', 'B', 'LSTAT', 'PRICE', 'low', 'very_low'],\n",
       "      dtype='object')"
      ]
     },
     "execution_count": 23,
     "metadata": {},
     "output_type": "execute_result"
    }
   ],
   "source": [
    "colname"
   ]
  },
  {
   "cell_type": "code",
   "execution_count": 24,
   "id": "975a6c5b-0771-4620-a997-3af38f53bffa",
   "metadata": {},
   "outputs": [
    {
     "data": {
      "image/png": "[encoded data removed]",
      "text/plain": [
       "<Figure size 432x288 with 1 Axes>"
      ]
     },
     "metadata": {
      "needs_background": "light"
     },
     "output_type": "display_data"
    },
    {
     "data": {
      "image/png": "[encoded data removed]",
      "text/plain": [
       "<Figure size 432x288 with 1 Axes>"
      ]
     },
     "metadata": {
      "needs_background": "light"
     },
     "output_type": "display_data"
    },
    {
     "data": {
      "image/png": "[encoded data removed]",
      "text/plain": [
       "<Figure size 432x288 with 1 Axes>"
      ]
     },
     "metadata": {
      "needs_background": "light"
     },
     "output_type": "display_data"
    },
    {
     "data": {
      "image/png": "[encoded data removed]",
      "text/plain": [
       "<Figure size 432x288 with 1 Axes>"
      ]
     },
     "metadata": {
      "needs_background": "light"
     },
     "output_type": "display_data"
    },
    {
     "data": {
      "image/png": "[encoded data removed]",
      "text/plain": [
       "<Figure size 432x288 with 1 Axes>"
      ]
     },
     "metadata": {
      "needs_background": "light"
     },
     "output_type": "display_data"
    },
    {
     "data": {
      "image/png": "[encoded data removed]",
      "text/plain": [
       "<Figure size 432x288 with 1 Axes>"
      ]
     },
     "metadata": {
      "needs_background": "light"
     },
     "output_type": "display_data"
    },
    {
     "data": {
      "image/png": "[encoded data removed]",
      "text/plain": [
       "<Figure size 432x288 with 1 Axes>"
      ]
     },
     "metadata": {
      "needs_background": "light"
     },
     "output_type": "display_data"
    },
    {
     "data": {
      "image/png": "[encoded data removed]",
      "text/plain": [
       "<Figure size 432x288 with 1 Axes>"
      ]
     },
     "metadata": {
      "needs_background": "light"
     },
     "output_type": "display_data"
    },
    {
     "data": {
      "image/png": "[encoded data removed]",
      "text/plain": [
       "<Figure size 432x288 with 1 Axes>"
      ]
     },
     "metadata": {
      "needs_background": "light"
     },
     "output_type": "display_data"
    },
    {
     "data": {
      "image/png": "[encoded data removed]",
      "text/plain": [
       "<Figure size 432x288 with 1 Axes>"
      ]
     },
     "metadata": {
      "needs_background": "light"
     },
     "output_type": "display_data"
    },
    {
     "data": {
      "image/png": "[encoded data removed]",
      "text/plain": [
       "<Figure size 432x288 with 1 Axes>"
      ]
     },
     "metadata": {
      "needs_background": "light"
     },
     "output_type": "display_data"
    },
    {
     "data": {
      "image/png": "[encoded data removed]",
      "text/plain": [
       "<Figure size 432x288 with 1 Axes>"
      ]
     },
     "metadata": {
      "needs_background": "light"
     },
     "output_type": "display_data"
    },
    {
     "data": {
      "image/png": "[encoded data removed]",
      "text/plain": [
       "<Figure size 432x288 with 1 Axes>"
      ]
     },
     "metadata": {
      "needs_background": "light"
     },
     "output_type": "display_data"
    },
    {
     "data": {
      "image/png": "[encoded data removed]",
      "text/plain": [
       "<Figure size 432x288 with 1 Axes>"
      ]
     },
     "metadata": {
      "needs_background": "light"
     },
     "output_type": "display_data"
    },
    {
     "data": {
      "image/png": "[encoded data removed]",
      "text/plain": [
       "<Figure size 432x288 with 1 Axes>"
      ]
     },
     "metadata": {
      "needs_background": "light"
     },
     "output_type": "display_data"
    }
   ],
   "source": [
    "for name in colname:\n",
    "    train_val2.plot(kind = \"scatter\", x= name, y = \"PRICE\")"
   ]
  },
  {
   "cell_type": "code",
   "execution_count": 27,
   "id": "b83d6b36-4839-4f18-8d07-f94304667da3",
   "metadata": {},
   "outputs": [],
   "source": [
    "outline1 = train_val2[(train_val2['RM'] < 6) & (train_val2['PRICE'] > 45)]"
   ]
  },
  {
   "cell_type": "code",
   "execution_count": 28,
   "id": "5054752b-a4c8-4dd1-b145-bc63c36d71ac",
   "metadata": {},
   "outputs": [
    {
     "data": {
      "text/html": [
       "<div>\n",
       "<style scoped>\n",
       "    .dataframe tbody tr th:only-of-type {\n",
       "        vertical-align: middle;\n",
       "    }\n",
       "\n",
       "    .dataframe tbody tr th {\n",
       "        vertical-align: top;\n",
       "    }\n",
       "\n",
       "    .dataframe thead th {\n",
       "        text-align: right;\n",
       "    }\n",
       "</style>\n",
       "<table border=\"1\" class=\"dataframe\">\n",
       "  <thead>\n",
       "    <tr style=\"text-align: right;\">\n",
       "      <th></th>\n",
       "      <th>ZN</th>\n",
       "      <th>INDUS</th>\n",
       "      <th>CHAS</th>\n",
       "      <th>NOX</th>\n",
       "      <th>RM</th>\n",
       "      <th>AGE</th>\n",
       "      <th>DIS</th>\n",
       "      <th>RAD</th>\n",
       "      <th>TAX</th>\n",
       "      <th>PTRATIO</th>\n",
       "      <th>B</th>\n",
       "      <th>LSTAT</th>\n",
       "      <th>PRICE</th>\n",
       "      <th>low</th>\n",
       "      <th>very_low</th>\n",
       "    </tr>\n",
       "  </thead>\n",
       "  <tbody>\n",
       "    <tr>\n",
       "      <th>76</th>\n",
       "      <td>0.0</td>\n",
       "      <td>18.1</td>\n",
       "      <td>0</td>\n",
       "      <td>0.631</td>\n",
       "      <td>4.97</td>\n",
       "      <td>100.0</td>\n",
       "      <td>1.3325</td>\n",
       "      <td>24.0</td>\n",
       "      <td>666</td>\n",
       "      <td>20.2</td>\n",
       "      <td>375.52</td>\n",
       "      <td>3.26</td>\n",
       "      <td>50.0</td>\n",
       "      <td>0</td>\n",
       "      <td>0</td>\n",
       "    </tr>\n",
       "  </tbody>\n",
       "</table>\n",
       "</div>"
      ],
      "text/plain": [
       "     ZN  INDUS  CHAS    NOX    RM    AGE     DIS   RAD  TAX  PTRATIO       B  \\\n",
       "76  0.0   18.1     0  0.631  4.97  100.0  1.3325  24.0  666     20.2  375.52   \n",
       "\n",
       "    LSTAT  PRICE  low  very_low  \n",
       "76   3.26   50.0    0         0  "
      ]
     },
     "execution_count": 28,
     "metadata": {},
     "output_type": "execute_result"
    }
   ],
   "source": [
    "outline1"
   ]
  },
  {
   "cell_type": "code",
   "execution_count": 29,
   "id": "ab833fcb-9129-4959-834c-d082827df602",
   "metadata": {},
   "outputs": [],
   "source": [
    "outline2 = train_val2[(train_val2['PTRATIO'] > 20) & (train_val2['PRICE'] > 40)]"
   ]
  },
  {
   "cell_type": "code",
   "execution_count": 30,
   "id": "cc151494-a2db-430e-a284-65b9d501a0a0",
   "metadata": {},
   "outputs": [
    {
     "data": {
      "text/html": [
       "<div>\n",
       "<style scoped>\n",
       "    .dataframe tbody tr th:only-of-type {\n",
       "        vertical-align: middle;\n",
       "    }\n",
       "\n",
       "    .dataframe tbody tr th {\n",
       "        vertical-align: top;\n",
       "    }\n",
       "\n",
       "    .dataframe thead th {\n",
       "        text-align: right;\n",
       "    }\n",
       "</style>\n",
       "<table border=\"1\" class=\"dataframe\">\n",
       "  <thead>\n",
       "    <tr style=\"text-align: right;\">\n",
       "      <th></th>\n",
       "      <th>ZN</th>\n",
       "      <th>INDUS</th>\n",
       "      <th>CHAS</th>\n",
       "      <th>NOX</th>\n",
       "      <th>RM</th>\n",
       "      <th>AGE</th>\n",
       "      <th>DIS</th>\n",
       "      <th>RAD</th>\n",
       "      <th>TAX</th>\n",
       "      <th>PTRATIO</th>\n",
       "      <th>B</th>\n",
       "      <th>LSTAT</th>\n",
       "      <th>PRICE</th>\n",
       "      <th>low</th>\n",
       "      <th>very_low</th>\n",
       "    </tr>\n",
       "  </thead>\n",
       "  <tbody>\n",
       "    <tr>\n",
       "      <th>76</th>\n",
       "      <td>0.0</td>\n",
       "      <td>18.1</td>\n",
       "      <td>0</td>\n",
       "      <td>0.631</td>\n",
       "      <td>4.97</td>\n",
       "      <td>100.0</td>\n",
       "      <td>1.3325</td>\n",
       "      <td>24.0</td>\n",
       "      <td>666</td>\n",
       "      <td>20.2</td>\n",
       "      <td>375.52</td>\n",
       "      <td>3.26</td>\n",
       "      <td>50.0</td>\n",
       "      <td>0</td>\n",
       "      <td>0</td>\n",
       "    </tr>\n",
       "  </tbody>\n",
       "</table>\n",
       "</div>"
      ],
      "text/plain": [
       "     ZN  INDUS  CHAS    NOX    RM    AGE     DIS   RAD  TAX  PTRATIO       B  \\\n",
       "76  0.0   18.1     0  0.631  4.97  100.0  1.3325  24.0  666     20.2  375.52   \n",
       "\n",
       "    LSTAT  PRICE  low  very_low  \n",
       "76   3.26   50.0    0         0  "
      ]
     },
     "execution_count": 30,
     "metadata": {},
     "output_type": "execute_result"
    }
   ],
   "source": [
    "outline2"
   ]
  },
  {
   "cell_type": "code",
   "execution_count": 31,
   "id": "8eb0f964-a2b0-4345-a764-7b6f58b15990",
   "metadata": {},
   "outputs": [],
   "source": [
    "train_val3 = train_val2.drop([76],axis = 0)"
   ]
  },
  {
   "cell_type": "code",
   "execution_count": 32,
   "id": "47c60af3-7e9e-4abc-8c3e-03e37dc56114",
   "metadata": {},
   "outputs": [],
   "source": [
    "col = ['INDUS','NOX','RM','PTRATIO','LSTAT','PRICE']"
   ]
  },
  {
   "cell_type": "code",
   "execution_count": 33,
   "id": "4e559d46-6c86-4147-afbd-67176aebfb9e",
   "metadata": {},
   "outputs": [],
   "source": [
    "train_val4 = train_val3[col]"
   ]
  },
  {
   "cell_type": "code",
   "execution_count": 34,
   "id": "a9fb0f16-0ec4-454b-8974-0a3df0a1cda6",
   "metadata": {},
   "outputs": [
    {
     "data": {
      "text/html": [
       "<div>\n",
       "<style scoped>\n",
       "    .dataframe tbody tr th:only-of-type {\n",
       "        vertical-align: middle;\n",
       "    }\n",
       "\n",
       "    .dataframe tbody tr th {\n",
       "        vertical-align: top;\n",
       "    }\n",
       "\n",
       "    .dataframe thead th {\n",
       "        text-align: right;\n",
       "    }\n",
       "</style>\n",
       "<table border=\"1\" class=\"dataframe\">\n",
       "  <thead>\n",
       "    <tr style=\"text-align: right;\">\n",
       "      <th></th>\n",
       "      <th>INDUS</th>\n",
       "      <th>NOX</th>\n",
       "      <th>RM</th>\n",
       "      <th>PTRATIO</th>\n",
       "      <th>LSTAT</th>\n",
       "      <th>PRICE</th>\n",
       "    </tr>\n",
       "  </thead>\n",
       "  <tbody>\n",
       "    <tr>\n",
       "      <th>67</th>\n",
       "      <td>5.19</td>\n",
       "      <td>0.515</td>\n",
       "      <td>6.310</td>\n",
       "      <td>20.2</td>\n",
       "      <td>6.75</td>\n",
       "      <td>20.7</td>\n",
       "    </tr>\n",
       "    <tr>\n",
       "      <th>73</th>\n",
       "      <td>3.78</td>\n",
       "      <td>0.484</td>\n",
       "      <td>6.874</td>\n",
       "      <td>17.6</td>\n",
       "      <td>4.61</td>\n",
       "      <td>31.2</td>\n",
       "    </tr>\n",
       "    <tr>\n",
       "      <th>39</th>\n",
       "      <td>6.91</td>\n",
       "      <td>0.448</td>\n",
       "      <td>5.602</td>\n",
       "      <td>17.9</td>\n",
       "      <td>16.20</td>\n",
       "      <td>19.4</td>\n",
       "    </tr>\n",
       "    <tr>\n",
       "      <th>70</th>\n",
       "      <td>10.59</td>\n",
       "      <td>0.489</td>\n",
       "      <td>5.412</td>\n",
       "      <td>18.6</td>\n",
       "      <td>29.55</td>\n",
       "      <td>23.7</td>\n",
       "    </tr>\n",
       "    <tr>\n",
       "      <th>75</th>\n",
       "      <td>3.24</td>\n",
       "      <td>0.460</td>\n",
       "      <td>6.333</td>\n",
       "      <td>16.9</td>\n",
       "      <td>7.34</td>\n",
       "      <td>22.6</td>\n",
       "    </tr>\n",
       "    <tr>\n",
       "      <th>...</th>\n",
       "      <td>...</td>\n",
       "      <td>...</td>\n",
       "      <td>...</td>\n",
       "      <td>...</td>\n",
       "      <td>...</td>\n",
       "      <td>...</td>\n",
       "    </tr>\n",
       "    <tr>\n",
       "      <th>40</th>\n",
       "      <td>3.97</td>\n",
       "      <td>0.575</td>\n",
       "      <td>7.470</td>\n",
       "      <td>13.0</td>\n",
       "      <td>3.16</td>\n",
       "      <td>43.5</td>\n",
       "    </tr>\n",
       "    <tr>\n",
       "      <th>2</th>\n",
       "      <td>2.03</td>\n",
       "      <td>0.415</td>\n",
       "      <td>6.162</td>\n",
       "      <td>14.7</td>\n",
       "      <td>7.43</td>\n",
       "      <td>24.1</td>\n",
       "    </tr>\n",
       "    <tr>\n",
       "      <th>32</th>\n",
       "      <td>4.05</td>\n",
       "      <td>0.510</td>\n",
       "      <td>6.546</td>\n",
       "      <td>16.6</td>\n",
       "      <td>5.33</td>\n",
       "      <td>29.4</td>\n",
       "    </tr>\n",
       "    <tr>\n",
       "      <th>31</th>\n",
       "      <td>6.07</td>\n",
       "      <td>0.409</td>\n",
       "      <td>5.594</td>\n",
       "      <td>18.9</td>\n",
       "      <td>13.09</td>\n",
       "      <td>17.4</td>\n",
       "    </tr>\n",
       "    <tr>\n",
       "      <th>14</th>\n",
       "      <td>5.86</td>\n",
       "      <td>0.431</td>\n",
       "      <td>6.226</td>\n",
       "      <td>19.1</td>\n",
       "      <td>10.15</td>\n",
       "      <td>20.5</td>\n",
       "    </tr>\n",
       "  </tbody>\n",
       "</table>\n",
       "<p>79 rows × 6 columns</p>\n",
       "</div>"
      ],
      "text/plain": [
       "    INDUS    NOX     RM  PTRATIO  LSTAT  PRICE\n",
       "67   5.19  0.515  6.310     20.2   6.75   20.7\n",
       "73   3.78  0.484  6.874     17.6   4.61   31.2\n",
       "39   6.91  0.448  5.602     17.9  16.20   19.4\n",
       "70  10.59  0.489  5.412     18.6  29.55   23.7\n",
       "75   3.24  0.460  6.333     16.9   7.34   22.6\n",
       "..    ...    ...    ...      ...    ...    ...\n",
       "40   3.97  0.575  7.470     13.0   3.16   43.5\n",
       "2    2.03  0.415  6.162     14.7   7.43   24.1\n",
       "32   4.05  0.510  6.546     16.6   5.33   29.4\n",
       "31   6.07  0.409  5.594     18.9  13.09   17.4\n",
       "14   5.86  0.431  6.226     19.1  10.15   20.5\n",
       "\n",
       "[79 rows x 6 columns]"
      ]
     },
     "execution_count": 34,
     "metadata": {},
     "output_type": "execute_result"
    }
   ],
   "source": [
    "train_val4"
   ]
  },
  {
   "cell_type": "code",
   "execution_count": 35,
   "id": "97b13aef-9e8f-46bf-b061-6ec0b78ff85e",
   "metadata": {},
   "outputs": [
    {
     "data": {
      "text/html": [
       "<div>\n",
       "<style scoped>\n",
       "    .dataframe tbody tr th:only-of-type {\n",
       "        vertical-align: middle;\n",
       "    }\n",
       "\n",
       "    .dataframe tbody tr th {\n",
       "        vertical-align: top;\n",
       "    }\n",
       "\n",
       "    .dataframe thead th {\n",
       "        text-align: right;\n",
       "    }\n",
       "</style>\n",
       "<table border=\"1\" class=\"dataframe\">\n",
       "  <thead>\n",
       "    <tr style=\"text-align: right;\">\n",
       "      <th></th>\n",
       "      <th>INDUS</th>\n",
       "      <th>NOX</th>\n",
       "      <th>RM</th>\n",
       "      <th>PTRATIO</th>\n",
       "      <th>LSTAT</th>\n",
       "      <th>PRICE</th>\n",
       "    </tr>\n",
       "  </thead>\n",
       "  <tbody>\n",
       "    <tr>\n",
       "      <th>INDUS</th>\n",
       "      <td>1.000000</td>\n",
       "      <td>0.771792</td>\n",
       "      <td>-0.371214</td>\n",
       "      <td>0.231753</td>\n",
       "      <td>0.583856</td>\n",
       "      <td>-0.434708</td>\n",
       "    </tr>\n",
       "    <tr>\n",
       "      <th>NOX</th>\n",
       "      <td>0.771792</td>\n",
       "      <td>1.000000</td>\n",
       "      <td>-0.194526</td>\n",
       "      <td>-0.000650</td>\n",
       "      <td>0.494793</td>\n",
       "      <td>-0.275908</td>\n",
       "    </tr>\n",
       "    <tr>\n",
       "      <th>RM</th>\n",
       "      <td>-0.371214</td>\n",
       "      <td>-0.194526</td>\n",
       "      <td>1.000000</td>\n",
       "      <td>-0.331290</td>\n",
       "      <td>-0.660680</td>\n",
       "      <td>0.840804</td>\n",
       "    </tr>\n",
       "    <tr>\n",
       "      <th>PTRATIO</th>\n",
       "      <td>0.231753</td>\n",
       "      <td>-0.000650</td>\n",
       "      <td>-0.331290</td>\n",
       "      <td>1.000000</td>\n",
       "      <td>0.235613</td>\n",
       "      <td>-0.512342</td>\n",
       "    </tr>\n",
       "    <tr>\n",
       "      <th>LSTAT</th>\n",
       "      <td>0.583856</td>\n",
       "      <td>0.494793</td>\n",
       "      <td>-0.660680</td>\n",
       "      <td>0.235613</td>\n",
       "      <td>1.000000</td>\n",
       "      <td>-0.641395</td>\n",
       "    </tr>\n",
       "    <tr>\n",
       "      <th>PRICE</th>\n",
       "      <td>-0.434708</td>\n",
       "      <td>-0.275908</td>\n",
       "      <td>0.840804</td>\n",
       "      <td>-0.512342</td>\n",
       "      <td>-0.641395</td>\n",
       "      <td>1.000000</td>\n",
       "    </tr>\n",
       "  </tbody>\n",
       "</table>\n",
       "</div>"
      ],
      "text/plain": [
       "            INDUS       NOX        RM   PTRATIO     LSTAT     PRICE\n",
       "INDUS    1.000000  0.771792 -0.371214  0.231753  0.583856 -0.434708\n",
       "NOX      0.771792  1.000000 -0.194526 -0.000650  0.494793 -0.275908\n",
       "RM      -0.371214 -0.194526  1.000000 -0.331290 -0.660680  0.840804\n",
       "PTRATIO  0.231753 -0.000650 -0.331290  1.000000  0.235613 -0.512342\n",
       "LSTAT    0.583856  0.494793 -0.660680  0.235613  1.000000 -0.641395\n",
       "PRICE   -0.434708 -0.275908  0.840804 -0.512342 -0.641395  1.000000"
      ]
     },
     "execution_count": 35,
     "metadata": {},
     "output_type": "execute_result"
    }
   ],
   "source": [
    "train_val4.corr()"
   ]
  },
  {
   "cell_type": "code",
   "execution_count": 36,
   "id": "79ffbca7-5e3b-4f67-832c-f9a3caf55171",
   "metadata": {},
   "outputs": [
    {
     "data": {
      "text/plain": [
       "INDUS     -0.434708\n",
       "NOX       -0.275908\n",
       "RM         0.840804\n",
       "PTRATIO   -0.512342\n",
       "LSTAT     -0.641395\n",
       "PRICE      1.000000\n",
       "Name: PRICE, dtype: float64"
      ]
     },
     "execution_count": 36,
     "metadata": {},
     "output_type": "execute_result"
    }
   ],
   "source": [
    "train_val4.corr()['PRICE']"
   ]
  },
  {
   "cell_type": "code",
   "execution_count": 37,
   "id": "2d5d39d4-8ffd-4181-8013-c07d228f763e",
   "metadata": {},
   "outputs": [],
   "source": [
    "se = pd.Series([1,-2,3,-4])"
   ]
  },
  {
   "cell_type": "code",
   "execution_count": 38,
   "id": "fbaec818-d11c-4407-8b45-27f9fa3595fa",
   "metadata": {},
   "outputs": [
    {
     "data": {
      "text/plain": [
       "0    1\n",
       "1    2\n",
       "2    3\n",
       "3    4\n",
       "dtype: int64"
      ]
     },
     "execution_count": 38,
     "metadata": {},
     "output_type": "execute_result"
    }
   ],
   "source": [
    "se.map(abs)"
   ]
  },
  {
   "cell_type": "code",
   "execution_count": 39,
   "id": "ffef75f6-2d30-4e1a-a571-d548a3917f00",
   "metadata": {},
   "outputs": [
    {
     "data": {
      "text/plain": [
       "pandas.core.series.Series"
      ]
     },
     "execution_count": 39,
     "metadata": {},
     "output_type": "execute_result"
    }
   ],
   "source": [
    "tmp = se.map(abs)\n",
    "type(tmp)"
   ]
  },
  {
   "cell_type": "code",
   "execution_count": 40,
   "id": "bb2dd463-a02d-4f22-8dbf-73a035e32f47",
   "metadata": {},
   "outputs": [],
   "source": [
    "train_cor = train_val4.corr()['PRICE']"
   ]
  },
  {
   "cell_type": "code",
   "execution_count": 41,
   "id": "0569412c-1398-4a20-a3f5-f78a7f490c32",
   "metadata": {},
   "outputs": [
    {
     "data": {
      "text/plain": [
       "INDUS     -0.434708\n",
       "NOX       -0.275908\n",
       "RM         0.840804\n",
       "PTRATIO   -0.512342\n",
       "LSTAT     -0.641395\n",
       "PRICE      1.000000\n",
       "Name: PRICE, dtype: float64"
      ]
     },
     "execution_count": 41,
     "metadata": {},
     "output_type": "execute_result"
    }
   ],
   "source": [
    "train_cor"
   ]
  },
  {
   "cell_type": "code",
   "execution_count": 42,
   "id": "472f4af7-dabe-44c3-9b5c-24e4d334c5e9",
   "metadata": {},
   "outputs": [],
   "source": [
    "abs_cor = train_cor.map(abs)"
   ]
  },
  {
   "cell_type": "code",
   "execution_count": 43,
   "id": "c69f06bf-f4d8-4081-a284-cd8341bc5e11",
   "metadata": {},
   "outputs": [
    {
     "data": {
      "text/plain": [
       "INDUS      0.434708\n",
       "NOX        0.275908\n",
       "RM         0.840804\n",
       "PTRATIO    0.512342\n",
       "LSTAT      0.641395\n",
       "PRICE      1.000000\n",
       "Name: PRICE, dtype: float64"
      ]
     },
     "execution_count": 43,
     "metadata": {},
     "output_type": "execute_result"
    }
   ],
   "source": [
    "abs_cor"
   ]
  },
  {
   "cell_type": "code",
   "execution_count": 45,
   "id": "9006ee52-cde6-4729-8567-a04ceb351e78",
   "metadata": {},
   "outputs": [
    {
     "data": {
      "text/plain": [
       "PRICE      1.000000\n",
       "RM         0.840804\n",
       "LSTAT      0.641395\n",
       "PTRATIO    0.512342\n",
       "INDUS      0.434708\n",
       "NOX        0.275908\n",
       "Name: PRICE, dtype: float64"
      ]
     },
     "execution_count": 45,
     "metadata": {},
     "output_type": "execute_result"
    }
   ],
   "source": [
    "abs_cor.sort_values(ascending = False)"
   ]
  },
  {
   "cell_type": "code",
   "execution_count": 46,
   "id": "ebe48937-fce4-4ffc-a2bc-9ca39193633c",
   "metadata": {},
   "outputs": [],
   "source": [
    "col = ['RM','LSTAT','PTRATIO']"
   ]
  },
  {
   "cell_type": "code",
   "execution_count": 47,
   "id": "74a7227f-b9cd-4801-99cb-a8894436cd51",
   "metadata": {},
   "outputs": [],
   "source": [
    "x = train_val4[col]"
   ]
  },
  {
   "cell_type": "code",
   "execution_count": 49,
   "id": "cbb926d4-00d6-408d-8967-d00261494b37",
   "metadata": {},
   "outputs": [],
   "source": [
    "t = train_val4['PRICE']"
   ]
  },
  {
   "cell_type": "code",
   "execution_count": 50,
   "id": "e1f00e52-faa2-42e0-b8f3-850d72aa6d86",
   "metadata": {},
   "outputs": [],
   "source": [
    "x_train,x_val,y_train,y_val = train_test_split(x,t,test_size = 0.2,random_state = 0)"
   ]
  },
  {
   "cell_type": "code",
   "execution_count": 52,
   "id": "a3a4a37f-e8ee-4e5b-a53c-bd02db408a11",
   "metadata": {},
   "outputs": [],
   "source": [
    "from sklearn.preprocessing import StandardScaler"
   ]
  },
  {
   "cell_type": "code",
   "execution_count": 53,
   "id": "a2a31a33-df56-4f15-93cb-50489bc9de3f",
   "metadata": {},
   "outputs": [],
   "source": [
    "sc_model_x = StandardScaler()"
   ]
  },
  {
   "cell_type": "code",
   "execution_count": 54,
   "id": "373c6709-db37-4d22-a442-cd5abed194b6",
   "metadata": {},
   "outputs": [
    {
     "data": {
      "text/plain": [
       "StandardScaler()"
      ]
     },
     "execution_count": 54,
     "metadata": {},
     "output_type": "execute_result"
    }
   ],
   "source": [
    "sc_model_x.fit(x_train) #列ごとの平均値や標準偏差をオブジェクトの要素として取得"
   ]
  },
  {
   "cell_type": "code",
   "execution_count": 58,
   "id": "851253aa-6dab-444d-b629-0b3bfc97fab3",
   "metadata": {},
   "outputs": [
    {
     "data": {
      "text/plain": [
       "sklearn.preprocessing._data.StandardScaler"
      ]
     },
     "execution_count": 58,
     "metadata": {},
     "output_type": "execute_result"
    }
   ],
   "source": [
    "type(sc_model_x)"
   ]
  },
  {
   "cell_type": "code",
   "execution_count": 56,
   "id": "4457faae-6bd8-4cf1-9203-1804b81db9ed",
   "metadata": {},
   "outputs": [],
   "source": [
    "sc_x = sc_model_x.transform(x_train) #fitの結果を使って標準化を行う"
   ]
  },
  {
   "cell_type": "code",
   "execution_count": 57,
   "id": "790c08ed-0207-4992-864b-f57107b4e6ea",
   "metadata": {},
   "outputs": [
    {
     "data": {
      "text/plain": [
       "array([[-1.25312059e+00,  2.43756045e+00,  6.35807940e-02],\n",
       "       [-4.00639061e-01,  1.46757725e-01, -9.24098937e-01],\n",
       "       [-2.31999339e-01,  8.84205133e-02,  1.38048710e+00],\n",
       "       [-1.76301816e-01, -8.32169153e-01, -1.14358332e+00],\n",
       "       [-1.16648000e+00,  1.99220563e+00, -2.07639196e+00],\n",
       "       [-1.76301816e-01, -4.63648714e-01,  3.37936275e-01],\n",
       "       [-2.96979782e-01,  9.07987202e-01, -3.20516879e-01],\n",
       "       [ 6.26228764e-03, -3.22785690e-01,  3.37936275e-01],\n",
       "       [ 4.99804228e-01, -1.01429508e+00,  9.41518332e-01],\n",
       "       [-1.68566049e-01,  4.43118894e-02, -4.61613984e-02],\n",
       "       [ 2.47242484e+00, -1.25902680e+00, -2.65645783e-01],\n",
       "       [-1.69450136e-02, -7.08380434e-01, -3.20516879e-01],\n",
       "       [-3.95997601e-01, -3.25631408e-01,  3.92807371e-01],\n",
       "       [-2.00393205e-02, -7.51066199e-01, -1.03384113e+00],\n",
       "       [ 6.81484243e-02, -6.42928928e-01, -4.61613984e-02],\n",
       "       [ 1.71807703e-01, -7.22609022e-01, -8.69227841e-01],\n",
       "       [ 2.92485670e-01,  3.70146562e-01,  9.41518332e-01],\n",
       "       [ 4.68861159e-01,  8.12655660e-01,  9.41518332e-01],\n",
       "       [-4.76449579e-01,  8.41112837e-01, -4.61613984e-02],\n",
       "       [ 6.31312268e-01, -1.09824375e+00,  3.92807371e-01],\n",
       "       [-1.08602803e+00,  1.72755389e+00,  9.41518332e-01],\n",
       "       [ 3.62107574e-01, -8.09403411e-01,  6.67162852e-01],\n",
       "       [ 2.36788147e-01, -4.32345820e-01,  6.35807940e-02],\n",
       "       [-9.49878524e-01, -4.10596406e-02,  9.41518332e-01],\n",
       "       [-5.18222721e-01,  5.59386787e-01,  9.41518332e-01],\n",
       "       [ 3.13305934e+00, -1.20495817e+00, -5.94872360e-01],\n",
       "       [ 1.00881770e+00, -1.11104948e+00, -4.85130168e-01],\n",
       "       [-2.14980651e-01,  5.28490424e-02,  6.12291756e-01],\n",
       "       [-1.26549782e+00,  1.22569125e-01, -2.07639196e+00],\n",
       "       [ 1.13723144e+00, -1.26471824e+00,  3.37936275e-01],\n",
       "       [-7.98257489e-01,  1.62612438e-03, -8.69227841e-01],\n",
       "       [-1.42021316e+00,  2.02350853e+00,  9.41518332e-01],\n",
       "       [-9.42142757e-01,  2.11172578e+00,  3.37936275e-01],\n",
       "       [-4.20752056e-01,  2.17575442e+00,  1.38048710e+00],\n",
       "       [ 3.69843341e-01,  8.01272789e-01,  9.41518332e-01],\n",
       "       [ 2.48944352e+00, -1.13381523e+00, -3.75387975e-01],\n",
       "       [ 1.36223175e-01, -8.06557694e-01,  9.41518332e-01],\n",
       "       [-9.71538672e-01,  9.55348075e-02,  2.28194082e-01],\n",
       "       [-5.36788562e-01,  2.86197891e-01, -2.07639196e+00],\n",
       "       [-1.26549782e+00,  1.64502808e+00,  6.35807940e-02],\n",
       "       [ 9.34554338e-01, -1.17507813e+00, -4.85130168e-01],\n",
       "       [ 3.84010846e+00, -1.03848368e+00, -3.00920059e+00],\n",
       "       [-3.97544754e-01,  2.00826361e-01,  1.38048710e+00],\n",
       "       [-3.10904163e-01, -3.01442807e-01, -3.75387975e-01],\n",
       "       [-2.10339191e-01, -2.18916995e-01, -5.94872360e-01],\n",
       "       [ 4.18468162e-02, -2.60179901e-01, -1.55903591e-01],\n",
       "       [ 4.88974154e-01, -6.67117528e-01,  6.35807940e-02],\n",
       "       [-5.89391778e-01, -1.43505477e-01,  3.92807371e-01],\n",
       "       [-5.75467397e-01, -5.19140209e-01,  3.92807371e-01],\n",
       "       [-2.96979782e-01, -6.45774645e-01,  1.38048710e+00],\n",
       "       [-1.60277727e+00,  2.26254881e+00, -2.07639196e+00],\n",
       "       [ 3.10167423e-02, -2.38837019e-01,  9.41518332e-01],\n",
       "       [ 6.23576501e-01, -8.20786282e-01, -2.65645783e-01],\n",
       "       [-1.94867657e-01, -3.07134243e-01,  1.38048710e+00],\n",
       "       [-1.06679912e-01,  1.04071960e-01, -3.75387975e-01],\n",
       "       [-5.64637323e-01,  1.26654763e+00,  1.49022929e+00],\n",
       "       [ 3.00221437e-01, -4.80723020e-01, -1.03384113e+00],\n",
       "       [ 2.81655596e-01,  1.12283889e+00,  9.41518332e-01],\n",
       "       [-9.27555311e-02, -7.09803293e-01, -2.07639196e+00],\n",
       "       [ 9.77874634e-01, -1.34297547e+00, -4.85130168e-01],\n",
       "       [ 2.58448295e-01, -3.98197208e-01,  8.70969780e-03],\n",
       "       [ 7.89784983e-02, -8.02289117e-01,  1.18451890e-01],\n",
       "       [-1.22991329e+00,  8.14078519e-01,  9.41518332e-01]])"
      ]
     },
     "execution_count": 57,
     "metadata": {},
     "output_type": "execute_result"
    }
   ],
   "source": [
    "sc_x"
   ]
  },
  {
   "cell_type": "code",
   "execution_count": 60,
   "id": "f8a23343-7940-4412-ad67-ced981439504",
   "metadata": {},
   "outputs": [],
   "source": [
    "tmp_df = pd.DataFrame(sc_x,columns = x_train.columns)"
   ]
  },
  {
   "cell_type": "code",
   "execution_count": 61,
   "id": "179c7b65-2bb4-4296-80af-4e281abd1967",
   "metadata": {},
   "outputs": [
    {
     "data": {
      "text/html": [
       "<div>\n",
       "<style scoped>\n",
       "    .dataframe tbody tr th:only-of-type {\n",
       "        vertical-align: middle;\n",
       "    }\n",
       "\n",
       "    .dataframe tbody tr th {\n",
       "        vertical-align: top;\n",
       "    }\n",
       "\n",
       "    .dataframe thead th {\n",
       "        text-align: right;\n",
       "    }\n",
       "</style>\n",
       "<table border=\"1\" class=\"dataframe\">\n",
       "  <thead>\n",
       "    <tr style=\"text-align: right;\">\n",
       "      <th></th>\n",
       "      <th>RM</th>\n",
       "      <th>LSTAT</th>\n",
       "      <th>PTRATIO</th>\n",
       "    </tr>\n",
       "  </thead>\n",
       "  <tbody>\n",
       "    <tr>\n",
       "      <th>0</th>\n",
       "      <td>-1.253121</td>\n",
       "      <td>2.437560</td>\n",
       "      <td>0.063581</td>\n",
       "    </tr>\n",
       "    <tr>\n",
       "      <th>1</th>\n",
       "      <td>-0.400639</td>\n",
       "      <td>0.146758</td>\n",
       "      <td>-0.924099</td>\n",
       "    </tr>\n",
       "    <tr>\n",
       "      <th>2</th>\n",
       "      <td>-0.231999</td>\n",
       "      <td>0.088421</td>\n",
       "      <td>1.380487</td>\n",
       "    </tr>\n",
       "    <tr>\n",
       "      <th>3</th>\n",
       "      <td>-0.176302</td>\n",
       "      <td>-0.832169</td>\n",
       "      <td>-1.143583</td>\n",
       "    </tr>\n",
       "    <tr>\n",
       "      <th>4</th>\n",
       "      <td>-1.166480</td>\n",
       "      <td>1.992206</td>\n",
       "      <td>-2.076392</td>\n",
       "    </tr>\n",
       "  </tbody>\n",
       "</table>\n",
       "</div>"
      ],
      "text/plain": [
       "         RM     LSTAT   PTRATIO\n",
       "0 -1.253121  2.437560  0.063581\n",
       "1 -0.400639  0.146758 -0.924099\n",
       "2 -0.231999  0.088421  1.380487\n",
       "3 -0.176302 -0.832169 -1.143583\n",
       "4 -1.166480  1.992206 -2.076392"
      ]
     },
     "execution_count": 61,
     "metadata": {},
     "output_type": "execute_result"
    }
   ],
   "source": [
    "tmp_df.head()"
   ]
  },
  {
   "cell_type": "code",
   "execution_count": 62,
   "id": "75c9cef4-a69d-4cf7-9255-17be27707f60",
   "metadata": {},
   "outputs": [
    {
     "data": {
      "text/plain": [
       "RM         1.008032\n",
       "LSTAT      1.008032\n",
       "PTRATIO    1.008032\n",
       "dtype: float64"
      ]
     },
     "execution_count": 62,
     "metadata": {},
     "output_type": "execute_result"
    }
   ],
   "source": [
    "tmp_df.std()"
   ]
  },
  {
   "cell_type": "code",
   "execution_count": 63,
   "id": "237163a2-850c-401d-8fa5-db8ad5baf875",
   "metadata": {},
   "outputs": [
    {
     "data": {
      "text/plain": [
       "RM         4.687608e-16\n",
       "LSTAT      2.026598e-16\n",
       "PTRATIO   -1.233581e-16\n",
       "dtype: float64"
      ]
     },
     "execution_count": 63,
     "metadata": {},
     "output_type": "execute_result"
    }
   ],
   "source": [
    "tmp_df.mean()"
   ]
  },
  {
   "cell_type": "code",
   "execution_count": 64,
   "id": "0fa12aec-7c2d-4fc3-9de1-fc8be18678ff",
   "metadata": {},
   "outputs": [],
   "source": [
    "sc_model_y = StandardScaler()"
   ]
  },
  {
   "cell_type": "code",
   "execution_count": 68,
   "id": "362208e4-f198-4a6b-a8c3-984fd614297c",
   "metadata": {},
   "outputs": [
    {
     "data": {
      "text/plain": [
       "StandardScaler()"
      ]
     },
     "execution_count": 68,
     "metadata": {},
     "output_type": "execute_result"
    }
   ],
   "source": [
    "sc_model_y.fit(y_train.values.reshape(-1,1))"
   ]
  },
  {
   "cell_type": "code",
   "execution_count": 66,
   "id": "b36b7a5a-d324-4d43-b5cf-5ae66ca4ec91",
   "metadata": {},
   "outputs": [
    {
     "data": {
      "text/plain": [
       "70    23.7\n",
       "45    19.7\n",
       "19    14.5\n",
       "71    21.9\n",
       "28    15.6\n",
       "      ... \n",
       "2     24.1\n",
       "53    32.0\n",
       "94    23.9\n",
       "26    24.1\n",
       "65    13.8\n",
       "Name: PRICE, Length: 63, dtype: float64"
      ]
     },
     "execution_count": 66,
     "metadata": {},
     "output_type": "execute_result"
    }
   ],
   "source": [
    "y_train"
   ]
  },
  {
   "cell_type": "code",
   "execution_count": 67,
   "id": "d8aa0538-1a40-4d0f-9b83-e5069b1c9329",
   "metadata": {},
   "outputs": [
    {
     "data": {
      "text/plain": [
       "pandas.core.series.Series"
      ]
     },
     "execution_count": 67,
     "metadata": {},
     "output_type": "execute_result"
    }
   ],
   "source": [
    "type(y_train)"
   ]
  },
  {
   "cell_type": "code",
   "execution_count": 79,
   "id": "8cf317df-b7c5-486b-beb4-ef6a3bb3b970",
   "metadata": {},
   "outputs": [],
   "source": [
    "sc_y = sc_model_y.transform(y_train.values.reshape(-1,1))"
   ]
  },
  {
   "cell_type": "code",
   "execution_count": 80,
   "id": "c4b856de-d026-48c7-b212-68a58f583dd5",
   "metadata": {},
   "outputs": [
    {
     "data": {
      "text/plain": [
       "array([[ 0.15458081],\n",
       "       [-0.31082379],\n",
       "       [-0.91584977],\n",
       "       [-0.05485126],\n",
       "       [-0.78786351],\n",
       "       [ 0.22439151],\n",
       "       [-0.67151236],\n",
       "       [-0.21774287],\n",
       "       [-0.05485126],\n",
       "       [-0.15956729],\n",
       "       [ 2.49323895],\n",
       "       [ 0.27093197],\n",
       "       [ 0.27093197],\n",
       "       [ 0.09640524],\n",
       "       [-0.0897566 ],\n",
       "       [ 0.02659455],\n",
       "       [-0.65987724],\n",
       "       [-0.96239023],\n",
       "       [-0.53189098],\n",
       "       [ 0.64325565],\n",
       "       [-1.1718223 ],\n",
       "       [-0.01994591],\n",
       "       [ 0.66652588],\n",
       "       [ 0.64325565],\n",
       "       [-1.12528184],\n",
       "       [ 3.01681912],\n",
       "       [ 1.02721445],\n",
       "       [-0.01994591],\n",
       "       [-0.3224589 ],\n",
       "       [ 0.8410526 ],\n",
       "       [-0.61333678],\n",
       "       [-1.39288949],\n",
       "       [-0.77622839],\n",
       "       [-1.06710627],\n",
       "       [-1.48597041],\n",
       "       [ 3.21461608],\n",
       "       [-0.19447264],\n",
       "       [-0.57843144],\n",
       "       [-0.57843144],\n",
       "       [-0.35736425],\n",
       "       [ 1.24828163],\n",
       "       [ 3.21461608],\n",
       "       [-0.3224589 ],\n",
       "       [-0.36899936],\n",
       "       [ 0.18948616],\n",
       "       [-0.20610775],\n",
       "       [ 0.23602662],\n",
       "       [-0.27591844],\n",
       "       [-0.15956729],\n",
       "       [-1.21836276],\n",
       "       [-0.53189098],\n",
       "       [ 0.07313501],\n",
       "       [ 0.70143122],\n",
       "       [-0.48535051],\n",
       "       [ 0.8410526 ],\n",
       "       [-1.05547115],\n",
       "       [ 0.1429457 ],\n",
       "       [-1.19509253],\n",
       "       [ 0.20112127],\n",
       "       [ 1.12029537],\n",
       "       [ 0.17785104],\n",
       "       [ 0.20112127],\n",
       "       [-0.99729558]])"
      ]
     },
     "execution_count": 80,
     "metadata": {},
     "output_type": "execute_result"
    }
   ],
   "source": [
    "sc_y"
   ]
  },
  {
   "cell_type": "code",
   "execution_count": 77,
   "id": "7df72eba-73d6-4fb0-a952-261bc75eaba4",
   "metadata": {},
   "outputs": [],
   "source": [
    "sc_y = pd.DataFrame(sc_y)"
   ]
  },
  {
   "cell_type": "code",
   "execution_count": 78,
   "id": "c6cb3e4f-c2ba-48f5-8e37-5dce10776d1d",
   "metadata": {},
   "outputs": [
    {
     "data": {
      "text/html": [
       "<div>\n",
       "<style scoped>\n",
       "    .dataframe tbody tr th:only-of-type {\n",
       "        vertical-align: middle;\n",
       "    }\n",
       "\n",
       "    .dataframe tbody tr th {\n",
       "        vertical-align: top;\n",
       "    }\n",
       "\n",
       "    .dataframe thead th {\n",
       "        text-align: right;\n",
       "    }\n",
       "</style>\n",
       "<table border=\"1\" class=\"dataframe\">\n",
       "  <thead>\n",
       "    <tr style=\"text-align: right;\">\n",
       "      <th></th>\n",
       "      <th>PRICE</th>\n",
       "    </tr>\n",
       "  </thead>\n",
       "  <tbody>\n",
       "    <tr>\n",
       "      <th>0</th>\n",
       "      <td>NaN</td>\n",
       "    </tr>\n",
       "    <tr>\n",
       "      <th>1</th>\n",
       "      <td>NaN</td>\n",
       "    </tr>\n",
       "    <tr>\n",
       "      <th>2</th>\n",
       "      <td>NaN</td>\n",
       "    </tr>\n",
       "    <tr>\n",
       "      <th>3</th>\n",
       "      <td>NaN</td>\n",
       "    </tr>\n",
       "    <tr>\n",
       "      <th>4</th>\n",
       "      <td>NaN</td>\n",
       "    </tr>\n",
       "    <tr>\n",
       "      <th>...</th>\n",
       "      <td>...</td>\n",
       "    </tr>\n",
       "    <tr>\n",
       "      <th>58</th>\n",
       "      <td>NaN</td>\n",
       "    </tr>\n",
       "    <tr>\n",
       "      <th>59</th>\n",
       "      <td>NaN</td>\n",
       "    </tr>\n",
       "    <tr>\n",
       "      <th>60</th>\n",
       "      <td>NaN</td>\n",
       "    </tr>\n",
       "    <tr>\n",
       "      <th>61</th>\n",
       "      <td>NaN</td>\n",
       "    </tr>\n",
       "    <tr>\n",
       "      <th>62</th>\n",
       "      <td>NaN</td>\n",
       "    </tr>\n",
       "  </tbody>\n",
       "</table>\n",
       "<p>63 rows × 1 columns</p>\n",
       "</div>"
      ],
      "text/plain": [
       "    PRICE\n",
       "0     NaN\n",
       "1     NaN\n",
       "2     NaN\n",
       "3     NaN\n",
       "4     NaN\n",
       "..    ...\n",
       "58    NaN\n",
       "59    NaN\n",
       "60    NaN\n",
       "61    NaN\n",
       "62    NaN\n",
       "\n",
       "[63 rows x 1 columns]"
      ]
     },
     "execution_count": 78,
     "metadata": {},
     "output_type": "execute_result"
    }
   ],
   "source": [
    "sc_y"
   ]
  },
  {
   "cell_type": "code",
   "execution_count": 81,
   "id": "67d28e6b-deef-441f-b877-1f5b502f6aac",
   "metadata": {},
   "outputs": [
    {
     "data": {
      "text/html": [
       "<div>\n",
       "<style scoped>\n",
       "    .dataframe tbody tr th:only-of-type {\n",
       "        vertical-align: middle;\n",
       "    }\n",
       "\n",
       "    .dataframe tbody tr th {\n",
       "        vertical-align: top;\n",
       "    }\n",
       "\n",
       "    .dataframe thead th {\n",
       "        text-align: right;\n",
       "    }\n",
       "</style>\n",
       "<table border=\"1\" class=\"dataframe\">\n",
       "  <thead>\n",
       "    <tr style=\"text-align: right;\">\n",
       "      <th></th>\n",
       "      <th>RM</th>\n",
       "      <th>LSTAT</th>\n",
       "      <th>PTRATIO</th>\n",
       "    </tr>\n",
       "  </thead>\n",
       "  <tbody>\n",
       "    <tr>\n",
       "      <th>70</th>\n",
       "      <td>5.412</td>\n",
       "      <td>29.55</td>\n",
       "      <td>18.6</td>\n",
       "    </tr>\n",
       "    <tr>\n",
       "      <th>45</th>\n",
       "      <td>5.963</td>\n",
       "      <td>13.45</td>\n",
       "      <td>16.8</td>\n",
       "    </tr>\n",
       "    <tr>\n",
       "      <th>19</th>\n",
       "      <td>6.072</td>\n",
       "      <td>13.04</td>\n",
       "      <td>21.0</td>\n",
       "    </tr>\n",
       "    <tr>\n",
       "      <th>71</th>\n",
       "      <td>6.108</td>\n",
       "      <td>6.57</td>\n",
       "      <td>16.4</td>\n",
       "    </tr>\n",
       "    <tr>\n",
       "      <th>28</th>\n",
       "      <td>5.468</td>\n",
       "      <td>26.42</td>\n",
       "      <td>14.7</td>\n",
       "    </tr>\n",
       "    <tr>\n",
       "      <th>...</th>\n",
       "      <td>...</td>\n",
       "      <td>...</td>\n",
       "      <td>...</td>\n",
       "    </tr>\n",
       "    <tr>\n",
       "      <th>2</th>\n",
       "      <td>6.162</td>\n",
       "      <td>7.43</td>\n",
       "      <td>14.7</td>\n",
       "    </tr>\n",
       "    <tr>\n",
       "      <th>53</th>\n",
       "      <td>6.854</td>\n",
       "      <td>2.98</td>\n",
       "      <td>17.6</td>\n",
       "    </tr>\n",
       "    <tr>\n",
       "      <th>94</th>\n",
       "      <td>6.389</td>\n",
       "      <td>9.62</td>\n",
       "      <td>18.5</td>\n",
       "    </tr>\n",
       "    <tr>\n",
       "      <th>26</th>\n",
       "      <td>6.273</td>\n",
       "      <td>6.78</td>\n",
       "      <td>18.7</td>\n",
       "    </tr>\n",
       "    <tr>\n",
       "      <th>65</th>\n",
       "      <td>5.427</td>\n",
       "      <td>18.14</td>\n",
       "      <td>20.2</td>\n",
       "    </tr>\n",
       "  </tbody>\n",
       "</table>\n",
       "<p>63 rows × 3 columns</p>\n",
       "</div>"
      ],
      "text/plain": [
       "       RM  LSTAT  PTRATIO\n",
       "70  5.412  29.55     18.6\n",
       "45  5.963  13.45     16.8\n",
       "19  6.072  13.04     21.0\n",
       "71  6.108   6.57     16.4\n",
       "28  5.468  26.42     14.7\n",
       "..    ...    ...      ...\n",
       "2   6.162   7.43     14.7\n",
       "53  6.854   2.98     17.6\n",
       "94  6.389   9.62     18.5\n",
       "26  6.273   6.78     18.7\n",
       "65  5.427  18.14     20.2\n",
       "\n",
       "[63 rows x 3 columns]"
      ]
     },
     "execution_count": 81,
     "metadata": {},
     "output_type": "execute_result"
    }
   ],
   "source": [
    "x_train"
   ]
  },
  {
   "cell_type": "code",
   "execution_count": 82,
   "id": "5d2f6111-1444-4aa9-aa3a-7030977b2629",
   "metadata": {},
   "outputs": [
    {
     "data": {
      "text/plain": [
       "70    23.7\n",
       "45    19.7\n",
       "19    14.5\n",
       "71    21.9\n",
       "28    15.6\n",
       "      ... \n",
       "2     24.1\n",
       "53    32.0\n",
       "94    23.9\n",
       "26    24.1\n",
       "65    13.8\n",
       "Name: PRICE, Length: 63, dtype: float64"
      ]
     },
     "execution_count": 82,
     "metadata": {},
     "output_type": "execute_result"
    }
   ],
   "source": [
    "y_train"
   ]
  },
  {
   "cell_type": "code",
   "execution_count": null,
   "id": "a9aef052-4899-4b88-835f-0059e5b7c068",
   "metadata": {},
   "outputs": [],
   "source": []
  }
 ],
 "metadata": {
  "kernelspec": {
   "display_name": "Python 3 (ipykernel)",
   "language": "python",
   "name": "python3"
  },
  "language_info": {
   "codemirror_mode": {
    "name": "ipython",
    "version": 3
   },
   "file_extension": ".py",
   "mimetype": "text/x-python",
   "name": "python",
   "nbconvert_exporter": "python",
   "pygments_lexer": "ipython3",
   "version": "3.8.12"
  }
 },
 "nbformat": 4,
 "nbformat_minor": 5
}
