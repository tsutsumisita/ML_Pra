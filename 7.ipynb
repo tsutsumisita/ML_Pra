{
 "cells": [
  {
   "cell_type": "code",
   "execution_count": 1,
   "id": "d41403dc-6200-448f-9086-27e8687095f2",
   "metadata": {},
   "outputs": [],
   "source": [
    "import pandas as pd\n",
    "from sklearn import tree\n",
    "from sklearn.model_selection import train_test_split"
   ]
  },
  {
   "cell_type": "code",
   "execution_count": 2,
   "id": "1800a2df-38af-4629-ba73-d41f237bb781",
   "metadata": {},
   "outputs": [],
   "source": [
    "%matplotlib inline"
   ]
  },
  {
   "cell_type": "code",
   "execution_count": 3,
   "id": "919a65ae-9333-438b-9294-7cc94f5cc95a",
   "metadata": {},
   "outputs": [],
   "source": [
    "df = pd.read_csv('datafiles/Survived.csv')"
   ]
  },
  {
   "cell_type": "code",
   "execution_count": 4,
   "id": "b0e7a131-e589-4ec5-953f-a2dc6191b952",
   "metadata": {},
   "outputs": [
    {
     "data": {
      "text/html": [
       "<div>\n",
       "<style scoped>\n",
       "    .dataframe tbody tr th:only-of-type {\n",
       "        vertical-align: middle;\n",
       "    }\n",
       "\n",
       "    .dataframe tbody tr th {\n",
       "        vertical-align: top;\n",
       "    }\n",
       "\n",
       "    .dataframe thead th {\n",
       "        text-align: right;\n",
       "    }\n",
       "</style>\n",
       "<table border=\"1\" class=\"dataframe\">\n",
       "  <thead>\n",
       "    <tr style=\"text-align: right;\">\n",
       "      <th></th>\n",
       "      <th>PassengerId</th>\n",
       "      <th>Survived</th>\n",
       "      <th>Pclass</th>\n",
       "      <th>Sex</th>\n",
       "      <th>Age</th>\n",
       "      <th>SibSp</th>\n",
       "      <th>Parch</th>\n",
       "      <th>Ticket</th>\n",
       "      <th>Fare</th>\n",
       "      <th>Cabin</th>\n",
       "      <th>Embarked</th>\n",
       "    </tr>\n",
       "  </thead>\n",
       "  <tbody>\n",
       "    <tr>\n",
       "      <th>0</th>\n",
       "      <td>1</td>\n",
       "      <td>0</td>\n",
       "      <td>3</td>\n",
       "      <td>male</td>\n",
       "      <td>22.0</td>\n",
       "      <td>1</td>\n",
       "      <td>0</td>\n",
       "      <td>A/5 21171</td>\n",
       "      <td>7.2500</td>\n",
       "      <td>NaN</td>\n",
       "      <td>S</td>\n",
       "    </tr>\n",
       "    <tr>\n",
       "      <th>1</th>\n",
       "      <td>2</td>\n",
       "      <td>1</td>\n",
       "      <td>1</td>\n",
       "      <td>female</td>\n",
       "      <td>38.0</td>\n",
       "      <td>1</td>\n",
       "      <td>0</td>\n",
       "      <td>PC 17599</td>\n",
       "      <td>71.2833</td>\n",
       "      <td>C85</td>\n",
       "      <td>C</td>\n",
       "    </tr>\n",
       "    <tr>\n",
       "      <th>2</th>\n",
       "      <td>3</td>\n",
       "      <td>1</td>\n",
       "      <td>3</td>\n",
       "      <td>female</td>\n",
       "      <td>26.0</td>\n",
       "      <td>0</td>\n",
       "      <td>0</td>\n",
       "      <td>STON/O2. 3101282</td>\n",
       "      <td>7.9250</td>\n",
       "      <td>NaN</td>\n",
       "      <td>S</td>\n",
       "    </tr>\n",
       "    <tr>\n",
       "      <th>3</th>\n",
       "      <td>4</td>\n",
       "      <td>1</td>\n",
       "      <td>1</td>\n",
       "      <td>female</td>\n",
       "      <td>35.0</td>\n",
       "      <td>1</td>\n",
       "      <td>0</td>\n",
       "      <td>113803</td>\n",
       "      <td>53.1000</td>\n",
       "      <td>C123</td>\n",
       "      <td>S</td>\n",
       "    </tr>\n",
       "    <tr>\n",
       "      <th>4</th>\n",
       "      <td>5</td>\n",
       "      <td>0</td>\n",
       "      <td>3</td>\n",
       "      <td>male</td>\n",
       "      <td>35.0</td>\n",
       "      <td>0</td>\n",
       "      <td>0</td>\n",
       "      <td>373450</td>\n",
       "      <td>8.0500</td>\n",
       "      <td>NaN</td>\n",
       "      <td>S</td>\n",
       "    </tr>\n",
       "  </tbody>\n",
       "</table>\n",
       "</div>"
      ],
      "text/plain": [
       "   PassengerId  Survived  Pclass     Sex   Age  SibSp  Parch  \\\n",
       "0            1         0       3    male  22.0      1      0   \n",
       "1            2         1       1  female  38.0      1      0   \n",
       "2            3         1       3  female  26.0      0      0   \n",
       "3            4         1       1  female  35.0      1      0   \n",
       "4            5         0       3    male  35.0      0      0   \n",
       "\n",
       "             Ticket     Fare Cabin Embarked  \n",
       "0         A/5 21171   7.2500   NaN        S  \n",
       "1          PC 17599  71.2833   C85        C  \n",
       "2  STON/O2. 3101282   7.9250   NaN        S  \n",
       "3            113803  53.1000  C123        S  \n",
       "4            373450   8.0500   NaN        S  "
      ]
     },
     "execution_count": 4,
     "metadata": {},
     "output_type": "execute_result"
    }
   ],
   "source": [
    "df.head()"
   ]
  },
  {
   "cell_type": "code",
   "execution_count": 5,
   "id": "b46cc94f-af51-4e5f-9c43-758f5aa4c130",
   "metadata": {},
   "outputs": [
    {
     "data": {
      "text/plain": [
       "0    549\n",
       "1    342\n",
       "Name: Survived, dtype: int64"
      ]
     },
     "execution_count": 5,
     "metadata": {},
     "output_type": "execute_result"
    }
   ],
   "source": [
    "df['Survived'].value_counts()"
   ]
  },
  {
   "cell_type": "code",
   "execution_count": 6,
   "id": "b51e8b50-a55d-4ff0-8114-baf8c31284a5",
   "metadata": {},
   "outputs": [
    {
     "data": {
      "text/plain": [
       "PassengerId      0\n",
       "Survived         0\n",
       "Pclass           0\n",
       "Sex              0\n",
       "Age            177\n",
       "SibSp            0\n",
       "Parch            0\n",
       "Ticket           0\n",
       "Fare             0\n",
       "Cabin          687\n",
       "Embarked         2\n",
       "dtype: int64"
      ]
     },
     "execution_count": 6,
     "metadata": {},
     "output_type": "execute_result"
    }
   ],
   "source": [
    "df.isnull().sum()"
   ]
  },
  {
   "cell_type": "code",
   "execution_count": 7,
   "id": "9cc51832-7194-4cd6-813b-5b7b4167e9c3",
   "metadata": {},
   "outputs": [
    {
     "data": {
      "text/plain": [
       "(891, 11)"
      ]
     },
     "execution_count": 7,
     "metadata": {},
     "output_type": "execute_result"
    }
   ],
   "source": [
    "df.shape"
   ]
  },
  {
   "cell_type": "code",
   "execution_count": 8,
   "id": "08e59ad7-5e9d-4089-8c06-d963a0daa8b9",
   "metadata": {},
   "outputs": [],
   "source": [
    "df['Age'] = df['Age'].fillna(df['Age'].mean())"
   ]
  },
  {
   "cell_type": "code",
   "execution_count": 9,
   "id": "5c03a858-e34f-47b5-9404-16a903b0d0d0",
   "metadata": {},
   "outputs": [],
   "source": [
    "col = ['Pclass','Age','SibSp','Parch','Fare']"
   ]
  },
  {
   "cell_type": "code",
   "execution_count": 10,
   "id": "5d8d565b-5893-4864-a045-49f10b42381d",
   "metadata": {},
   "outputs": [],
   "source": [
    "x = df[col]"
   ]
  },
  {
   "cell_type": "code",
   "execution_count": 11,
   "id": "b3917bf5-e64e-4dd1-8893-125ed9b06623",
   "metadata": {},
   "outputs": [],
   "source": [
    "t = df['Survived']"
   ]
  },
  {
   "cell_type": "code",
   "execution_count": 12,
   "id": "f94e0547-f56c-47a2-b542-f0f38a11cb42",
   "metadata": {},
   "outputs": [],
   "source": [
    "x_train,x_test,y_train,y_test = train_test_split(x,t,test_size=0.2,random_state=0)"
   ]
  },
  {
   "cell_type": "code",
   "execution_count": 13,
   "id": "874ce527-a782-46fc-b1ee-5301ee259602",
   "metadata": {},
   "outputs": [
    {
     "data": {
      "text/plain": [
       "(712, 5)"
      ]
     },
     "execution_count": 13,
     "metadata": {},
     "output_type": "execute_result"
    }
   ],
   "source": [
    "x_train.shape"
   ]
  },
  {
   "cell_type": "code",
   "execution_count": 14,
   "id": "7d2949fd-87a6-4506-8b06-932f775c7e80",
   "metadata": {},
   "outputs": [],
   "source": [
    "model = tree.DecisionTreeClassifier(max_depth=5,random_state = 0, class_weight = 'balanced')"
   ]
  },
  {
   "cell_type": "code",
   "execution_count": 15,
   "id": "39dffce4-140d-4f6f-8162-8d4c6d54ff87",
   "metadata": {},
   "outputs": [
    {
     "data": {
      "text/plain": [
       "DecisionTreeClassifier(class_weight='balanced', max_depth=5, random_state=0)"
      ]
     },
     "execution_count": 15,
     "metadata": {},
     "output_type": "execute_result"
    }
   ],
   "source": [
    "model.fit(x_train,y_train)"
   ]
  },
  {
   "cell_type": "code",
   "execution_count": 16,
   "id": "2a1ab63b-dc37-4254-aecf-55b2f2ceee86",
   "metadata": {},
   "outputs": [
    {
     "data": {
      "text/plain": [
       "0.7374301675977654"
      ]
     },
     "execution_count": 16,
     "metadata": {},
     "output_type": "execute_result"
    }
   ],
   "source": [
    "model.score(x_test,y_test)"
   ]
  },
  {
   "cell_type": "code",
   "execution_count": 18,
   "id": "f7664581-3ce6-4170-92e4-42cc7219783a",
   "metadata": {},
   "outputs": [],
   "source": [
    "def learn(x,t,depth):\n",
    "    x_train,x_test,y_train,y_test = train_test_split(x,t,test_size=0.2,random_state=0)\n",
    "    model = tree.DecisionTreeClassifier(max_depth = depth, random_state=0, class_weight='balanced')\n",
    "    model.fit(x,t)\n",
    "    \n",
    "    score1 = model.score(x_test,y_test)\n",
    "    score2 = model.score(x_train,y_train)\n",
    "    \n",
    "    return score1,score2,model"
   ]
  },
  {
   "cell_type": "code",
   "execution_count": 24,
   "id": "a56a9f62-0faa-46bc-8cfe-0e5fa5cfe03a",
   "metadata": {},
   "outputs": [
    {
     "name": "stdout",
     "output_type": "stream",
     "text": [
      "depth1 test:0.7039106145251397 train:0.6587078651685393\n",
      "depth2 test:0.7374301675977654 train:0.7036516853932584\n",
      "depth3 test:0.7430167597765364 train:0.7162921348314607\n",
      "depth4 test:0.770949720670391 train:0.7078651685393258\n",
      "depth5 test:0.770949720670391 train:0.7317415730337079\n",
      "depth6 test:0.7988826815642458 train:0.7556179775280899\n",
      "depth7 test:0.8491620111731844 train:0.7612359550561798\n",
      "depth8 test:0.8491620111731844 train:0.7837078651685393\n",
      "depth9 test:0.8324022346368715 train:0.7963483146067416\n",
      "depth10 test:0.8770949720670391 train:0.8384831460674157\n",
      "depth11 test:0.9050279329608939 train:0.8778089887640449\n",
      "depth12 test:0.8994413407821229 train:0.8890449438202247\n",
      "depth13 test:0.8994413407821229 train:0.9002808988764045\n",
      "depth14 test:0.9106145251396648 train:0.901685393258427\n",
      "depth15 test:0.9273743016759777 train:0.925561797752809\n",
      "depth16 test:0.9162011173184358 train:0.9353932584269663\n",
      "depth17 test:0.9385474860335196 train:0.9410112359550562\n",
      "depth18 test:0.9441340782122905 train:0.9466292134831461\n",
      "depth19 test:0.9385474860335196 train:0.952247191011236\n",
      "depth20 test:0.9497206703910615 train:0.952247191011236\n",
      "depth21 test:0.9553072625698324 train:0.9536516853932584\n",
      "depth22 test:0.9553072625698324 train:0.9536516853932584\n",
      "depth23 test:0.9608938547486033 train:0.9536516853932584\n",
      "depth24 test:0.9608938547486033 train:0.9536516853932584\n",
      "depth25 test:0.9608938547486033 train:0.9536516853932584\n",
      "depth26 test:0.9608938547486033 train:0.9536516853932584\n",
      "depth27 test:0.9608938547486033 train:0.9536516853932584\n",
      "depth28 test:0.9608938547486033 train:0.9536516853932584\n",
      "depth29 test:0.9608938547486033 train:0.9536516853932584\n"
     ]
    }
   ],
   "source": [
    "for i in range(1,30):\n",
    "    test_score,train_score,model = learn(x,t,depth=i)\n",
    "    sentence  = 'train:{}'\n",
    "    sentence2 = 'test:{} '\n",
    "    \n",
    "    total_sentence = 'depth{} '+sentence2+sentence\n",
    "    print(total_sentence.format(i,test_score,train_score))"
   ]
  },
  {
   "cell_type": "code",
   "execution_count": 26,
   "id": "19bea617-4313-4023-b720-25ebf6b2d602",
   "metadata": {},
   "outputs": [
    {
     "data": {
      "text/plain": [
       "Survived\n",
       "0    30.415100\n",
       "1    28.549778\n",
       "Name: Age, dtype: float64"
      ]
     },
     "execution_count": 26,
     "metadata": {},
     "output_type": "execute_result"
    }
   ],
   "source": [
    "df.groupby('Survived').mean()['Age']"
   ]
  },
  {
   "cell_type": "code",
   "execution_count": 27,
   "id": "91fa46bc-b5dd-474c-a5d4-8188304a7599",
   "metadata": {},
   "outputs": [
    {
     "data": {
      "text/plain": [
       "Pclass\n",
       "1    37.048118\n",
       "2    29.866958\n",
       "3    26.403259\n",
       "Name: Age, dtype: float64"
      ]
     },
     "execution_count": 27,
     "metadata": {},
     "output_type": "execute_result"
    }
   ],
   "source": [
    "df.groupby('Pclass').mean()['Age']"
   ]
  },
  {
   "cell_type": "code",
   "execution_count": 28,
   "id": "e454cbf2-1d8d-44c9-97f4-b3393155bb1b",
   "metadata": {},
   "outputs": [
    {
     "data": {
      "text/html": [
       "<div>\n",
       "<style scoped>\n",
       "    .dataframe tbody tr th:only-of-type {\n",
       "        vertical-align: middle;\n",
       "    }\n",
       "\n",
       "    .dataframe tbody tr th {\n",
       "        vertical-align: top;\n",
       "    }\n",
       "\n",
       "    .dataframe thead th {\n",
       "        text-align: right;\n",
       "    }\n",
       "</style>\n",
       "<table border=\"1\" class=\"dataframe\">\n",
       "  <thead>\n",
       "    <tr style=\"text-align: right;\">\n",
       "      <th>Pclass</th>\n",
       "      <th>1</th>\n",
       "      <th>2</th>\n",
       "      <th>3</th>\n",
       "    </tr>\n",
       "    <tr>\n",
       "      <th>Survived</th>\n",
       "      <th></th>\n",
       "      <th></th>\n",
       "      <th></th>\n",
       "    </tr>\n",
       "  </thead>\n",
       "  <tbody>\n",
       "    <tr>\n",
       "      <th>0</th>\n",
       "      <td>40.896074</td>\n",
       "      <td>33.266947</td>\n",
       "      <td>27.417500</td>\n",
       "    </tr>\n",
       "    <tr>\n",
       "      <th>1</th>\n",
       "      <td>34.784615</td>\n",
       "      <td>26.076166</td>\n",
       "      <td>23.232689</td>\n",
       "    </tr>\n",
       "  </tbody>\n",
       "</table>\n",
       "</div>"
      ],
      "text/plain": [
       "Pclass            1          2          3\n",
       "Survived                                 \n",
       "0         40.896074  33.266947  27.417500\n",
       "1         34.784615  26.076166  23.232689"
      ]
     },
     "execution_count": 28,
     "metadata": {},
     "output_type": "execute_result"
    }
   ],
   "source": [
    "pd.pivot_table(df,index = 'Survived',columns = 'Pclass',values = 'Age')"
   ]
  },
  {
   "cell_type": "code",
   "execution_count": 32,
   "id": "76200ac4-b4db-41e2-9a51-fc9db35f67fc",
   "metadata": {},
   "outputs": [],
   "source": [
    "#TorFの一次ベクトル\n",
    "is_null = df['Age'].isnull()"
   ]
  },
  {
   "cell_type": "code",
   "execution_count": 33,
   "id": "6812f7ad-23e5-41fc-b1ec-7f344dd6e56a",
   "metadata": {},
   "outputs": [],
   "source": [
    "df.loc[(df['Pclass'] == 1) & (df['Survived'] == 0) & (is_null),'Age'] = 40"
   ]
  },
  {
   "cell_type": "code",
   "execution_count": 34,
   "id": "9cdf9711-e12b-4c61-a368-b2050ad55aa1",
   "metadata": {},
   "outputs": [],
   "source": [
    "df.loc[(df['Pclass'] == 1) & (df['Survived'] == 1) & (is_null),'Age'] = 34"
   ]
  },
  {
   "cell_type": "code",
   "execution_count": 35,
   "id": "36bbb4b1-de67-435f-b189-3e0c08f98c0b",
   "metadata": {},
   "outputs": [],
   "source": [
    "df.loc[(df['Pclass'] == 2) & (df['Survived'] == 0) & (is_null),'Age'] = 33"
   ]
  },
  {
   "cell_type": "code",
   "execution_count": 36,
   "id": "a45eded0-beab-4073-ba25-fb01fcd40338",
   "metadata": {},
   "outputs": [],
   "source": [
    "df.loc[(df['Pclass'] == 2) & (df['Survived'] == 1) & (is_null),'Age'] = 26"
   ]
  },
  {
   "cell_type": "code",
   "execution_count": 37,
   "id": "9b87a4b3-7d80-4dd6-b9de-463431fc66f3",
   "metadata": {},
   "outputs": [],
   "source": [
    "df.loc[(df['Pclass'] == 3) & (df['Survived'] == 0) & (is_null),'Age'] = 27"
   ]
  },
  {
   "cell_type": "code",
   "execution_count": 38,
   "id": "7fbc0f26-d9b8-4806-bac8-feb3770fa460",
   "metadata": {},
   "outputs": [],
   "source": [
    "df.loc[(df['Pclass'] == 3) & (df['Survived'] == 1) & (is_null),'Age'] = 23"
   ]
  },
  {
   "cell_type": "code",
   "execution_count": 39,
   "id": "9d4112d4-04d1-4299-9740-c0adeb865a3c",
   "metadata": {},
   "outputs": [],
   "source": [
    "col = ['Pclass','Age','SibSp','Parch','Fare']\n",
    "x= df[col]\n",
    "t = df['Survived']"
   ]
  },
  {
   "cell_type": "code",
   "execution_count": 40,
   "id": "ae3f3745-5879-4e9a-b5f9-29fcf53043a6",
   "metadata": {},
   "outputs": [
    {
     "name": "stdout",
     "output_type": "stream",
     "text": [
      "depth:1 train:0.7039106145251397 test:0.6587078651685393\n",
      "depth:2 train:0.7374301675977654 test:0.7036516853932584\n",
      "depth:3 train:0.7430167597765364 test:0.7162921348314607\n",
      "depth:4 train:0.770949720670391 test:0.7078651685393258\n",
      "depth:5 train:0.770949720670391 test:0.7317415730337079\n",
      "depth:6 train:0.7988826815642458 test:0.7556179775280899\n",
      "depth:7 train:0.8491620111731844 test:0.7612359550561798\n",
      "depth:8 train:0.8491620111731844 test:0.7837078651685393\n",
      "depth:9 train:0.8324022346368715 test:0.7963483146067416\n",
      "depth:10 train:0.8770949720670391 test:0.8384831460674157\n",
      "depth:11 train:0.9050279329608939 test:0.8778089887640449\n",
      "depth:12 train:0.8994413407821229 test:0.8890449438202247\n",
      "depth:13 train:0.8994413407821229 test:0.9002808988764045\n",
      "depth:14 train:0.9106145251396648 test:0.901685393258427\n",
      "depth:15 train:0.9273743016759777 test:0.925561797752809\n"
     ]
    }
   ],
   "source": [
    "for i in range(1,16):\n",
    "    s1,s2,m = learn(x,t,i)\n",
    "    sentence = 'depth:{} train:{} test:{}'\n",
    "    print(sentence.format(i,s1,s2))"
   ]
  },
  {
   "cell_type": "code",
   "execution_count": 41,
   "id": "8f65a0b7-01ec-46f3-80e5-fc01291d4f7a",
   "metadata": {},
   "outputs": [],
   "source": [
    "sex = df.groupby('Sex').mean()"
   ]
  },
  {
   "cell_type": "code",
   "execution_count": 42,
   "id": "6e3ac024-4997-4f0c-8e60-c945e82858fe",
   "metadata": {},
   "outputs": [
    {
     "data": {
      "text/html": [
       "<div>\n",
       "<style scoped>\n",
       "    .dataframe tbody tr th:only-of-type {\n",
       "        vertical-align: middle;\n",
       "    }\n",
       "\n",
       "    .dataframe tbody tr th {\n",
       "        vertical-align: top;\n",
       "    }\n",
       "\n",
       "    .dataframe thead th {\n",
       "        text-align: right;\n",
       "    }\n",
       "</style>\n",
       "<table border=\"1\" class=\"dataframe\">\n",
       "  <thead>\n",
       "    <tr style=\"text-align: right;\">\n",
       "      <th></th>\n",
       "      <th>PassengerId</th>\n",
       "      <th>Survived</th>\n",
       "      <th>Pclass</th>\n",
       "      <th>Age</th>\n",
       "      <th>SibSp</th>\n",
       "      <th>Parch</th>\n",
       "      <th>Fare</th>\n",
       "    </tr>\n",
       "    <tr>\n",
       "      <th>Sex</th>\n",
       "      <th></th>\n",
       "      <th></th>\n",
       "      <th></th>\n",
       "      <th></th>\n",
       "      <th></th>\n",
       "      <th></th>\n",
       "      <th></th>\n",
       "    </tr>\n",
       "  </thead>\n",
       "  <tbody>\n",
       "    <tr>\n",
       "      <th>female</th>\n",
       "      <td>431.028662</td>\n",
       "      <td>0.742038</td>\n",
       "      <td>2.159236</td>\n",
       "      <td>28.216730</td>\n",
       "      <td>0.694268</td>\n",
       "      <td>0.649682</td>\n",
       "      <td>44.479818</td>\n",
       "    </tr>\n",
       "    <tr>\n",
       "      <th>male</th>\n",
       "      <td>454.147314</td>\n",
       "      <td>0.188908</td>\n",
       "      <td>2.389948</td>\n",
       "      <td>30.505824</td>\n",
       "      <td>0.429809</td>\n",
       "      <td>0.235702</td>\n",
       "      <td>25.523893</td>\n",
       "    </tr>\n",
       "  </tbody>\n",
       "</table>\n",
       "</div>"
      ],
      "text/plain": [
       "        PassengerId  Survived    Pclass        Age     SibSp     Parch  \\\n",
       "Sex                                                                      \n",
       "female   431.028662  0.742038  2.159236  28.216730  0.694268  0.649682   \n",
       "male     454.147314  0.188908  2.389948  30.505824  0.429809  0.235702   \n",
       "\n",
       "             Fare  \n",
       "Sex                \n",
       "female  44.479818  \n",
       "male    25.523893  "
      ]
     },
     "execution_count": 42,
     "metadata": {},
     "output_type": "execute_result"
    }
   ],
   "source": [
    "sex"
   ]
  },
  {
   "cell_type": "code",
   "execution_count": 43,
   "id": "354b7c48-5bfa-4749-99da-b8273d8af713",
   "metadata": {},
   "outputs": [
    {
     "data": {
      "text/plain": [
       "<AxesSubplot:xlabel='Sex'>"
      ]
     },
     "execution_count": 43,
     "metadata": {},
     "output_type": "execute_result"
    },
    {
     "data": {
      "image/png": "[encoded data removed]",
      "text/plain": [
       "<Figure size 432x288 with 1 Axes>"
      ]
     },
     "metadata": {
      "needs_background": "light"
     },
     "output_type": "display_data"
    }
   ],
   "source": [
    "sex['Survived'].plot(kind = 'bar')"
   ]
  },
  {
   "cell_type": "code",
   "execution_count": 45,
   "id": "0eb8e56b-bb73-4dda-92e7-ff5fea6dce14",
   "metadata": {},
   "outputs": [],
   "source": [
    "male = pd.get_dummies(df['Sex'],drop_first = True)"
   ]
  },
  {
   "cell_type": "code",
   "execution_count": 46,
   "id": "be855de5-14a6-4cbb-9fec-97922220eba9",
   "metadata": {},
   "outputs": [
    {
     "data": {
      "text/html": [
       "<div>\n",
       "<style scoped>\n",
       "    .dataframe tbody tr th:only-of-type {\n",
       "        vertical-align: middle;\n",
       "    }\n",
       "\n",
       "    .dataframe tbody tr th {\n",
       "        vertical-align: top;\n",
       "    }\n",
       "\n",
       "    .dataframe thead th {\n",
       "        text-align: right;\n",
       "    }\n",
       "</style>\n",
       "<table border=\"1\" class=\"dataframe\">\n",
       "  <thead>\n",
       "    <tr style=\"text-align: right;\">\n",
       "      <th></th>\n",
       "      <th>male</th>\n",
       "    </tr>\n",
       "  </thead>\n",
       "  <tbody>\n",
       "    <tr>\n",
       "      <th>0</th>\n",
       "      <td>1</td>\n",
       "    </tr>\n",
       "    <tr>\n",
       "      <th>1</th>\n",
       "      <td>0</td>\n",
       "    </tr>\n",
       "    <tr>\n",
       "      <th>2</th>\n",
       "      <td>0</td>\n",
       "    </tr>\n",
       "    <tr>\n",
       "      <th>3</th>\n",
       "      <td>0</td>\n",
       "    </tr>\n",
       "    <tr>\n",
       "      <th>4</th>\n",
       "      <td>1</td>\n",
       "    </tr>\n",
       "    <tr>\n",
       "      <th>...</th>\n",
       "      <td>...</td>\n",
       "    </tr>\n",
       "    <tr>\n",
       "      <th>886</th>\n",
       "      <td>1</td>\n",
       "    </tr>\n",
       "    <tr>\n",
       "      <th>887</th>\n",
       "      <td>0</td>\n",
       "    </tr>\n",
       "    <tr>\n",
       "      <th>888</th>\n",
       "      <td>0</td>\n",
       "    </tr>\n",
       "    <tr>\n",
       "      <th>889</th>\n",
       "      <td>1</td>\n",
       "    </tr>\n",
       "    <tr>\n",
       "      <th>890</th>\n",
       "      <td>1</td>\n",
       "    </tr>\n",
       "  </tbody>\n",
       "</table>\n",
       "<p>891 rows × 1 columns</p>\n",
       "</div>"
      ],
      "text/plain": [
       "     male\n",
       "0       1\n",
       "1       0\n",
       "2       0\n",
       "3       0\n",
       "4       1\n",
       "..    ...\n",
       "886     1\n",
       "887     0\n",
       "888     0\n",
       "889     1\n",
       "890     1\n",
       "\n",
       "[891 rows x 1 columns]"
      ]
     },
     "execution_count": 46,
     "metadata": {},
     "output_type": "execute_result"
    }
   ],
   "source": [
    "male"
   ]
  },
  {
   "cell_type": "code",
   "execution_count": 47,
   "id": "a68e2f8c-365c-47d5-9cda-60b4c19817a1",
   "metadata": {},
   "outputs": [],
   "source": [
    "x_temp = pd.concat([x,male],axis = 1)"
   ]
  },
  {
   "cell_type": "code",
   "execution_count": 48,
   "id": "ea33418b-75ce-4e7d-8d84-2951a137aac4",
   "metadata": {},
   "outputs": [
    {
     "data": {
      "text/html": [
       "<div>\n",
       "<style scoped>\n",
       "    .dataframe tbody tr th:only-of-type {\n",
       "        vertical-align: middle;\n",
       "    }\n",
       "\n",
       "    .dataframe tbody tr th {\n",
       "        vertical-align: top;\n",
       "    }\n",
       "\n",
       "    .dataframe thead th {\n",
       "        text-align: right;\n",
       "    }\n",
       "</style>\n",
       "<table border=\"1\" class=\"dataframe\">\n",
       "  <thead>\n",
       "    <tr style=\"text-align: right;\">\n",
       "      <th></th>\n",
       "      <th>Pclass</th>\n",
       "      <th>Age</th>\n",
       "      <th>SibSp</th>\n",
       "      <th>Parch</th>\n",
       "      <th>Fare</th>\n",
       "      <th>male</th>\n",
       "    </tr>\n",
       "  </thead>\n",
       "  <tbody>\n",
       "    <tr>\n",
       "      <th>0</th>\n",
       "      <td>3</td>\n",
       "      <td>22.0</td>\n",
       "      <td>1</td>\n",
       "      <td>0</td>\n",
       "      <td>7.2500</td>\n",
       "      <td>1</td>\n",
       "    </tr>\n",
       "    <tr>\n",
       "      <th>1</th>\n",
       "      <td>1</td>\n",
       "      <td>38.0</td>\n",
       "      <td>1</td>\n",
       "      <td>0</td>\n",
       "      <td>71.2833</td>\n",
       "      <td>0</td>\n",
       "    </tr>\n",
       "    <tr>\n",
       "      <th>2</th>\n",
       "      <td>3</td>\n",
       "      <td>26.0</td>\n",
       "      <td>0</td>\n",
       "      <td>0</td>\n",
       "      <td>7.9250</td>\n",
       "      <td>0</td>\n",
       "    </tr>\n",
       "    <tr>\n",
       "      <th>3</th>\n",
       "      <td>1</td>\n",
       "      <td>35.0</td>\n",
       "      <td>1</td>\n",
       "      <td>0</td>\n",
       "      <td>53.1000</td>\n",
       "      <td>0</td>\n",
       "    </tr>\n",
       "    <tr>\n",
       "      <th>4</th>\n",
       "      <td>3</td>\n",
       "      <td>35.0</td>\n",
       "      <td>0</td>\n",
       "      <td>0</td>\n",
       "      <td>8.0500</td>\n",
       "      <td>1</td>\n",
       "    </tr>\n",
       "  </tbody>\n",
       "</table>\n",
       "</div>"
      ],
      "text/plain": [
       "   Pclass   Age  SibSp  Parch     Fare  male\n",
       "0       3  22.0      1      0   7.2500     1\n",
       "1       1  38.0      1      0  71.2833     0\n",
       "2       3  26.0      0      0   7.9250     0\n",
       "3       1  35.0      1      0  53.1000     0\n",
       "4       3  35.0      0      0   8.0500     1"
      ]
     },
     "execution_count": 48,
     "metadata": {},
     "output_type": "execute_result"
    }
   ],
   "source": [
    "x_temp.head()\n"
   ]
  },
  {
   "cell_type": "code",
   "execution_count": 51,
   "id": "e0d95f8b-9c40-4d28-aaca-016f1f708cd3",
   "metadata": {},
   "outputs": [
    {
     "name": "stdout",
     "output_type": "stream",
     "text": [
      "depth:1 train:0.7877094972067039 test:0.7865168539325843\n",
      "depth:2 train:0.7877094972067039 test:0.7865168539325843\n",
      "depth:3 train:0.8268156424581006 test:0.7780898876404494\n",
      "depth:4 train:0.8379888268156425 test:0.8398876404494382\n",
      "depth:5 train:0.8547486033519553 test:0.8089887640449438\n",
      "depth:6 train:0.8659217877094972 test:0.8665730337078652\n",
      "depth:7 train:0.8659217877094972 test:0.8792134831460674\n",
      "depth:8 train:0.888268156424581 test:0.8974719101123596\n",
      "depth:9 train:0.9217877094972067 test:0.8862359550561798\n",
      "depth:10 train:0.9441340782122905 test:0.9171348314606742\n",
      "depth:11 train:0.9441340782122905 test:0.9339887640449438\n",
      "depth:12 train:0.9553072625698324 test:0.949438202247191\n",
      "depth:13 train:0.9553072625698324 test:0.9564606741573034\n",
      "depth:14 train:0.9608938547486033 test:0.9662921348314607\n",
      "depth:15 train:0.9664804469273743 test:0.973314606741573\n"
     ]
    }
   ],
   "source": [
    "for i in range(1,16):\n",
    "    s1,s2,m = learn(x_temp,t,depth=i)\n",
    "    s = 'depth:{} train:{} test:{}'\n",
    "    print(s.format(i,s1,s2))"
   ]
  },
  {
   "cell_type": "code",
   "execution_count": 53,
   "id": "4740d3d3-5cbf-4128-a709-7d201851cb73",
   "metadata": {},
   "outputs": [
    {
     "data": {
      "text/plain": [
       "array([0.1362867 , 0.40441702, 0.08382678, 0.03430227, 0.34116722])"
      ]
     },
     "execution_count": 53,
     "metadata": {},
     "output_type": "execute_result"
    }
   ],
   "source": [
    "model.feature_importances_"
   ]
  },
  {
   "cell_type": "code",
   "execution_count": 55,
   "id": "bcdfc6e5-e92e-4c0f-b2a0-1124d33e8171",
   "metadata": {},
   "outputs": [
    {
     "data": {
      "text/html": [
       "<div>\n",
       "<style scoped>\n",
       "    .dataframe tbody tr th:only-of-type {\n",
       "        vertical-align: middle;\n",
       "    }\n",
       "\n",
       "    .dataframe tbody tr th {\n",
       "        vertical-align: top;\n",
       "    }\n",
       "\n",
       "    .dataframe thead th {\n",
       "        text-align: right;\n",
       "    }\n",
       "</style>\n",
       "<table border=\"1\" class=\"dataframe\">\n",
       "  <thead>\n",
       "    <tr style=\"text-align: right;\">\n",
       "      <th></th>\n",
       "      <th>0</th>\n",
       "    </tr>\n",
       "  </thead>\n",
       "  <tbody>\n",
       "    <tr>\n",
       "      <th>Pclass</th>\n",
       "      <td>0.136287</td>\n",
       "    </tr>\n",
       "    <tr>\n",
       "      <th>Age</th>\n",
       "      <td>0.404417</td>\n",
       "    </tr>\n",
       "    <tr>\n",
       "      <th>SibSp</th>\n",
       "      <td>0.083827</td>\n",
       "    </tr>\n",
       "    <tr>\n",
       "      <th>Parch</th>\n",
       "      <td>0.034302</td>\n",
       "    </tr>\n",
       "    <tr>\n",
       "      <th>Fare</th>\n",
       "      <td>0.341167</td>\n",
       "    </tr>\n",
       "  </tbody>\n",
       "</table>\n",
       "</div>"
      ],
      "text/plain": [
       "               0\n",
       "Pclass  0.136287\n",
       "Age     0.404417\n",
       "SibSp   0.083827\n",
       "Parch   0.034302\n",
       "Fare    0.341167"
      ]
     },
     "execution_count": 55,
     "metadata": {},
     "output_type": "execute_result"
    }
   ],
   "source": [
    "pd.DataFrame(model.feature_importances_,index = x.columns)"
   ]
  },
  {
   "cell_type": "code",
   "execution_count": null,
   "id": "9594fbed-cd71-43c3-88ba-f21ccf7a5788",
   "metadata": {},
   "outputs": [],
   "source": []
  }
 ],
 "metadata": {
  "kernelspec": {
   "display_name": "Python 3 (ipykernel)",
   "language": "python",
   "name": "python3"
  },
  "language_info": {
   "codemirror_mode": {
    "name": "ipython",
    "version": 3
   },
   "file_extension": ".py",
   "mimetype": "text/x-python",
   "name": "python",
   "nbconvert_exporter": "python",
   "pygments_lexer": "ipython3",
   "version": "3.8.12"
  }
 },
 "nbformat": 4,
 "nbformat_minor": 5
}
