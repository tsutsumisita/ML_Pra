{
 "cells": [
  {
   "cell_type": "code",
   "execution_count": 2,
   "id": "67608949-3b02-40cd-8c6f-cd4bd5c34c6e",
   "metadata": {},
   "outputs": [],
   "source": [
    "import pandas as pd"
   ]
  },
  {
   "cell_type": "code",
   "execution_count": 3,
   "id": "0d4e6092-81fb-48d4-979a-7a1218a206b1",
   "metadata": {},
   "outputs": [],
   "source": [
    "df = pd.read_csv('datafiles/ex2.csv')"
   ]
  },
  {
   "cell_type": "code",
   "execution_count": 4,
   "id": "1e51c35b-e3a5-4b7f-b118-331e6843ab89",
   "metadata": {},
   "outputs": [
    {
     "data": {
      "text/html": [
       "<div>\n",
       "<style scoped>\n",
       "    .dataframe tbody tr th:only-of-type {\n",
       "        vertical-align: middle;\n",
       "    }\n",
       "\n",
       "    .dataframe tbody tr th {\n",
       "        vertical-align: top;\n",
       "    }\n",
       "\n",
       "    .dataframe thead th {\n",
       "        text-align: right;\n",
       "    }\n",
       "</style>\n",
       "<table border=\"1\" class=\"dataframe\">\n",
       "  <thead>\n",
       "    <tr style=\"text-align: right;\">\n",
       "      <th></th>\n",
       "      <th>x0</th>\n",
       "      <th>x1</th>\n",
       "      <th>x2</th>\n",
       "      <th>x3</th>\n",
       "      <th>target</th>\n",
       "    </tr>\n",
       "  </thead>\n",
       "  <tbody>\n",
       "    <tr>\n",
       "      <th>95</th>\n",
       "      <td>-0.988204</td>\n",
       "      <td>0.934396</td>\n",
       "      <td>0.131865</td>\n",
       "      <td>-0.158939</td>\n",
       "      <td>1</td>\n",
       "    </tr>\n",
       "    <tr>\n",
       "      <th>96</th>\n",
       "      <td>-2.057470</td>\n",
       "      <td>2.869821</td>\n",
       "      <td>-0.887651</td>\n",
       "      <td>-0.741163</td>\n",
       "      <td>1</td>\n",
       "    </tr>\n",
       "    <tr>\n",
       "      <th>97</th>\n",
       "      <td>-1.669722</td>\n",
       "      <td>2.168812</td>\n",
       "      <td>-0.018603</td>\n",
       "      <td>0.607099</td>\n",
       "      <td>1</td>\n",
       "    </tr>\n",
       "    <tr>\n",
       "      <th>98</th>\n",
       "      <td>-1.011851</td>\n",
       "      <td>0.973641</td>\n",
       "      <td>-0.474993</td>\n",
       "      <td>-0.509644</td>\n",
       "      <td>1</td>\n",
       "    </tr>\n",
       "    <tr>\n",
       "      <th>99</th>\n",
       "      <td>-1.578463</td>\n",
       "      <td>2.076695</td>\n",
       "      <td>0.200962</td>\n",
       "      <td>2.533324</td>\n",
       "      <td>1</td>\n",
       "    </tr>\n",
       "  </tbody>\n",
       "</table>\n",
       "</div>"
      ],
      "text/plain": [
       "          x0        x1        x2        x3  target\n",
       "95 -0.988204  0.934396  0.131865 -0.158939       1\n",
       "96 -2.057470  2.869821 -0.887651 -0.741163       1\n",
       "97 -1.669722  2.168812 -0.018603  0.607099       1\n",
       "98 -1.011851  0.973641 -0.474993 -0.509644       1\n",
       "99 -1.578463  2.076695  0.200962  2.533324       1"
      ]
     },
     "execution_count": 4,
     "metadata": {},
     "output_type": "execute_result"
    }
   ],
   "source": [
    "df.tail()"
   ]
  },
  {
   "cell_type": "code",
   "execution_count": 5,
   "id": "489a8ef8-ddb5-462b-a1c4-d3c19ef75385",
   "metadata": {},
   "outputs": [
    {
     "data": {
      "text/html": [
       "<div>\n",
       "<style scoped>\n",
       "    .dataframe tbody tr th:only-of-type {\n",
       "        vertical-align: middle;\n",
       "    }\n",
       "\n",
       "    .dataframe tbody tr th {\n",
       "        vertical-align: top;\n",
       "    }\n",
       "\n",
       "    .dataframe thead th {\n",
       "        text-align: right;\n",
       "    }\n",
       "</style>\n",
       "<table border=\"1\" class=\"dataframe\">\n",
       "  <thead>\n",
       "    <tr style=\"text-align: right;\">\n",
       "      <th></th>\n",
       "      <th>x0</th>\n",
       "      <th>x1</th>\n",
       "      <th>x2</th>\n",
       "      <th>x3</th>\n",
       "      <th>target</th>\n",
       "    </tr>\n",
       "  </thead>\n",
       "  <tbody>\n",
       "    <tr>\n",
       "      <th>0</th>\n",
       "      <td>-1.244674</td>\n",
       "      <td>1.452124</td>\n",
       "      <td>-1.184385</td>\n",
       "      <td>-0.839169</td>\n",
       "      <td>1</td>\n",
       "    </tr>\n",
       "    <tr>\n",
       "      <th>1</th>\n",
       "      <td>-1.662920</td>\n",
       "      <td>-0.375804</td>\n",
       "      <td>-0.956673</td>\n",
       "      <td>0.380114</td>\n",
       "      <td>0</td>\n",
       "    </tr>\n",
       "    <tr>\n",
       "      <th>2</th>\n",
       "      <td>-1.926513</td>\n",
       "      <td>NaN</td>\n",
       "      <td>-1.203904</td>\n",
       "      <td>-0.728801</td>\n",
       "      <td>1</td>\n",
       "    </tr>\n",
       "    <tr>\n",
       "      <th>3</th>\n",
       "      <td>-1.455014</td>\n",
       "      <td>-0.472972</td>\n",
       "      <td>0.500495</td>\n",
       "      <td>-0.809670</td>\n",
       "      <td>0</td>\n",
       "    </tr>\n",
       "    <tr>\n",
       "      <th>4</th>\n",
       "      <td>-1.255422</td>\n",
       "      <td>1.348182</td>\n",
       "      <td>0.827424</td>\n",
       "      <td>-0.334090</td>\n",
       "      <td>1</td>\n",
       "    </tr>\n",
       "  </tbody>\n",
       "</table>\n",
       "</div>"
      ],
      "text/plain": [
       "         x0        x1        x2        x3  target\n",
       "0 -1.244674  1.452124 -1.184385 -0.839169       1\n",
       "1 -1.662920 -0.375804 -0.956673  0.380114       0\n",
       "2 -1.926513       NaN -1.203904 -0.728801       1\n",
       "3 -1.455014 -0.472972  0.500495 -0.809670       0\n",
       "4 -1.255422  1.348182  0.827424 -0.334090       1"
      ]
     },
     "execution_count": 5,
     "metadata": {},
     "output_type": "execute_result"
    }
   ],
   "source": [
    "df.head()"
   ]
  },
  {
   "cell_type": "code",
   "execution_count": 7,
   "id": "a5a2d517-6c4d-4e0b-a6b5-d452c0562a7a",
   "metadata": {},
   "outputs": [
    {
     "data": {
      "text/plain": [
       "1    80\n",
       "0    20\n",
       "Name: target, dtype: int64"
      ]
     },
     "execution_count": 7,
     "metadata": {},
     "output_type": "execute_result"
    }
   ],
   "source": [
    "df['target'].value_counts()"
   ]
  },
  {
   "cell_type": "code",
   "execution_count": 8,
   "id": "1fbfa3e8-6175-4f42-9409-a39b0276662c",
   "metadata": {},
   "outputs": [
    {
     "data": {
      "text/plain": [
       "x0        False\n",
       "x1         True\n",
       "x2         True\n",
       "x3        False\n",
       "target    False\n",
       "dtype: bool"
      ]
     },
     "execution_count": 8,
     "metadata": {},
     "output_type": "execute_result"
    }
   ],
   "source": [
    "df.isnull().any(axis=0)"
   ]
  },
  {
   "cell_type": "code",
   "execution_count": 10,
   "id": "a8525634-8e1b-4e6d-9e5a-da765363ab1d",
   "metadata": {},
   "outputs": [
    {
     "data": {
      "text/plain": [
       "x0        0\n",
       "x1        1\n",
       "x2        1\n",
       "x3        0\n",
       "target    0\n",
       "dtype: int64"
      ]
     },
     "execution_count": 10,
     "metadata": {},
     "output_type": "execute_result"
    }
   ],
   "source": [
    "df.isnull().sum()"
   ]
  },
  {
   "cell_type": "code",
   "execution_count": 11,
   "id": "caf60863-24b6-49f3-8ab7-fe9cd89e094c",
   "metadata": {},
   "outputs": [],
   "source": [
    "colmed = df.median()"
   ]
  },
  {
   "cell_type": "code",
   "execution_count": 12,
   "id": "500354bc-6988-4198-9c25-fe38548b914d",
   "metadata": {},
   "outputs": [
    {
     "data": {
      "text/plain": [
       "x0       -1.003455\n",
       "x1        0.792104\n",
       "x2       -0.115399\n",
       "x3        0.081021\n",
       "target    1.000000\n",
       "dtype: float64"
      ]
     },
     "execution_count": 12,
     "metadata": {},
     "output_type": "execute_result"
    }
   ],
   "source": [
    "colmed"
   ]
  },
  {
   "cell_type": "code",
   "execution_count": 13,
   "id": "b19525b7-ee89-4fac-a7e4-16468a3d8cb8",
   "metadata": {},
   "outputs": [],
   "source": [
    "df2 = df.fillna(colmed)"
   ]
  },
  {
   "cell_type": "code",
   "execution_count": 14,
   "id": "ead8e9e3-3a39-4d54-a35f-1d0769e214a7",
   "metadata": {},
   "outputs": [
    {
     "data": {
      "text/html": [
       "<div>\n",
       "<style scoped>\n",
       "    .dataframe tbody tr th:only-of-type {\n",
       "        vertical-align: middle;\n",
       "    }\n",
       "\n",
       "    .dataframe tbody tr th {\n",
       "        vertical-align: top;\n",
       "    }\n",
       "\n",
       "    .dataframe thead th {\n",
       "        text-align: right;\n",
       "    }\n",
       "</style>\n",
       "<table border=\"1\" class=\"dataframe\">\n",
       "  <thead>\n",
       "    <tr style=\"text-align: right;\">\n",
       "      <th></th>\n",
       "      <th>x0</th>\n",
       "      <th>x1</th>\n",
       "      <th>x2</th>\n",
       "      <th>x3</th>\n",
       "      <th>target</th>\n",
       "    </tr>\n",
       "  </thead>\n",
       "  <tbody>\n",
       "    <tr>\n",
       "      <th>0</th>\n",
       "      <td>-1.244674</td>\n",
       "      <td>1.452124</td>\n",
       "      <td>-1.184385</td>\n",
       "      <td>-0.839169</td>\n",
       "      <td>1</td>\n",
       "    </tr>\n",
       "    <tr>\n",
       "      <th>1</th>\n",
       "      <td>-1.662920</td>\n",
       "      <td>-0.375804</td>\n",
       "      <td>-0.956673</td>\n",
       "      <td>0.380114</td>\n",
       "      <td>0</td>\n",
       "    </tr>\n",
       "    <tr>\n",
       "      <th>2</th>\n",
       "      <td>-1.926513</td>\n",
       "      <td>0.792104</td>\n",
       "      <td>-1.203904</td>\n",
       "      <td>-0.728801</td>\n",
       "      <td>1</td>\n",
       "    </tr>\n",
       "    <tr>\n",
       "      <th>3</th>\n",
       "      <td>-1.455014</td>\n",
       "      <td>-0.472972</td>\n",
       "      <td>0.500495</td>\n",
       "      <td>-0.809670</td>\n",
       "      <td>0</td>\n",
       "    </tr>\n",
       "    <tr>\n",
       "      <th>4</th>\n",
       "      <td>-1.255422</td>\n",
       "      <td>1.348182</td>\n",
       "      <td>0.827424</td>\n",
       "      <td>-0.334090</td>\n",
       "      <td>1</td>\n",
       "    </tr>\n",
       "    <tr>\n",
       "      <th>...</th>\n",
       "      <td>...</td>\n",
       "      <td>...</td>\n",
       "      <td>...</td>\n",
       "      <td>...</td>\n",
       "      <td>...</td>\n",
       "    </tr>\n",
       "    <tr>\n",
       "      <th>95</th>\n",
       "      <td>-0.988204</td>\n",
       "      <td>0.934396</td>\n",
       "      <td>0.131865</td>\n",
       "      <td>-0.158939</td>\n",
       "      <td>1</td>\n",
       "    </tr>\n",
       "    <tr>\n",
       "      <th>96</th>\n",
       "      <td>-2.057470</td>\n",
       "      <td>2.869821</td>\n",
       "      <td>-0.887651</td>\n",
       "      <td>-0.741163</td>\n",
       "      <td>1</td>\n",
       "    </tr>\n",
       "    <tr>\n",
       "      <th>97</th>\n",
       "      <td>-1.669722</td>\n",
       "      <td>2.168812</td>\n",
       "      <td>-0.018603</td>\n",
       "      <td>0.607099</td>\n",
       "      <td>1</td>\n",
       "    </tr>\n",
       "    <tr>\n",
       "      <th>98</th>\n",
       "      <td>-1.011851</td>\n",
       "      <td>0.973641</td>\n",
       "      <td>-0.474993</td>\n",
       "      <td>-0.509644</td>\n",
       "      <td>1</td>\n",
       "    </tr>\n",
       "    <tr>\n",
       "      <th>99</th>\n",
       "      <td>-1.578463</td>\n",
       "      <td>2.076695</td>\n",
       "      <td>0.200962</td>\n",
       "      <td>2.533324</td>\n",
       "      <td>1</td>\n",
       "    </tr>\n",
       "  </tbody>\n",
       "</table>\n",
       "<p>100 rows × 5 columns</p>\n",
       "</div>"
      ],
      "text/plain": [
       "          x0        x1        x2        x3  target\n",
       "0  -1.244674  1.452124 -1.184385 -0.839169       1\n",
       "1  -1.662920 -0.375804 -0.956673  0.380114       0\n",
       "2  -1.926513  0.792104 -1.203904 -0.728801       1\n",
       "3  -1.455014 -0.472972  0.500495 -0.809670       0\n",
       "4  -1.255422  1.348182  0.827424 -0.334090       1\n",
       "..       ...       ...       ...       ...     ...\n",
       "95 -0.988204  0.934396  0.131865 -0.158939       1\n",
       "96 -2.057470  2.869821 -0.887651 -0.741163       1\n",
       "97 -1.669722  2.168812 -0.018603  0.607099       1\n",
       "98 -1.011851  0.973641 -0.474993 -0.509644       1\n",
       "99 -1.578463  2.076695  0.200962  2.533324       1\n",
       "\n",
       "[100 rows x 5 columns]"
      ]
     },
     "execution_count": 14,
     "metadata": {},
     "output_type": "execute_result"
    }
   ],
   "source": [
    "df2"
   ]
  },
  {
   "cell_type": "code",
   "execution_count": 16,
   "id": "41b7247b-0a36-49a7-b036-2077a70b2d45",
   "metadata": {},
   "outputs": [
    {
     "data": {
      "text/plain": [
       "x0        False\n",
       "x1        False\n",
       "x2        False\n",
       "x3        False\n",
       "target    False\n",
       "dtype: bool"
      ]
     },
     "execution_count": 16,
     "metadata": {},
     "output_type": "execute_result"
    }
   ],
   "source": [
    "df2.isnull().any(axis=0)"
   ]
  },
  {
   "cell_type": "code",
   "execution_count": 17,
   "id": "cf1cc3c0-395d-48a6-8590-6543e946921a",
   "metadata": {},
   "outputs": [],
   "source": [
    "from sklearn.model_selection import train_test_split"
   ]
  },
  {
   "cell_type": "code",
   "execution_count": 18,
   "id": "d581e3eb-325b-4cc6-82c3-cc03bc42cdb2",
   "metadata": {},
   "outputs": [],
   "source": [
    "tmp = ['x0','x1','x2','x3']"
   ]
  },
  {
   "cell_type": "code",
   "execution_count": 19,
   "id": "beaf3fd3-871a-4ef2-a3ad-2ace1cdb3273",
   "metadata": {},
   "outputs": [],
   "source": [
    "x = df2[tmp]"
   ]
  },
  {
   "cell_type": "code",
   "execution_count": 20,
   "id": "a4c6e1cb-93ab-48e8-bad4-18f4016bdffa",
   "metadata": {},
   "outputs": [
    {
     "data": {
      "text/html": [
       "<div>\n",
       "<style scoped>\n",
       "    .dataframe tbody tr th:only-of-type {\n",
       "        vertical-align: middle;\n",
       "    }\n",
       "\n",
       "    .dataframe tbody tr th {\n",
       "        vertical-align: top;\n",
       "    }\n",
       "\n",
       "    .dataframe thead th {\n",
       "        text-align: right;\n",
       "    }\n",
       "</style>\n",
       "<table border=\"1\" class=\"dataframe\">\n",
       "  <thead>\n",
       "    <tr style=\"text-align: right;\">\n",
       "      <th></th>\n",
       "      <th>x0</th>\n",
       "      <th>x1</th>\n",
       "      <th>x2</th>\n",
       "      <th>x3</th>\n",
       "    </tr>\n",
       "  </thead>\n",
       "  <tbody>\n",
       "    <tr>\n",
       "      <th>0</th>\n",
       "      <td>-1.244674</td>\n",
       "      <td>1.452124</td>\n",
       "      <td>-1.184385</td>\n",
       "      <td>-0.839169</td>\n",
       "    </tr>\n",
       "    <tr>\n",
       "      <th>1</th>\n",
       "      <td>-1.662920</td>\n",
       "      <td>-0.375804</td>\n",
       "      <td>-0.956673</td>\n",
       "      <td>0.380114</td>\n",
       "    </tr>\n",
       "    <tr>\n",
       "      <th>2</th>\n",
       "      <td>-1.926513</td>\n",
       "      <td>0.792104</td>\n",
       "      <td>-1.203904</td>\n",
       "      <td>-0.728801</td>\n",
       "    </tr>\n",
       "    <tr>\n",
       "      <th>3</th>\n",
       "      <td>-1.455014</td>\n",
       "      <td>-0.472972</td>\n",
       "      <td>0.500495</td>\n",
       "      <td>-0.809670</td>\n",
       "    </tr>\n",
       "    <tr>\n",
       "      <th>4</th>\n",
       "      <td>-1.255422</td>\n",
       "      <td>1.348182</td>\n",
       "      <td>0.827424</td>\n",
       "      <td>-0.334090</td>\n",
       "    </tr>\n",
       "    <tr>\n",
       "      <th>...</th>\n",
       "      <td>...</td>\n",
       "      <td>...</td>\n",
       "      <td>...</td>\n",
       "      <td>...</td>\n",
       "    </tr>\n",
       "    <tr>\n",
       "      <th>95</th>\n",
       "      <td>-0.988204</td>\n",
       "      <td>0.934396</td>\n",
       "      <td>0.131865</td>\n",
       "      <td>-0.158939</td>\n",
       "    </tr>\n",
       "    <tr>\n",
       "      <th>96</th>\n",
       "      <td>-2.057470</td>\n",
       "      <td>2.869821</td>\n",
       "      <td>-0.887651</td>\n",
       "      <td>-0.741163</td>\n",
       "    </tr>\n",
       "    <tr>\n",
       "      <th>97</th>\n",
       "      <td>-1.669722</td>\n",
       "      <td>2.168812</td>\n",
       "      <td>-0.018603</td>\n",
       "      <td>0.607099</td>\n",
       "    </tr>\n",
       "    <tr>\n",
       "      <th>98</th>\n",
       "      <td>-1.011851</td>\n",
       "      <td>0.973641</td>\n",
       "      <td>-0.474993</td>\n",
       "      <td>-0.509644</td>\n",
       "    </tr>\n",
       "    <tr>\n",
       "      <th>99</th>\n",
       "      <td>-1.578463</td>\n",
       "      <td>2.076695</td>\n",
       "      <td>0.200962</td>\n",
       "      <td>2.533324</td>\n",
       "    </tr>\n",
       "  </tbody>\n",
       "</table>\n",
       "<p>100 rows × 4 columns</p>\n",
       "</div>"
      ],
      "text/plain": [
       "          x0        x1        x2        x3\n",
       "0  -1.244674  1.452124 -1.184385 -0.839169\n",
       "1  -1.662920 -0.375804 -0.956673  0.380114\n",
       "2  -1.926513  0.792104 -1.203904 -0.728801\n",
       "3  -1.455014 -0.472972  0.500495 -0.809670\n",
       "4  -1.255422  1.348182  0.827424 -0.334090\n",
       "..       ...       ...       ...       ...\n",
       "95 -0.988204  0.934396  0.131865 -0.158939\n",
       "96 -2.057470  2.869821 -0.887651 -0.741163\n",
       "97 -1.669722  2.168812 -0.018603  0.607099\n",
       "98 -1.011851  0.973641 -0.474993 -0.509644\n",
       "99 -1.578463  2.076695  0.200962  2.533324\n",
       "\n",
       "[100 rows x 4 columns]"
      ]
     },
     "execution_count": 20,
     "metadata": {},
     "output_type": "execute_result"
    }
   ],
   "source": [
    "x"
   ]
  },
  {
   "cell_type": "code",
   "execution_count": 21,
   "id": "eb084fe0-ef90-4bd3-b22f-b491d6583d34",
   "metadata": {},
   "outputs": [],
   "source": [
    "t = df2['target']"
   ]
  },
  {
   "cell_type": "code",
   "execution_count": 22,
   "id": "c99d3447-511f-484b-b95d-5ff13423f53a",
   "metadata": {},
   "outputs": [],
   "source": [
    "x_train,x_test,y_train,y_test = train_test_split(x,t,test_size=0.3, random_state=0)"
   ]
  },
  {
   "cell_type": "code",
   "execution_count": 23,
   "id": "92ead6b4-3f9a-4243-bf22-afd917ff8c5b",
   "metadata": {},
   "outputs": [],
   "source": [
    "from sklearn import tree"
   ]
  },
  {
   "cell_type": "code",
   "execution_count": 24,
   "id": "c6aed43e-66a3-4bad-a074-d461481c3c39",
   "metadata": {},
   "outputs": [],
   "source": [
    "model = tree.DecisionTreeClassifier(max_depth=3,random_state=0)"
   ]
  },
  {
   "cell_type": "code",
   "execution_count": 25,
   "id": "c4f2e18b-0975-4029-9653-893c8e9e001c",
   "metadata": {},
   "outputs": [
    {
     "data": {
      "text/plain": [
       "DecisionTreeClassifier(max_depth=3, random_state=0)"
      ]
     },
     "execution_count": 25,
     "metadata": {},
     "output_type": "execute_result"
    }
   ],
   "source": [
    "model.fit(x_train,y_train)"
   ]
  },
  {
   "cell_type": "code",
   "execution_count": 26,
   "id": "41100014-0199-4049-904b-fc9bcb7cda31",
   "metadata": {},
   "outputs": [
    {
     "data": {
      "text/plain": [
       "0.9666666666666667"
      ]
     },
     "execution_count": 26,
     "metadata": {},
     "output_type": "execute_result"
    }
   ],
   "source": [
    "model.score(x_test,y_test)"
   ]
  },
  {
   "cell_type": "code",
   "execution_count": 31,
   "id": "7fe43456-533c-44c0-8cfb-cd177361e2f9",
   "metadata": {},
   "outputs": [],
   "source": [
    "data = [[1.56,0.23,-1.1,-2.8]]"
   ]
  },
  {
   "cell_type": "code",
   "execution_count": 32,
   "id": "0aaf5942-05d7-4f73-961c-f2919619e124",
   "metadata": {},
   "outputs": [
    {
     "name": "stderr",
     "output_type": "stream",
     "text": [
      "C:\\JupyterLab\\resources\\jlab_server\\lib\\site-packages\\sklearn\\base.py:445: UserWarning: X does not have valid feature names, but DecisionTreeClassifier was fitted with feature names\n",
      "  warnings.warn(\n"
     ]
    },
    {
     "data": {
      "text/plain": [
       "array([1], dtype=int64)"
      ]
     },
     "execution_count": 32,
     "metadata": {},
     "output_type": "execute_result"
    }
   ],
   "source": [
    "model.predict(data)"
   ]
  },
  {
   "cell_type": "code",
   "execution_count": null,
   "id": "badd26ed-6d1b-49ba-ab4b-e599f828c5dd",
   "metadata": {},
   "outputs": [],
   "source": []
  }
 ],
 "metadata": {
  "kernelspec": {
   "display_name": "Python 3 (ipykernel)",
   "language": "python",
   "name": "python3"
  },
  "language_info": {
   "codemirror_mode": {
    "name": "ipython",
    "version": 3
   },
   "file_extension": ".py",
   "mimetype": "text/x-python",
   "name": "python",
   "nbconvert_exporter": "python",
   "pygments_lexer": "ipython3",
   "version": "3.8.12"
  }
 },
 "nbformat": 4,
 "nbformat_minor": 5
}
